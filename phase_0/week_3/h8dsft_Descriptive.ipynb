{
 "cells": [
  {
   "cell_type": "markdown",
   "metadata": {},
   "source": [
    "# Non Graded Challenge 11\n",
    "- Muhammad Fadlil Ismail\n",
    "- FTDS Batch 10 Phase 0"
   ]
  },
  {
   "cell_type": "markdown",
   "metadata": {},
   "source": [
    "## Soal\n",
    "1. Cari Measure of Central Tendency dari data tersebut.\n",
    "2. Cari Measure of Variance dari data tersebut.\n",
    "\n",
    "dataset:\n",
    "https://github.com/mfadlili/learning_journal/blob/main/phase_0/week_3/data-2.csv?raw=true"
   ]
  },
  {
   "cell_type": "markdown",
   "metadata": {},
   "source": [
    "## Import Library"
   ]
  },
  {
   "cell_type": "code",
   "execution_count": 2,
   "metadata": {},
   "outputs": [],
   "source": [
    "import numpy as np\n",
    "import pandas as pd\n",
    "import matplotlib.pyplot as plt"
   ]
  },
  {
   "cell_type": "markdown",
   "metadata": {},
   "source": [
    "## Load Dataset"
   ]
  },
  {
   "cell_type": "code",
   "execution_count": 4,
   "metadata": {},
   "outputs": [
    {
     "data": {
      "text/html": [
       "<div>\n",
       "<style scoped>\n",
       "    .dataframe tbody tr th:only-of-type {\n",
       "        vertical-align: middle;\n",
       "    }\n",
       "\n",
       "    .dataframe tbody tr th {\n",
       "        vertical-align: top;\n",
       "    }\n",
       "\n",
       "    .dataframe thead th {\n",
       "        text-align: right;\n",
       "    }\n",
       "</style>\n",
       "<table border=\"1\" class=\"dataframe\">\n",
       "  <thead>\n",
       "    <tr style=\"text-align: right;\">\n",
       "      <th></th>\n",
       "      <th>Date</th>\n",
       "      <th>Location ISO Code</th>\n",
       "      <th>Location</th>\n",
       "      <th>New Cases</th>\n",
       "      <th>New Deaths</th>\n",
       "      <th>New Recovered</th>\n",
       "      <th>New Active Cases</th>\n",
       "      <th>Total Cases</th>\n",
       "      <th>Total Deaths</th>\n",
       "      <th>Total Recovered</th>\n",
       "      <th>...</th>\n",
       "      <th>Latitude</th>\n",
       "      <th>New Cases per Million</th>\n",
       "      <th>Total Cases per Million</th>\n",
       "      <th>New Deaths per Million</th>\n",
       "      <th>Total Deaths per Million</th>\n",
       "      <th>Total Deaths per 100rb</th>\n",
       "      <th>Case Fatality Rate</th>\n",
       "      <th>Case Recovered Rate</th>\n",
       "      <th>Growth Factor of New Cases</th>\n",
       "      <th>Growth Factor of New Deaths</th>\n",
       "    </tr>\n",
       "  </thead>\n",
       "  <tbody>\n",
       "    <tr>\n",
       "      <th>0</th>\n",
       "      <td>3/1/2020</td>\n",
       "      <td>ID-JK</td>\n",
       "      <td>DKI Jakarta</td>\n",
       "      <td>2</td>\n",
       "      <td>0</td>\n",
       "      <td>0</td>\n",
       "      <td>2</td>\n",
       "      <td>39</td>\n",
       "      <td>20</td>\n",
       "      <td>41</td>\n",
       "      <td>...</td>\n",
       "      <td>-6.204699</td>\n",
       "      <td>0.18</td>\n",
       "      <td>3.60</td>\n",
       "      <td>0.0</td>\n",
       "      <td>1.84</td>\n",
       "      <td>0.18</td>\n",
       "      <td>51.28%</td>\n",
       "      <td>105.13%</td>\n",
       "      <td>NaN</td>\n",
       "      <td>NaN</td>\n",
       "    </tr>\n",
       "    <tr>\n",
       "      <th>1</th>\n",
       "      <td>3/2/2020</td>\n",
       "      <td>ID-JK</td>\n",
       "      <td>DKI Jakarta</td>\n",
       "      <td>2</td>\n",
       "      <td>0</td>\n",
       "      <td>0</td>\n",
       "      <td>2</td>\n",
       "      <td>41</td>\n",
       "      <td>20</td>\n",
       "      <td>41</td>\n",
       "      <td>...</td>\n",
       "      <td>-6.204699</td>\n",
       "      <td>0.18</td>\n",
       "      <td>3.78</td>\n",
       "      <td>0.0</td>\n",
       "      <td>1.84</td>\n",
       "      <td>0.18</td>\n",
       "      <td>48.78%</td>\n",
       "      <td>100.00%</td>\n",
       "      <td>1.0</td>\n",
       "      <td>1.0</td>\n",
       "    </tr>\n",
       "    <tr>\n",
       "      <th>2</th>\n",
       "      <td>3/2/2020</td>\n",
       "      <td>IDN</td>\n",
       "      <td>Indonesia</td>\n",
       "      <td>2</td>\n",
       "      <td>0</td>\n",
       "      <td>0</td>\n",
       "      <td>2</td>\n",
       "      <td>2</td>\n",
       "      <td>0</td>\n",
       "      <td>0</td>\n",
       "      <td>...</td>\n",
       "      <td>-0.789275</td>\n",
       "      <td>0.01</td>\n",
       "      <td>0.01</td>\n",
       "      <td>0.0</td>\n",
       "      <td>0.00</td>\n",
       "      <td>0.00</td>\n",
       "      <td>0.00%</td>\n",
       "      <td>0.00%</td>\n",
       "      <td>NaN</td>\n",
       "      <td>NaN</td>\n",
       "    </tr>\n",
       "    <tr>\n",
       "      <th>3</th>\n",
       "      <td>3/2/2020</td>\n",
       "      <td>ID-RI</td>\n",
       "      <td>Riau</td>\n",
       "      <td>1</td>\n",
       "      <td>0</td>\n",
       "      <td>0</td>\n",
       "      <td>1</td>\n",
       "      <td>2</td>\n",
       "      <td>0</td>\n",
       "      <td>3</td>\n",
       "      <td>...</td>\n",
       "      <td>0.511648</td>\n",
       "      <td>0.16</td>\n",
       "      <td>0.33</td>\n",
       "      <td>0.0</td>\n",
       "      <td>0.00</td>\n",
       "      <td>0.00</td>\n",
       "      <td>0.00%</td>\n",
       "      <td>150.00%</td>\n",
       "      <td>NaN</td>\n",
       "      <td>NaN</td>\n",
       "    </tr>\n",
       "    <tr>\n",
       "      <th>4</th>\n",
       "      <td>3/3/2020</td>\n",
       "      <td>ID-JK</td>\n",
       "      <td>DKI Jakarta</td>\n",
       "      <td>2</td>\n",
       "      <td>0</td>\n",
       "      <td>0</td>\n",
       "      <td>2</td>\n",
       "      <td>43</td>\n",
       "      <td>20</td>\n",
       "      <td>41</td>\n",
       "      <td>...</td>\n",
       "      <td>-6.204699</td>\n",
       "      <td>0.18</td>\n",
       "      <td>3.96</td>\n",
       "      <td>0.0</td>\n",
       "      <td>1.84</td>\n",
       "      <td>0.18</td>\n",
       "      <td>46.51%</td>\n",
       "      <td>95.35%</td>\n",
       "      <td>1.0</td>\n",
       "      <td>1.0</td>\n",
       "    </tr>\n",
       "  </tbody>\n",
       "</table>\n",
       "<p>5 rows × 38 columns</p>\n",
       "</div>"
      ],
      "text/plain": [
       "       Date Location ISO Code     Location  New Cases  New Deaths  \\\n",
       "0  3/1/2020             ID-JK  DKI Jakarta          2           0   \n",
       "1  3/2/2020             ID-JK  DKI Jakarta          2           0   \n",
       "2  3/2/2020               IDN    Indonesia          2           0   \n",
       "3  3/2/2020             ID-RI         Riau          1           0   \n",
       "4  3/3/2020             ID-JK  DKI Jakarta          2           0   \n",
       "\n",
       "   New Recovered  New Active Cases  Total Cases  Total Deaths  \\\n",
       "0              0                 2           39            20   \n",
       "1              0                 2           41            20   \n",
       "2              0                 2            2             0   \n",
       "3              0                 1            2             0   \n",
       "4              0                 2           43            20   \n",
       "\n",
       "   Total Recovered  ...  Latitude New Cases per Million  \\\n",
       "0               41  ... -6.204699                  0.18   \n",
       "1               41  ... -6.204699                  0.18   \n",
       "2                0  ... -0.789275                  0.01   \n",
       "3                3  ...  0.511648                  0.16   \n",
       "4               41  ... -6.204699                  0.18   \n",
       "\n",
       "   Total Cases per Million New Deaths per Million Total Deaths per Million  \\\n",
       "0                     3.60                    0.0                     1.84   \n",
       "1                     3.78                    0.0                     1.84   \n",
       "2                     0.01                    0.0                     0.00   \n",
       "3                     0.33                    0.0                     0.00   \n",
       "4                     3.96                    0.0                     1.84   \n",
       "\n",
       "  Total Deaths per 100rb Case Fatality Rate Case Recovered Rate  \\\n",
       "0                   0.18             51.28%             105.13%   \n",
       "1                   0.18             48.78%             100.00%   \n",
       "2                   0.00              0.00%               0.00%   \n",
       "3                   0.00              0.00%             150.00%   \n",
       "4                   0.18             46.51%              95.35%   \n",
       "\n",
       "  Growth Factor of New Cases  Growth Factor of New Deaths  \n",
       "0                        NaN                          NaN  \n",
       "1                        1.0                          1.0  \n",
       "2                        NaN                          NaN  \n",
       "3                        NaN                          NaN  \n",
       "4                        1.0                          1.0  \n",
       "\n",
       "[5 rows x 38 columns]"
      ]
     },
     "execution_count": 4,
     "metadata": {},
     "output_type": "execute_result"
    }
   ],
   "source": [
    "df = pd.read_csv('https://github.com/mfadlili/learning_journal/blob/main/phase_0/week_3/covid_19_indonesia_time_series_all.csv?raw=true')\n",
    "df.head()"
   ]
  },
  {
   "cell_type": "markdown",
   "metadata": {},
   "source": [
    "## Exploratory Data Analysis"
   ]
  },
  {
   "cell_type": "code",
   "execution_count": 5,
   "metadata": {},
   "outputs": [
    {
     "data": {
      "text/plain": [
       "Date                               0\n",
       "Location ISO Code                  0\n",
       "Location                           0\n",
       "New Cases                          0\n",
       "New Deaths                         0\n",
       "New Recovered                      0\n",
       "New Active Cases                   0\n",
       "Total Cases                        0\n",
       "Total Deaths                       0\n",
       "Total Recovered                    0\n",
       "Total Active Cases                 0\n",
       "Location Level                     0\n",
       "City or Regency                21759\n",
       "Province                         642\n",
       "Country                            0\n",
       "Continent                          0\n",
       "Island                           642\n",
       "Time Zone                        642\n",
       "Special Status                 18636\n",
       "Total Regencies                    0\n",
       "Total Cities                     614\n",
       "Total Districts                    0\n",
       "Total Urban Villages             617\n",
       "Total Rural Villages             642\n",
       "Area (km2)                         0\n",
       "Population                         0\n",
       "Population Density                 0\n",
       "Longitude                          0\n",
       "Latitude                           0\n",
       "New Cases per Million              0\n",
       "Total Cases per Million            0\n",
       "New Deaths per Million             0\n",
       "Total Deaths per Million           0\n",
       "Total Deaths per 100rb             0\n",
       "Case Fatality Rate                 0\n",
       "Case Recovered Rate                0\n",
       "Growth Factor of New Cases      1187\n",
       "Growth Factor of New Deaths     2467\n",
       "dtype: int64"
      ]
     },
     "execution_count": 5,
     "metadata": {},
     "output_type": "execute_result"
    }
   ],
   "source": [
    "df.isna().sum()"
   ]
  },
  {
   "cell_type": "code",
   "execution_count": 6,
   "metadata": {},
   "outputs": [
    {
     "data": {
      "text/plain": [
       "array(['3/1/2020', '3/2/2020', '3/3/2020', '3/4/2020', '3/5/2020',\n",
       "       '3/6/2020', '3/7/2020', '3/8/2020', '3/9/2020', '3/10/2020',\n",
       "       '3/11/2020', '3/12/2020', '3/13/2020', '3/14/2020', '3/15/2020',\n",
       "       '3/16/2020', '3/17/2020', '3/18/2020', '3/19/2020', '3/20/2020',\n",
       "       '3/21/2020', '3/22/2020', '3/23/2020', '3/24/2020', '3/25/2020',\n",
       "       '3/26/2020', '3/27/2020', '3/28/2020', '3/29/2020', '3/30/2020',\n",
       "       '3/31/2020', '4/1/2020', '4/2/2020', '4/3/2020', '4/4/2020',\n",
       "       '4/5/2020', '4/6/2020', '4/7/2020', '4/8/2020', '4/9/2020',\n",
       "       '4/10/2020', '4/11/2020', '4/12/2020', '4/13/2020', '4/14/2020',\n",
       "       '4/15/2020', '4/16/2020', '4/17/2020', '4/18/2020', '4/19/2020',\n",
       "       '4/20/2020', '4/21/2020', '4/22/2020', '4/23/2020', '4/24/2020',\n",
       "       '4/25/2020', '4/26/2020', '4/27/2020', '4/28/2020', '4/29/2020',\n",
       "       '4/30/2020', '5/1/2020', '5/2/2020', '5/3/2020', '5/4/2020',\n",
       "       '5/5/2020', '5/6/2020', '5/7/2020', '5/8/2020', '5/9/2020',\n",
       "       '5/10/2020', '5/11/2020', '5/12/2020', '5/13/2020', '5/14/2020',\n",
       "       '5/15/2020', '5/16/2020', '5/17/2020', '5/18/2020', '5/19/2020',\n",
       "       '5/20/2020', '5/21/2020', '5/22/2020', '5/23/2020', '5/24/2020',\n",
       "       '5/25/2020', '5/26/2020', '5/27/2020', '5/28/2020', '5/29/2020',\n",
       "       '5/30/2020', '5/31/2020', '6/1/2020', '6/2/2020', '6/3/2020',\n",
       "       '6/4/2020', '6/5/2020', '6/6/2020', '6/7/2020', '6/8/2020',\n",
       "       '6/9/2020', '6/10/2020', '6/11/2020', '6/12/2020', '6/13/2020',\n",
       "       '6/14/2020', '6/15/2020', '6/16/2020', '6/17/2020', '6/18/2020',\n",
       "       '6/19/2020', '6/20/2020', '6/21/2020', '6/22/2020', '6/23/2020',\n",
       "       '6/24/2020', '6/25/2020', '6/26/2020', '6/27/2020', '6/28/2020',\n",
       "       '6/29/2020', '6/30/2020', '7/1/2020', '7/2/2020', '7/3/2020',\n",
       "       '7/4/2020', '7/5/2020', '7/6/2020', '7/7/2020', '7/8/2020',\n",
       "       '7/9/2020', '7/10/2020', '7/11/2020', '7/12/2020', '7/13/2020',\n",
       "       '7/14/2020', '7/15/2020', '7/16/2020', '7/17/2020', '7/18/2020',\n",
       "       '7/19/2020', '7/20/2020', '7/21/2020', '7/22/2020', '7/23/2020',\n",
       "       '7/24/2020', '7/25/2020', '7/26/2020', '7/27/2020', '7/28/2020',\n",
       "       '7/29/2020', '7/30/2020', '7/31/2020', '8/1/2020', '8/2/2020',\n",
       "       '8/3/2020', '8/4/2020', '8/5/2020', '8/6/2020', '8/7/2020',\n",
       "       '8/8/2020', '8/9/2020', '8/10/2020', '8/11/2020', '8/12/2020',\n",
       "       '8/13/2020', '8/14/2020', '8/15/2020', '8/16/2020', '8/17/2020',\n",
       "       '8/18/2020', '8/19/2020', '8/20/2020', '8/21/2020', '8/22/2020',\n",
       "       '8/23/2020', '8/24/2020', '8/25/2020', '8/26/2020', '8/27/2020',\n",
       "       '8/28/2020', '8/29/2020', '8/30/2020', '8/31/2020', '9/1/2020',\n",
       "       '9/2/2020', '9/3/2020', '9/4/2020', '9/5/2020', '9/6/2020',\n",
       "       '9/7/2020', '9/8/2020', '9/9/2020', '9/10/2020', '9/11/2020',\n",
       "       '9/12/2020', '9/13/2020', '9/14/2020', '9/15/2020', '9/16/2020',\n",
       "       '9/17/2020', '9/18/2020', '9/19/2020', '9/20/2020', '9/21/2020',\n",
       "       '9/22/2020', '9/23/2020', '9/24/2020', '9/25/2020', '9/26/2020',\n",
       "       '9/27/2020', '9/28/2020', '9/29/2020', '9/30/2020', '10/1/2020',\n",
       "       '10/2/2020', '10/3/2020', '10/4/2020', '10/5/2020', '10/6/2020',\n",
       "       '10/7/2020', '10/8/2020', '10/9/2020', '10/10/2020', '10/11/2020',\n",
       "       '10/12/2020', '10/13/2020', '10/14/2020', '10/15/2020',\n",
       "       '10/16/2020', '10/17/2020', '10/18/2020', '10/19/2020',\n",
       "       '10/20/2020', '10/21/2020', '10/22/2020', '10/23/2020',\n",
       "       '10/24/2020', '10/25/2020', '10/26/2020', '10/27/2020',\n",
       "       '10/28/2020', '10/29/2020', '10/30/2020', '10/31/2020',\n",
       "       '11/1/2020', '11/2/2020', '11/3/2020', '11/4/2020', '11/5/2020',\n",
       "       '11/6/2020', '11/7/2020', '11/8/2020', '11/9/2020', '11/10/2020',\n",
       "       '11/11/2020', '11/12/2020', '11/13/2020', '11/14/2020',\n",
       "       '11/15/2020', '11/16/2020', '11/17/2020', '11/18/2020',\n",
       "       '11/19/2020', '11/20/2020', '11/21/2020', '11/22/2020',\n",
       "       '11/23/2020', '11/24/2020', '11/25/2020', '11/26/2020',\n",
       "       '11/27/2020', '11/28/2020', '11/29/2020', '11/30/2020',\n",
       "       '12/1/2020', '12/2/2020', '12/3/2020', '12/4/2020', '12/5/2020',\n",
       "       '12/6/2020', '12/7/2020', '12/8/2020', '12/9/2020', '12/10/2020',\n",
       "       '12/11/2020', '12/12/2020', '12/13/2020', '12/14/2020',\n",
       "       '12/15/2020', '12/16/2020', '12/17/2020', '12/18/2020',\n",
       "       '12/19/2020', '12/20/2020', '12/21/2020', '12/22/2020',\n",
       "       '12/23/2020', '12/24/2020', '12/25/2020', '12/26/2020',\n",
       "       '12/27/2020', '12/28/2020', '12/29/2020', '12/30/2020',\n",
       "       '12/31/2020', '1/1/2021', '1/2/2021', '1/3/2021', '1/4/2021',\n",
       "       '1/5/2021', '1/6/2021', '1/7/2021', '1/8/2021', '1/9/2021',\n",
       "       '1/10/2021', '1/11/2021', '1/12/2021', '1/13/2021', '1/14/2021',\n",
       "       '1/15/2021', '1/16/2021', '1/17/2021', '1/18/2021', '1/19/2021',\n",
       "       '1/20/2021', '1/21/2021', '1/22/2021', '1/23/2021', '1/24/2021',\n",
       "       '1/25/2021', '1/26/2021', '1/27/2021', '1/28/2021', '1/29/2021',\n",
       "       '1/30/2021', '1/31/2021', '2/1/2021', '2/2/2021', '2/3/2021',\n",
       "       '2/4/2021', '2/5/2021', '2/6/2021', '2/7/2021', '2/8/2021',\n",
       "       '2/9/2021', '2/10/2021', '2/11/2021', '2/12/2021', '2/13/2021',\n",
       "       '2/14/2021', '2/15/2021', '2/16/2021', '2/17/2021', '2/18/2021',\n",
       "       '2/19/2021', '2/20/2021', '2/21/2021', '2/22/2021', '2/23/2021',\n",
       "       '2/24/2021', '2/25/2021', '2/26/2021', '2/27/2021', '2/28/2021',\n",
       "       '3/1/2021', '3/2/2021', '3/3/2021', '3/4/2021', '3/5/2021',\n",
       "       '3/6/2021', '3/7/2021', '3/8/2021', '3/9/2021', '3/10/2021',\n",
       "       '3/11/2021', '3/12/2021', '3/13/2021', '3/14/2021', '3/15/2021',\n",
       "       '3/16/2021', '3/17/2021', '3/18/2021', '3/19/2021', '3/20/2021',\n",
       "       '3/21/2021', '3/22/2021', '3/23/2021', '3/24/2021', '3/25/2021',\n",
       "       '3/26/2021', '3/27/2021', '3/28/2021', '3/29/2021', '3/30/2021',\n",
       "       '3/31/2021', '4/1/2021', '4/2/2021', '4/3/2021', '4/4/2021',\n",
       "       '4/5/2021', '4/6/2021', '4/7/2021', '4/8/2021', '4/9/2021',\n",
       "       '4/10/2021', '4/11/2021', '4/12/2021', '4/13/2021', '4/14/2021',\n",
       "       '4/15/2021', '4/16/2021', '4/17/2021', '4/18/2021', '4/19/2021',\n",
       "       '4/20/2021', '4/21/2021', '4/22/2021', '4/23/2021', '4/24/2021',\n",
       "       '4/25/2021', '4/26/2021', '4/27/2021', '4/28/2021', '4/29/2021',\n",
       "       '4/30/2021', '5/1/2021', '5/2/2021', '5/3/2021', '5/4/2021',\n",
       "       '5/5/2021', '5/6/2021', '5/7/2021', '5/8/2021', '5/9/2021',\n",
       "       '5/10/2021', '5/11/2021', '5/12/2021', '5/13/2021', '5/14/2021',\n",
       "       '5/15/2021', '5/16/2021', '5/17/2021', '5/18/2021', '5/19/2021',\n",
       "       '5/20/2021', '5/21/2021', '5/22/2021', '5/23/2021', '5/24/2021',\n",
       "       '5/25/2021', '5/26/2021', '5/27/2021', '5/28/2021', '5/29/2021',\n",
       "       '5/30/2021', '5/31/2021', '6/1/2021', '6/2/2021', '6/3/2021',\n",
       "       '6/4/2021', '6/5/2021', '6/6/2021', '6/7/2021', '6/8/2021',\n",
       "       '6/9/2021', '6/10/2021', '6/11/2021', '6/12/2021', '6/13/2021',\n",
       "       '6/14/2021', '6/15/2021', '6/16/2021', '6/17/2021', '6/18/2021',\n",
       "       '6/19/2021', '6/20/2021', '6/21/2021', '6/22/2021', '6/23/2021',\n",
       "       '6/24/2021', '6/25/2021', '6/26/2021', '6/27/2021', '6/28/2021',\n",
       "       '6/29/2021', '6/30/2021', '7/1/2021', '7/2/2021', '7/3/2021',\n",
       "       '7/4/2021', '7/5/2021', '7/6/2021', '7/7/2021', '7/8/2021',\n",
       "       '7/9/2021', '7/10/2021', '7/11/2021', '7/12/2021', '7/13/2021',\n",
       "       '7/14/2021', '7/15/2021', '7/16/2021', '7/17/2021', '7/18/2021',\n",
       "       '7/19/2021', '7/20/2021', '7/21/2021', '7/22/2021', '7/23/2021',\n",
       "       '7/24/2021', '7/25/2021', '7/26/2021', '7/27/2021', '7/28/2021',\n",
       "       '7/29/2021', '7/30/2021', '7/31/2021', '8/1/2021', '8/2/2021',\n",
       "       '8/3/2021', '8/4/2021', '8/5/2021', '8/6/2021', '8/7/2021',\n",
       "       '8/8/2021', '8/9/2021', '8/10/2021', '8/11/2021', '8/12/2021',\n",
       "       '8/13/2021', '8/14/2021', '8/15/2021', '8/16/2021', '8/17/2021',\n",
       "       '8/18/2021', '8/19/2021', '8/20/2021', '8/21/2021', '8/22/2021',\n",
       "       '8/23/2021', '8/24/2021', '8/25/2021', '8/26/2021', '8/27/2021',\n",
       "       '8/28/2021', '8/29/2021', '8/30/2021', '8/31/2021', '9/1/2021',\n",
       "       '9/2/2021', '9/3/2021', '9/4/2021', '9/5/2021', '9/6/2021',\n",
       "       '9/7/2021', '9/8/2021', '9/9/2021', '9/10/2021', '9/11/2021',\n",
       "       '9/12/2021', '9/13/2021', '9/14/2021', '9/15/2021', '9/16/2021',\n",
       "       '9/17/2021', '9/18/2021', '9/19/2021', '9/20/2021', '9/21/2021',\n",
       "       '9/22/2021', '9/23/2021', '9/24/2021', '9/25/2021', '9/26/2021',\n",
       "       '9/27/2021', '9/28/2021', '9/29/2021', '9/30/2021', '10/1/2021',\n",
       "       '10/2/2021', '10/3/2021', '10/4/2021', '10/5/2021', '10/6/2021',\n",
       "       '10/7/2021', '10/8/2021', '10/9/2021', '10/10/2021', '10/11/2021',\n",
       "       '10/12/2021', '10/13/2021', '10/14/2021', '10/15/2021',\n",
       "       '10/16/2021', '10/17/2021', '10/18/2021', '10/19/2021',\n",
       "       '10/20/2021', '10/21/2021', '10/22/2021', '10/23/2021',\n",
       "       '10/24/2021', '10/25/2021', '10/26/2021', '10/27/2021',\n",
       "       '10/28/2021', '10/29/2021', '10/30/2021', '10/31/2021',\n",
       "       '11/1/2021', '11/2/2021', '11/3/2021', '11/4/2021', '11/5/2021',\n",
       "       '11/6/2021', '11/7/2021', '11/8/2021', '11/9/2021', '11/10/2021',\n",
       "       '11/11/2021', '11/12/2021', '11/13/2021', '11/14/2021',\n",
       "       '11/15/2021', '11/16/2021', '11/17/2021', '11/18/2021',\n",
       "       '11/19/2021', '11/20/2021', '11/21/2021', '11/22/2021',\n",
       "       '11/23/2021', '11/24/2021', '11/25/2021', '11/26/2021',\n",
       "       '11/27/2021', '11/28/2021', '11/29/2021', '11/30/2021',\n",
       "       '12/1/2021', '12/2/2021', '12/3/2021'], dtype=object)"
      ]
     },
     "execution_count": 6,
     "metadata": {},
     "output_type": "execute_result"
    }
   ],
   "source": [
    "df.Date.unique()"
   ]
  },
  {
   "cell_type": "code",
   "execution_count": 7,
   "metadata": {},
   "outputs": [
    {
     "data": {
      "text/plain": [
       "Index(['Date', 'Location ISO Code', 'Location', 'New Cases', 'New Deaths',\n",
       "       'New Recovered', 'New Active Cases', 'Total Cases', 'Total Deaths',\n",
       "       'Total Recovered', 'Total Active Cases', 'Location Level',\n",
       "       'City or Regency', 'Province', 'Country', 'Continent', 'Island',\n",
       "       'Time Zone', 'Special Status', 'Total Regencies', 'Total Cities',\n",
       "       'Total Districts', 'Total Urban Villages', 'Total Rural Villages',\n",
       "       'Area (km2)', 'Population', 'Population Density', 'Longitude',\n",
       "       'Latitude', 'New Cases per Million', 'Total Cases per Million',\n",
       "       'New Deaths per Million', 'Total Deaths per Million',\n",
       "       'Total Deaths per 100rb', 'Case Fatality Rate', 'Case Recovered Rate',\n",
       "       'Growth Factor of New Cases', 'Growth Factor of New Deaths'],\n",
       "      dtype='object')"
      ]
     },
     "execution_count": 7,
     "metadata": {},
     "output_type": "execute_result"
    }
   ],
   "source": [
    "df.columns"
   ]
  },
  {
   "cell_type": "code",
   "execution_count": 10,
   "metadata": {},
   "outputs": [],
   "source": [
    "df['Date'] = pd.to_datetime(df['Date'])"
   ]
  },
  {
   "cell_type": "code",
   "execution_count": 11,
   "metadata": {},
   "outputs": [
    {
     "data": {
      "text/html": [
       "<div>\n",
       "<style scoped>\n",
       "    .dataframe tbody tr th:only-of-type {\n",
       "        vertical-align: middle;\n",
       "    }\n",
       "\n",
       "    .dataframe tbody tr th {\n",
       "        vertical-align: top;\n",
       "    }\n",
       "\n",
       "    .dataframe thead th {\n",
       "        text-align: right;\n",
       "    }\n",
       "</style>\n",
       "<table border=\"1\" class=\"dataframe\">\n",
       "  <thead>\n",
       "    <tr style=\"text-align: right;\">\n",
       "      <th></th>\n",
       "      <th>New Cases</th>\n",
       "    </tr>\n",
       "    <tr>\n",
       "      <th>Date</th>\n",
       "      <th></th>\n",
       "    </tr>\n",
       "  </thead>\n",
       "  <tbody>\n",
       "    <tr>\n",
       "      <th>2020-03-01</th>\n",
       "      <td>2</td>\n",
       "    </tr>\n",
       "    <tr>\n",
       "      <th>2020-03-02</th>\n",
       "      <td>5</td>\n",
       "    </tr>\n",
       "    <tr>\n",
       "      <th>2020-03-03</th>\n",
       "      <td>3</td>\n",
       "    </tr>\n",
       "    <tr>\n",
       "      <th>2020-03-04</th>\n",
       "      <td>3</td>\n",
       "    </tr>\n",
       "    <tr>\n",
       "      <th>2020-03-05</th>\n",
       "      <td>1</td>\n",
       "    </tr>\n",
       "    <tr>\n",
       "      <th>...</th>\n",
       "      <td>...</td>\n",
       "    </tr>\n",
       "    <tr>\n",
       "      <th>2021-11-29</th>\n",
       "      <td>353</td>\n",
       "    </tr>\n",
       "    <tr>\n",
       "      <th>2021-11-30</th>\n",
       "      <td>594</td>\n",
       "    </tr>\n",
       "    <tr>\n",
       "      <th>2021-12-01</th>\n",
       "      <td>556</td>\n",
       "    </tr>\n",
       "    <tr>\n",
       "      <th>2021-12-02</th>\n",
       "      <td>610</td>\n",
       "    </tr>\n",
       "    <tr>\n",
       "      <th>2021-12-03</th>\n",
       "      <td>245</td>\n",
       "    </tr>\n",
       "  </tbody>\n",
       "</table>\n",
       "<p>643 rows × 1 columns</p>\n",
       "</div>"
      ],
      "text/plain": [
       "            New Cases\n",
       "Date                 \n",
       "2020-03-01          2\n",
       "2020-03-02          5\n",
       "2020-03-03          3\n",
       "2020-03-04          3\n",
       "2020-03-05          1\n",
       "...               ...\n",
       "2021-11-29        353\n",
       "2021-11-30        594\n",
       "2021-12-01        556\n",
       "2021-12-02        610\n",
       "2021-12-03        245\n",
       "\n",
       "[643 rows x 1 columns]"
      ]
     },
     "execution_count": 11,
     "metadata": {},
     "output_type": "execute_result"
    }
   ],
   "source": [
    "df.groupby(['Date'])[['New Cases']].sum()"
   ]
  },
  {
   "cell_type": "markdown",
   "metadata": {},
   "source": [
    "## Measure of Central Tendency : Mean\n"
   ]
  },
  {
   "cell_type": "markdown",
   "metadata": {},
   "source": [
    "Menghitung rata-rata kasus harian baru sepanjang 1 Maret 2020 hingga 3 Desember 2021"
   ]
  },
  {
   "cell_type": "code",
   "execution_count": 27,
   "metadata": {},
   "outputs": [
    {
     "data": {
      "text/plain": [
       "13241.301710730948"
      ]
     },
     "execution_count": 27,
     "metadata": {},
     "output_type": "execute_result"
    }
   ],
   "source": [
    "df.groupby(['Date'])['New Cases'].sum().mean()"
   ]
  },
  {
   "cell_type": "markdown",
   "metadata": {},
   "source": [
    "Menghitung rata-rata new recovery sepanjang 1 Maret 2020 hingga 3 Desember 2021"
   ]
  },
  {
   "cell_type": "code",
   "execution_count": 28,
   "metadata": {},
   "outputs": [
    {
     "data": {
      "text/plain": [
       "12768.133748055987"
      ]
     },
     "execution_count": 28,
     "metadata": {},
     "output_type": "execute_result"
    }
   ],
   "source": [
    "df.groupby(['Date'])['New Recovered'].sum().mean()"
   ]
  },
  {
   "cell_type": "markdown",
   "metadata": {},
   "source": [
    "Menghitung rata-rata new deaths sepanjang 1 Maret 2020 hingga 3 Desember 2021"
   ]
  },
  {
   "cell_type": "code",
   "execution_count": 29,
   "metadata": {},
   "outputs": [
    {
     "data": {
      "text/plain": [
       "447.3763608087092"
      ]
     },
     "execution_count": 29,
     "metadata": {},
     "output_type": "execute_result"
    }
   ],
   "source": [
    "df.groupby(['Date'])['New Deaths'].sum().mean()"
   ]
  },
  {
   "cell_type": "markdown",
   "metadata": {},
   "source": [
    "## Measure of Central Tendency : Median"
   ]
  },
  {
   "cell_type": "markdown",
   "metadata": {},
   "source": [
    "Menghitung median kasus harian baru sepanjang 1 Maret 2020 hingga 3 Desember 2021"
   ]
  },
  {
   "cell_type": "code",
   "execution_count": 30,
   "metadata": {},
   "outputs": [
    {
     "data": {
      "text/plain": [
       "8180.0"
      ]
     },
     "execution_count": 30,
     "metadata": {},
     "output_type": "execute_result"
    }
   ],
   "source": [
    "df.groupby(['Date'])['New Cases'].sum().median()"
   ]
  },
  {
   "cell_type": "markdown",
   "metadata": {},
   "source": [
    "Menghitung median new recovered sepanjang 1 Maret 2020 hingga 3 Desember 2021"
   ]
  },
  {
   "cell_type": "code",
   "execution_count": 31,
   "metadata": {},
   "outputs": [
    {
     "data": {
      "text/plain": [
       "7721.0"
      ]
     },
     "execution_count": 31,
     "metadata": {},
     "output_type": "execute_result"
    }
   ],
   "source": [
    "df.groupby(['Date'])['New Recovered'].sum().median()"
   ]
  },
  {
   "cell_type": "markdown",
   "metadata": {},
   "source": [
    "Menghitung median new deaths sepanjang 1 Maret 2020 hingga 3 Desember 2021"
   ]
  },
  {
   "cell_type": "code",
   "execution_count": 32,
   "metadata": {},
   "outputs": [
    {
     "data": {
      "text/plain": [
       "223.0"
      ]
     },
     "execution_count": 32,
     "metadata": {},
     "output_type": "execute_result"
    }
   ],
   "source": [
    "df.groupby(['Date'])['New Deaths'].sum().median()"
   ]
  },
  {
   "cell_type": "markdown",
   "metadata": {},
   "source": [
    "## Measure of Central Tendency : Mode"
   ]
  },
  {
   "cell_type": "markdown",
   "metadata": {},
   "source": [
    "Menghitung modus kasus harian baru sepanjang 1 Maret 2020 hingga 3 Desember 2021"
   ]
  },
  {
   "cell_type": "code",
   "execution_count": 33,
   "metadata": {},
   "outputs": [
    {
     "data": {
      "text/plain": [
       "0    3\n",
       "dtype: int64"
      ]
     },
     "execution_count": 33,
     "metadata": {},
     "output_type": "execute_result"
    }
   ],
   "source": [
    "df.groupby(['Date'])['New Cases'].sum().mode()"
   ]
  },
  {
   "cell_type": "markdown",
   "metadata": {},
   "source": [
    "Menghitung modus new recovered sepanjang 1 Maret 2020 hingga 3 Desember 2021"
   ]
  },
  {
   "cell_type": "code",
   "execution_count": 34,
   "metadata": {},
   "outputs": [
    {
     "data": {
      "text/plain": [
       "0    0\n",
       "dtype: int64"
      ]
     },
     "execution_count": 34,
     "metadata": {},
     "output_type": "execute_result"
    }
   ],
   "source": [
    "df.groupby(['Date'])['New Recovered'].sum().mode()"
   ]
  },
  {
   "cell_type": "markdown",
   "metadata": {},
   "source": [
    "Menghitung modus new deaths sepanjang 1 Maret 2020 hingga 3 Desember 2021"
   ]
  },
  {
   "cell_type": "code",
   "execution_count": 35,
   "metadata": {},
   "outputs": [
    {
     "data": {
      "text/plain": [
       "0     28\n",
       "1    171\n",
       "dtype: int64"
      ]
     },
     "execution_count": 35,
     "metadata": {},
     "output_type": "execute_result"
    }
   ],
   "source": [
    "df.groupby(['Date'])['New Deaths'].sum().mode()"
   ]
  },
  {
   "cell_type": "markdown",
   "metadata": {},
   "source": [
    "## Measure of Variance"
   ]
  },
  {
   "cell_type": "markdown",
   "metadata": {},
   "source": [
    "Menghitung variance kasus harian baru sepanjang 1 Maret 2020 hingga 3 Desember 2021"
   ]
  },
  {
   "cell_type": "code",
   "execution_count": 37,
   "metadata": {},
   "outputs": [
    {
     "data": {
      "text/plain": [
       "363239419.10820574"
      ]
     },
     "execution_count": 37,
     "metadata": {},
     "output_type": "execute_result"
    }
   ],
   "source": [
    "pd.Series.var(df.groupby(['Date'])['New Cases'].sum())"
   ]
  },
  {
   "cell_type": "markdown",
   "metadata": {},
   "source": [
    "Menghitung variance new recovered sepanjang 1 Maret 2020 hingga 3 Desember 2021"
   ]
  },
  {
   "cell_type": "code",
   "execution_count": 38,
   "metadata": {},
   "outputs": [
    {
     "data": {
      "text/plain": [
       "325379504.9197781"
      ]
     },
     "execution_count": 38,
     "metadata": {},
     "output_type": "execute_result"
    }
   ],
   "source": [
    "pd.Series.var(df.groupby(['Date'])['New Recovered'].sum())"
   ]
  },
  {
   "cell_type": "markdown",
   "metadata": {},
   "source": [
    "Menghitung variance new deaths sepanjang 1 Maret 2020 hingga 3 Desember 2021"
   ]
  },
  {
   "cell_type": "code",
   "execution_count": 39,
   "metadata": {},
   "outputs": [
    {
     "data": {
      "text/plain": [
       "511286.26934686024"
      ]
     },
     "execution_count": 39,
     "metadata": {},
     "output_type": "execute_result"
    }
   ],
   "source": [
    "pd.Series.var(df.groupby(['Date'])['New Deaths'].sum())"
   ]
  },
  {
   "cell_type": "markdown",
   "metadata": {},
   "source": [
    "## Plot Histogram"
   ]
  },
  {
   "cell_type": "code",
   "execution_count": 44,
   "metadata": {},
   "outputs": [
    {
     "data": {
      "text/plain": [
       "(array([167.,  75.,  42.,  78.,  65.,  57.,  25.,  20.,  15.,  10.,  12.,\n",
       "          8.,   5.,   3.,   2.,   1.,   3.,   2.,   7.,   3.,   0.,   1.,\n",
       "          1.,   2.,   3.,   1.,   2.,   3.,   2.,   2.,   2.,   3.,   2.,\n",
       "          2.,   2.,   2.,   1.,   0.,   1.,   3.,   0.,   0.,   2.,   2.,\n",
       "          0.,   1.,   0.,   2.,   0.,   1.]),\n",
       " array([     0.  ,   2259.94,   4519.88,   6779.82,   9039.76,  11299.7 ,\n",
       "         13559.64,  15819.58,  18079.52,  20339.46,  22599.4 ,  24859.34,\n",
       "         27119.28,  29379.22,  31639.16,  33899.1 ,  36159.04,  38418.98,\n",
       "         40678.92,  42938.86,  45198.8 ,  47458.74,  49718.68,  51978.62,\n",
       "         54238.56,  56498.5 ,  58758.44,  61018.38,  63278.32,  65538.26,\n",
       "         67798.2 ,  70058.14,  72318.08,  74578.02,  76837.96,  79097.9 ,\n",
       "         81357.84,  83617.78,  85877.72,  88137.66,  90397.6 ,  92657.54,\n",
       "         94917.48,  97177.42,  99437.36, 101697.3 , 103957.24, 106217.18,\n",
       "        108477.12, 110737.06, 112997.  ]),\n",
       " <BarContainer object of 50 artists>)"
      ]
     },
     "execution_count": 44,
     "metadata": {},
     "output_type": "execute_result"
    },
    {
     "data": {
      "image/png": "[encoded data removed]",
      "text/plain": [
       "<Figure size 432x288 with 1 Axes>"
      ]
     },
     "metadata": {
      "needs_background": "light"
     },
     "output_type": "display_data"
    }
   ],
   "source": [
    "plt.hist(df.groupby(['Date'])['New Cases'].sum(), bins=50)"
   ]
  }
 ],
 "metadata": {
  "interpreter": {
   "hash": "b645e3867bbeb26c2dd5973a2081989c7357f5a5453332cd8717c6976422f197"
  },
  "kernelspec": {
   "display_name": "Python 3.9.7 ('base')",
   "language": "python",
   "name": "python3"
  },
  "language_info": {
   "codemirror_mode": {
    "name": "ipython",
    "version": 3
   },
   "file_extension": ".py",
   "mimetype": "text/x-python",
   "name": "python",
   "nbconvert_exporter": "python",
   "pygments_lexer": "ipython3",
   "version": "3.9.7"
  },
  "orig_nbformat": 4
 },
 "nbformat": 4,
 "nbformat_minor": 2
}
