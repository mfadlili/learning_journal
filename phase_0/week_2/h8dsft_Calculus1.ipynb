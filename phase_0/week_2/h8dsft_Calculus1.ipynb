{
  "nbformat": 4,
  "nbformat_minor": 0,
  "metadata": {
    "colab": {
      "name": "h8dsft_Calculus1.ipynb",
      "provenance": [],
      "collapsed_sections": []
    },
    "kernelspec": {
      "name": "python3",
      "display_name": "Python 3"
    },
    "language_info": {
      "name": "python"
    }
  },
  "cells": [
    {
      "cell_type": "markdown",
      "source": [
        "# Non Graded Challenge 6\n",
        "- Muhammad Fadlil Ismail\n",
        "- FTDS Batch 10 Phase 0"
      ],
      "metadata": {
        "id": "2bmaoHnI9Qbf"
      }
    },
    {
      "cell_type": "markdown",
      "source": [
        "# Soal\n",
        "Carilah turunan dan global minimum/maximum dari fungsi berikut:\n",
        "1. y = 𝑥^2 + 2𝑥 + 1\n",
        "2. y = 4𝑥^3−3𝑥^2+2𝑥−1"
      ],
      "metadata": {
        "id": "zU0r-mv29jfR"
      }
    },
    {
      "cell_type": "code",
      "execution_count": null,
      "metadata": {
        "id": "m44iXdx79GjI"
      },
      "outputs": [],
      "source": [
        "import numpy as np\n",
        "import sympy as sy\n",
        "import matplotlib.pyplot as plt\n",
        "from scipy.optimize import minimize_scalar"
      ]
    },
    {
      "cell_type": "markdown",
      "source": [
        "Penyelesaian menggunakan metode simbolik"
      ],
      "metadata": {
        "id": "PP9XX2HRzz-U"
      }
    },
    {
      "cell_type": "code",
      "source": [
        "x = sy.Symbol('x')"
      ],
      "metadata": {
        "id": "MiEUIEDg0yxQ"
      },
      "execution_count": null,
      "outputs": []
    },
    {
      "cell_type": "code",
      "source": [
        "y1 = x**2+2*x+1\n",
        "y1"
      ],
      "metadata": {
        "colab": {
          "base_uri": "https://localhost:8080/",
          "height": 38
        },
        "id": "S6d7SuUJ0y6X",
        "outputId": "7f4be1f9-80ec-43fd-a2fb-2df63640bd55"
      },
      "execution_count": null,
      "outputs": [
        {
          "output_type": "execute_result",
          "data": {
            "text/plain": [
              "x**2 + 2*x + 1"
            ],
            "text/latex": "$\\displaystyle x^{2} + 2 x + 1$"
          },
          "metadata": {},
          "execution_count": 3
        }
      ]
    },
    {
      "cell_type": "code",
      "source": [
        "y1.diff()"
      ],
      "metadata": {
        "colab": {
          "base_uri": "https://localhost:8080/",
          "height": 38
        },
        "id": "h3XBPUKi090B",
        "outputId": "08399e4f-b5ce-4ae3-c323-15b9097cb232"
      },
      "execution_count": null,
      "outputs": [
        {
          "output_type": "execute_result",
          "data": {
            "text/plain": [
              "2*x + 2"
            ],
            "text/latex": "$\\displaystyle 2 x + 2$"
          },
          "metadata": {},
          "execution_count": 4
        }
      ]
    },
    {
      "cell_type": "code",
      "source": [
        "y2 = 4*x**3 -3*x**2+2*x-1\n",
        "y2"
      ],
      "metadata": {
        "colab": {
          "base_uri": "https://localhost:8080/",
          "height": 38
        },
        "id": "ZDpLMsIU092k",
        "outputId": "04c30e3d-de16-44cb-a51a-69c3c5d64e0d"
      },
      "execution_count": null,
      "outputs": [
        {
          "output_type": "execute_result",
          "data": {
            "text/plain": [
              "4*x**3 - 3*x**2 + 2*x - 1"
            ],
            "text/latex": "$\\displaystyle 4 x^{3} - 3 x^{2} + 2 x - 1$"
          },
          "metadata": {},
          "execution_count": 5
        }
      ]
    },
    {
      "cell_type": "code",
      "source": [
        "y2.diff()"
      ],
      "metadata": {
        "colab": {
          "base_uri": "https://localhost:8080/",
          "height": 38
        },
        "id": "m9RjbCS2095S",
        "outputId": "aa71323d-94e2-4a5e-afb4-a0a3d6cc9f2e"
      },
      "execution_count": null,
      "outputs": [
        {
          "output_type": "execute_result",
          "data": {
            "text/plain": [
              "12*x**2 - 6*x + 2"
            ],
            "text/latex": "$\\displaystyle 12 x^{2} - 6 x + 2$"
          },
          "metadata": {},
          "execution_count": 6
        }
      ]
    },
    {
      "cell_type": "markdown",
      "source": [
        "Penyelesaian menggunakan metode numerik"
      ],
      "metadata": {
        "id": "L94d1LLpCvSR"
      }
    },
    {
      "cell_type": "code",
      "source": [
        "X = np.linspace(-10,10,100)\n",
        "#fungsi pertama\n",
        "Y = X**2 + 2*X + 1\n",
        "#fungsi kedua\n",
        "Y1 = 4*X**3-3*X**2+2*X-1"
      ],
      "metadata": {
        "id": "DUQYBTzQCul5"
      },
      "execution_count": null,
      "outputs": []
    },
    {
      "cell_type": "code",
      "source": [
        "print(Y.shape)\n",
        "print(Y1.shape)\n",
        "print(X.shape)"
      ],
      "metadata": {
        "colab": {
          "base_uri": "https://localhost:8080/"
        },
        "id": "Cw44gp6t09-M",
        "outputId": "4ed4d7be-a057-41f4-8bce-1c4fd41d2cd4"
      },
      "execution_count": null,
      "outputs": [
        {
          "output_type": "stream",
          "name": "stdout",
          "text": [
            "(100,)\n",
            "(100,)\n",
            "(100,)\n"
          ]
        }
      ]
    },
    {
      "cell_type": "code",
      "source": [
        "#plot fungsi pertama\n",
        "plt.plot(X,Y)\n",
        "plt.show()"
      ],
      "metadata": {
        "colab": {
          "base_uri": "https://localhost:8080/",
          "height": 265
        },
        "id": "3yW8iVqODjgx",
        "outputId": "3d983e25-5e2e-4467-d29c-0851d8a1aa46"
      },
      "execution_count": null,
      "outputs": [
        {
          "output_type": "display_data",
          "data": {
            "text/plain": [
              "<Figure size 432x288 with 1 Axes>"
            ],
            "image/png": "[encoded data removed]"
          },
          "metadata": {
            "needs_background": "light"
          }
        }
      ]
    },
    {
      "cell_type": "code",
      "source": [
        "#plot fungsi kedua\n",
        "plt.plot(X, Y1)\n",
        "plt.show"
      ],
      "metadata": {
        "colab": {
          "base_uri": "https://localhost:8080/",
          "height": 284
        },
        "id": "acFJNTc9EwNw",
        "outputId": "39c278f3-a142-48fc-e7e5-b6e84726ef24"
      },
      "execution_count": null,
      "outputs": [
        {
          "output_type": "execute_result",
          "data": {
            "text/plain": [
              "<function matplotlib.pyplot.show>"
            ]
          },
          "metadata": {},
          "execution_count": 21
        },
        {
          "output_type": "display_data",
          "data": {
            "text/plain": [
              "<Figure size 432x288 with 1 Axes>"
            ],
            "image/png": "[encoded data removed]"
          },
          "metadata": {
            "needs_background": "light"
          }
        }
      ]
    },
    {
      "cell_type": "markdown",
      "source": [
        "Turunan Fungsi Pertama"
      ],
      "metadata": {
        "id": "m4Qj8e5dFF4R"
      }
    },
    {
      "cell_type": "code",
      "source": [
        "dydx = np.diff(Y)/np.diff(X)\n",
        "dydx"
      ],
      "metadata": {
        "colab": {
          "base_uri": "https://localhost:8080/"
        },
        "id": "kM_iHB18DjjY",
        "outputId": "09ae8336-d0e1-400e-92e7-87f874b1f387"
      },
      "execution_count": null,
      "outputs": [
        {
          "output_type": "execute_result",
          "data": {
            "text/plain": [
              "array([-1.77979798e+01, -1.73939394e+01, -1.69898990e+01, -1.65858586e+01,\n",
              "       -1.61818182e+01, -1.57777778e+01, -1.53737374e+01, -1.49696970e+01,\n",
              "       -1.45656566e+01, -1.41616162e+01, -1.37575758e+01, -1.33535354e+01,\n",
              "       -1.29494949e+01, -1.25454545e+01, -1.21414141e+01, -1.17373737e+01,\n",
              "       -1.13333333e+01, -1.09292929e+01, -1.05252525e+01, -1.01212121e+01,\n",
              "       -9.71717172e+00, -9.31313131e+00, -8.90909091e+00, -8.50505051e+00,\n",
              "       -8.10101010e+00, -7.69696970e+00, -7.29292929e+00, -6.88888889e+00,\n",
              "       -6.48484848e+00, -6.08080808e+00, -5.67676768e+00, -5.27272727e+00,\n",
              "       -4.86868687e+00, -4.46464646e+00, -4.06060606e+00, -3.65656566e+00,\n",
              "       -3.25252525e+00, -2.84848485e+00, -2.44444444e+00, -2.04040404e+00,\n",
              "       -1.63636364e+00, -1.23232323e+00, -8.28282828e-01, -4.24242424e-01,\n",
              "       -2.02020202e-02,  3.83838384e-01,  7.87878788e-01,  1.19191919e+00,\n",
              "        1.59595960e+00,  2.00000000e+00,  2.40404040e+00,  2.80808081e+00,\n",
              "        3.21212121e+00,  3.61616162e+00,  4.02020202e+00,  4.42424242e+00,\n",
              "        4.82828283e+00,  5.23232323e+00,  5.63636364e+00,  6.04040404e+00,\n",
              "        6.44444444e+00,  6.84848485e+00,  7.25252525e+00,  7.65656566e+00,\n",
              "        8.06060606e+00,  8.46464646e+00,  8.86868687e+00,  9.27272727e+00,\n",
              "        9.67676768e+00,  1.00808081e+01,  1.04848485e+01,  1.08888889e+01,\n",
              "        1.12929293e+01,  1.16969697e+01,  1.21010101e+01,  1.25050505e+01,\n",
              "        1.29090909e+01,  1.33131313e+01,  1.37171717e+01,  1.41212121e+01,\n",
              "        1.45252525e+01,  1.49292929e+01,  1.53333333e+01,  1.57373737e+01,\n",
              "        1.61414141e+01,  1.65454545e+01,  1.69494949e+01,  1.73535354e+01,\n",
              "        1.77575758e+01,  1.81616162e+01,  1.85656566e+01,  1.89696970e+01,\n",
              "        1.93737374e+01,  1.97777778e+01,  2.01818182e+01,  2.05858586e+01,\n",
              "        2.09898990e+01,  2.13939394e+01,  2.17979798e+01])"
            ]
          },
          "metadata": {},
          "execution_count": 14
        }
      ]
    },
    {
      "cell_type": "code",
      "source": [
        "dydx.shape"
      ],
      "metadata": {
        "colab": {
          "base_uri": "https://localhost:8080/"
        },
        "id": "fUKi4-QdDjl9",
        "outputId": "cdefa994-e11a-471d-887d-4c79a87dadcd"
      },
      "execution_count": null,
      "outputs": [
        {
          "output_type": "execute_result",
          "data": {
            "text/plain": [
              "(99,)"
            ]
          },
          "metadata": {},
          "execution_count": 15
        }
      ]
    },
    {
      "cell_type": "code",
      "source": [
        "dydx_2 = np.gradient(Y,X)\n",
        "dydx_2"
      ],
      "metadata": {
        "colab": {
          "base_uri": "https://localhost:8080/"
        },
        "id": "Ako7IPx8Djoj",
        "outputId": "c1dc9f07-9389-40f0-f58c-421254c4a44b"
      },
      "execution_count": null,
      "outputs": [
        {
          "output_type": "execute_result",
          "data": {
            "text/plain": [
              "array([-17.7979798 , -17.5959596 , -17.19191919, -16.78787879,\n",
              "       -16.38383838, -15.97979798, -15.57575758, -15.17171717,\n",
              "       -14.76767677, -14.36363636, -13.95959596, -13.55555556,\n",
              "       -13.15151515, -12.74747475, -12.34343434, -11.93939394,\n",
              "       -11.53535354, -11.13131313, -10.72727273, -10.32323232,\n",
              "        -9.91919192,  -9.51515152,  -9.11111111,  -8.70707071,\n",
              "        -8.3030303 ,  -7.8989899 ,  -7.49494949,  -7.09090909,\n",
              "        -6.68686869,  -6.28282828,  -5.87878788,  -5.47474747,\n",
              "        -5.07070707,  -4.66666667,  -4.26262626,  -3.85858586,\n",
              "        -3.45454545,  -3.05050505,  -2.64646465,  -2.24242424,\n",
              "        -1.83838384,  -1.43434343,  -1.03030303,  -0.62626263,\n",
              "        -0.22222222,   0.18181818,   0.58585859,   0.98989899,\n",
              "         1.39393939,   1.7979798 ,   2.2020202 ,   2.60606061,\n",
              "         3.01010101,   3.41414141,   3.81818182,   4.22222222,\n",
              "         4.62626263,   5.03030303,   5.43434343,   5.83838384,\n",
              "         6.24242424,   6.64646465,   7.05050505,   7.45454545,\n",
              "         7.85858586,   8.26262626,   8.66666667,   9.07070707,\n",
              "         9.47474747,   9.87878788,  10.28282828,  10.68686869,\n",
              "        11.09090909,  11.49494949,  11.8989899 ,  12.3030303 ,\n",
              "        12.70707071,  13.11111111,  13.51515152,  13.91919192,\n",
              "        14.32323232,  14.72727273,  15.13131313,  15.53535354,\n",
              "        15.93939394,  16.34343434,  16.74747475,  17.15151515,\n",
              "        17.55555556,  17.95959596,  18.36363636,  18.76767677,\n",
              "        19.17171717,  19.57575758,  19.97979798,  20.38383838,\n",
              "        20.78787879,  21.19191919,  21.5959596 ,  21.7979798 ])"
            ]
          },
          "metadata": {},
          "execution_count": 16
        }
      ]
    },
    {
      "cell_type": "code",
      "source": [
        "dydx_2.shape"
      ],
      "metadata": {
        "colab": {
          "base_uri": "https://localhost:8080/"
        },
        "id": "cq6BONYTEcCX",
        "outputId": "8206c210-f6e5-4160-e5d6-c6ade4a4adb6"
      },
      "execution_count": null,
      "outputs": [
        {
          "output_type": "execute_result",
          "data": {
            "text/plain": [
              "(100,)"
            ]
          },
          "metadata": {},
          "execution_count": 17
        }
      ]
    },
    {
      "cell_type": "code",
      "source": [
        "plt.plot(X, dydx_2)\n",
        "plt.show()"
      ],
      "metadata": {
        "colab": {
          "base_uri": "https://localhost:8080/",
          "height": 265
        },
        "id": "Hp07gtFELxGv",
        "outputId": "d220eba8-fb31-4c76-b89e-44464ecd497c"
      },
      "execution_count": null,
      "outputs": [
        {
          "output_type": "display_data",
          "data": {
            "text/plain": [
              "<Figure size 432x288 with 1 Axes>"
            ],
            "image/png": "[encoded data removed]"
          },
          "metadata": {
            "needs_background": "light"
          }
        }
      ]
    },
    {
      "cell_type": "markdown",
      "source": [
        "Turunan Fungsi Kedua"
      ],
      "metadata": {
        "id": "pekPi1oNFJAO"
      }
    },
    {
      "cell_type": "code",
      "source": [
        "dydx1 = np.diff(Y1)/np.diff(X)\n",
        "dydx1"
      ],
      "metadata": {
        "colab": {
          "base_uri": "https://localhost:8080/"
        },
        "id": "PnEN6bfkFMFC",
        "outputId": "61f6c892-82ae-40e8-8e0e-93a2c33bcb72"
      },
      "execution_count": null,
      "outputs": [
        {
          "output_type": "execute_result",
          "data": {
            "text/plain": [
              "array([1237.3147638 , 1188.59728599, 1140.85930007, 1094.10080604,\n",
              "       1048.3218039 , 1003.52229364,  959.70227528,  916.8617488 ,\n",
              "        875.00071421,  834.11917151,  794.2171207 ,  755.29456178,\n",
              "        717.35149475,  680.3879196 ,  644.40383634,  609.39924498,\n",
              "        575.3741455 ,  542.3285379 ,  510.2624222 ,  479.17579839,\n",
              "        449.06866646,  419.94102643,  391.79287828,  364.62422202,\n",
              "        338.43505765,  313.22538516,  288.99520457,  265.74451587,\n",
              "        243.47331905,  222.18161412,  201.86940108,  182.53667993,\n",
              "        164.18345067,  146.80971329,  130.41546781,  115.00071421,\n",
              "        100.5654525 ,   87.10968269,   74.63340475,   63.13661871,\n",
              "         52.61932456,   43.08152229,   34.52321192,   26.94439343,\n",
              "         20.34506683,   14.72523212,   10.0848893 ,    6.42403836,\n",
              "          3.74267932,    2.04081216,    1.31843689,    1.57555351,\n",
              "          2.81216202,    5.02826242,    8.22385471,   12.39893888,\n",
              "         17.55351495,   23.6875829 ,   30.80114274,   38.89419447,\n",
              "         47.96673809,   58.01877359,   69.05030099,   81.06132027,\n",
              "         94.05183145,  108.02183451,  122.97132946,  138.90031629,\n",
              "        155.80879502,  173.69676564,  192.56422814,  212.41118253,\n",
              "        233.23762881,  255.04356698,  277.82899704,  301.59391899,\n",
              "        326.33833282,  352.06223855,  378.76563616,  406.44852566,\n",
              "        435.11090705,  464.75278033,  495.3741455 ,  526.97500255,\n",
              "        559.55535149,  593.11519233,  627.65452505,  663.17334966,\n",
              "        699.67166616,  737.14947454,  775.60677482,  815.04356698,\n",
              "        855.45985104,  896.85562698,  939.23089481,  982.58565453,\n",
              "       1026.91990613, 1072.23364963, 1118.52688501])"
            ]
          },
          "metadata": {},
          "execution_count": 22
        }
      ]
    },
    {
      "cell_type": "code",
      "source": [
        "dydx1.shape"
      ],
      "metadata": {
        "colab": {
          "base_uri": "https://localhost:8080/"
        },
        "id": "-OmZV9bJFMKJ",
        "outputId": "e50a2ad3-103e-4dc0-cde6-5538c0a6ec4b"
      },
      "execution_count": null,
      "outputs": [
        {
          "output_type": "execute_result",
          "data": {
            "text/plain": [
              "(99,)"
            ]
          },
          "metadata": {},
          "execution_count": 24
        }
      ]
    },
    {
      "cell_type": "code",
      "source": [
        "dydx1_2 = np.gradient(Y1,X)\n",
        "dydx1_2"
      ],
      "metadata": {
        "colab": {
          "base_uri": "https://localhost:8080/"
        },
        "id": "vcKLb8OJFMMx",
        "outputId": "b1e463d0-48e8-4ae1-8de7-e7772ea2549b"
      },
      "execution_count": null,
      "outputs": [
        {
          "output_type": "execute_result",
          "data": {
            "text/plain": [
              "array([1237.3147638 , 1212.9560249 , 1164.72829303, 1117.48005306,\n",
              "       1071.21130497, 1025.92204877,  981.61228446,  938.28201204,\n",
              "        895.93123151,  854.55994286,  814.16814611,  774.75584124,\n",
              "        736.32302826,  698.86970717,  662.39587797,  626.90154066,\n",
              "        592.38669524,  558.8513417 ,  526.29548005,  494.71911029,\n",
              "        464.12223243,  434.50484644,  405.86695235,  378.20855015,\n",
              "        351.52963983,  325.83022141,  301.11029487,  277.36986022,\n",
              "        254.60891746,  232.82746659,  212.0255076 ,  192.20304051,\n",
              "        173.3600653 ,  155.49658198,  138.61259055,  122.70809101,\n",
              "        107.78308336,   93.8375676 ,   80.87154372,   68.88501173,\n",
              "         57.87797164,   47.85042343,   38.80236711,   30.73380267,\n",
              "         23.64473013,   17.53514947,   12.40506071,    8.25446383,\n",
              "          5.08335884,    2.89174574,    1.67962453,    1.4469952 ,\n",
              "          2.19385777,    3.92021222,    6.62605857,   10.3113968 ,\n",
              "         14.97622692,   20.62054892,   27.24436282,   34.84766861,\n",
              "         43.43046628,   52.99275584,   63.53453729,   75.05581063,\n",
              "         87.55657586,  101.03683298,  115.49658198,  130.93582288,\n",
              "        147.35455566,  164.75278033,  183.13049689,  202.48770534,\n",
              "        222.82440567,  244.1405979 ,  266.43628201,  289.71145801,\n",
              "        313.96612591,  339.20028569,  365.41393735,  392.60708091,\n",
              "        420.77971636,  449.93184369,  480.06346291,  511.17457402,\n",
              "        543.26517702,  576.33527191,  610.38485869,  645.41393735,\n",
              "        681.42250791,  718.41057035,  756.37812468,  795.3251709 ,\n",
              "        835.25170901,  876.15773901,  918.04326089,  960.90827467,\n",
              "       1004.75278033, 1049.57677788, 1095.38026732, 1118.52688501])"
            ]
          },
          "metadata": {},
          "execution_count": 25
        }
      ]
    },
    {
      "cell_type": "code",
      "source": [
        "dydx1_2.shape"
      ],
      "metadata": {
        "colab": {
          "base_uri": "https://localhost:8080/"
        },
        "id": "cAVF3RuOFMO3",
        "outputId": "a95e2d46-5106-43a8-f9d0-806c04040def"
      },
      "execution_count": null,
      "outputs": [
        {
          "output_type": "execute_result",
          "data": {
            "text/plain": [
              "(100,)"
            ]
          },
          "metadata": {},
          "execution_count": 26
        }
      ]
    },
    {
      "cell_type": "code",
      "source": [
        "plt.plot(X, dydx1_2)\n",
        "plt.show()"
      ],
      "metadata": {
        "colab": {
          "base_uri": "https://localhost:8080/",
          "height": 265
        },
        "id": "2hn_u9umMfzx",
        "outputId": "ce3720fc-3973-4886-915d-302586ac6dce"
      },
      "execution_count": null,
      "outputs": [
        {
          "output_type": "display_data",
          "data": {
            "text/plain": [
              "<Figure size 432x288 with 1 Axes>"
            ],
            "image/png": "[encoded data removed]"
          },
          "metadata": {
            "needs_background": "light"
          }
        }
      ]
    },
    {
      "cell_type": "markdown",
      "source": [
        "Mencari Maximum/Minimum Global dengan metode numerik"
      ],
      "metadata": {
        "id": "rmPrux9YFwGc"
      }
    },
    {
      "cell_type": "markdown",
      "source": [
        "Optimasi persamaan pertama"
      ],
      "metadata": {
        "id": "gGzLh__MMzhI"
      }
    },
    {
      "cell_type": "code",
      "source": [
        "def f(x):\n",
        "  return x**2+2*x+1"
      ],
      "metadata": {
        "id": "CyWVo9SPMyv3"
      },
      "execution_count": null,
      "outputs": []
    },
    {
      "cell_type": "code",
      "source": [
        "minimize_scalar(f)"
      ],
      "metadata": {
        "colab": {
          "base_uri": "https://localhost:8080/"
        },
        "id": "hGWfQ2ZCFMRa",
        "outputId": "e38b1d6f-6349-476c-b6c0-ce1a741bc592"
      },
      "execution_count": null,
      "outputs": [
        {
          "output_type": "execute_result",
          "data": {
            "text/plain": [
              "     fun: 0.0\n",
              "    nfev: 9\n",
              "     nit: 4\n",
              " success: True\n",
              "       x: -1.0000000000000002"
            ]
          },
          "metadata": {},
          "execution_count": 35
        }
      ]
    },
    {
      "cell_type": "code",
      "source": [
        "def f1(x):\n",
        "  return (4*x**3 -3*x**2+2*x-1)"
      ],
      "metadata": {
        "id": "NffVGelOFMTu"
      },
      "execution_count": null,
      "outputs": []
    },
    {
      "cell_type": "code",
      "source": [
        "minimize_scalar(f1)"
      ],
      "metadata": {
        "colab": {
          "base_uri": "https://localhost:8080/",
          "height": 271
        },
        "id": "OAzVQW-uFMWX",
        "outputId": "ef8521be-92fa-4993-aac8-4397b32dd927"
      },
      "execution_count": null,
      "outputs": [
        {
          "output_type": "error",
          "ename": "OverflowError",
          "evalue": "ignored",
          "traceback": [
            "\u001b[0;31m---------------------------------------------------------------------------\u001b[0m",
            "\u001b[0;31mOverflowError\u001b[0m                             Traceback (most recent call last)",
            "\u001b[0;32m<ipython-input-41-c6110beb3a27>\u001b[0m in \u001b[0;36m<module>\u001b[0;34m()\u001b[0m\n\u001b[0;32m----> 1\u001b[0;31m \u001b[0mminimize_scalar\u001b[0m\u001b[0;34m(\u001b[0m\u001b[0mf1\u001b[0m\u001b[0;34m)\u001b[0m\u001b[0;34m\u001b[0m\u001b[0;34m\u001b[0m\u001b[0m\n\u001b[0m",
            "\u001b[0;32m/usr/local/lib/python3.7/dist-packages/scipy/optimize/_minimize.py\u001b[0m in \u001b[0;36mminimize_scalar\u001b[0;34m(fun, bracket, bounds, args, method, tol, options)\u001b[0m\n\u001b[1;32m    778\u001b[0m         \u001b[0;32mreturn\u001b[0m \u001b[0mmethod\u001b[0m\u001b[0;34m(\u001b[0m\u001b[0mfun\u001b[0m\u001b[0;34m,\u001b[0m \u001b[0margs\u001b[0m\u001b[0;34m=\u001b[0m\u001b[0margs\u001b[0m\u001b[0;34m,\u001b[0m \u001b[0mbracket\u001b[0m\u001b[0;34m=\u001b[0m\u001b[0mbracket\u001b[0m\u001b[0;34m,\u001b[0m \u001b[0mbounds\u001b[0m\u001b[0;34m=\u001b[0m\u001b[0mbounds\u001b[0m\u001b[0;34m,\u001b[0m \u001b[0;34m**\u001b[0m\u001b[0moptions\u001b[0m\u001b[0;34m)\u001b[0m\u001b[0;34m\u001b[0m\u001b[0;34m\u001b[0m\u001b[0m\n\u001b[1;32m    779\u001b[0m     \u001b[0;32melif\u001b[0m \u001b[0mmeth\u001b[0m \u001b[0;34m==\u001b[0m \u001b[0;34m'brent'\u001b[0m\u001b[0;34m:\u001b[0m\u001b[0;34m\u001b[0m\u001b[0;34m\u001b[0m\u001b[0m\n\u001b[0;32m--> 780\u001b[0;31m         \u001b[0;32mreturn\u001b[0m \u001b[0m_minimize_scalar_brent\u001b[0m\u001b[0;34m(\u001b[0m\u001b[0mfun\u001b[0m\u001b[0;34m,\u001b[0m \u001b[0mbracket\u001b[0m\u001b[0;34m,\u001b[0m \u001b[0margs\u001b[0m\u001b[0;34m,\u001b[0m \u001b[0;34m**\u001b[0m\u001b[0moptions\u001b[0m\u001b[0;34m)\u001b[0m\u001b[0;34m\u001b[0m\u001b[0;34m\u001b[0m\u001b[0m\n\u001b[0m\u001b[1;32m    781\u001b[0m     \u001b[0;32melif\u001b[0m \u001b[0mmeth\u001b[0m \u001b[0;34m==\u001b[0m \u001b[0;34m'bounded'\u001b[0m\u001b[0;34m:\u001b[0m\u001b[0;34m\u001b[0m\u001b[0;34m\u001b[0m\u001b[0m\n\u001b[1;32m    782\u001b[0m         \u001b[0;32mif\u001b[0m \u001b[0mbounds\u001b[0m \u001b[0;32mis\u001b[0m \u001b[0;32mNone\u001b[0m\u001b[0;34m:\u001b[0m\u001b[0;34m\u001b[0m\u001b[0;34m\u001b[0m\u001b[0m\n",
            "\u001b[0;32m/usr/local/lib/python3.7/dist-packages/scipy/optimize/optimize.py\u001b[0m in \u001b[0;36m_minimize_scalar_brent\u001b[0;34m(func, brack, args, xtol, maxiter, **unknown_options)\u001b[0m\n\u001b[1;32m   2164\u001b[0m                   full_output=True, maxiter=maxiter)\n\u001b[1;32m   2165\u001b[0m     \u001b[0mbrent\u001b[0m\u001b[0;34m.\u001b[0m\u001b[0mset_bracket\u001b[0m\u001b[0;34m(\u001b[0m\u001b[0mbrack\u001b[0m\u001b[0;34m)\u001b[0m\u001b[0;34m\u001b[0m\u001b[0;34m\u001b[0m\u001b[0m\n\u001b[0;32m-> 2166\u001b[0;31m     \u001b[0mbrent\u001b[0m\u001b[0;34m.\u001b[0m\u001b[0moptimize\u001b[0m\u001b[0;34m(\u001b[0m\u001b[0;34m)\u001b[0m\u001b[0;34m\u001b[0m\u001b[0;34m\u001b[0m\u001b[0m\n\u001b[0m\u001b[1;32m   2167\u001b[0m     \u001b[0mx\u001b[0m\u001b[0;34m,\u001b[0m \u001b[0mfval\u001b[0m\u001b[0;34m,\u001b[0m \u001b[0mnit\u001b[0m\u001b[0;34m,\u001b[0m \u001b[0mnfev\u001b[0m \u001b[0;34m=\u001b[0m \u001b[0mbrent\u001b[0m\u001b[0;34m.\u001b[0m\u001b[0mget_result\u001b[0m\u001b[0;34m(\u001b[0m\u001b[0mfull_output\u001b[0m\u001b[0;34m=\u001b[0m\u001b[0;32mTrue\u001b[0m\u001b[0;34m)\u001b[0m\u001b[0;34m\u001b[0m\u001b[0;34m\u001b[0m\u001b[0m\n\u001b[1;32m   2168\u001b[0m \u001b[0;34m\u001b[0m\u001b[0m\n",
            "\u001b[0;32m/usr/local/lib/python3.7/dist-packages/scipy/optimize/optimize.py\u001b[0m in \u001b[0;36moptimize\u001b[0;34m(self)\u001b[0m\n\u001b[1;32m   1948\u001b[0m         \u001b[0;31m# set up for optimization\u001b[0m\u001b[0;34m\u001b[0m\u001b[0;34m\u001b[0m\u001b[0;34m\u001b[0m\u001b[0m\n\u001b[1;32m   1949\u001b[0m         \u001b[0mfunc\u001b[0m \u001b[0;34m=\u001b[0m \u001b[0mself\u001b[0m\u001b[0;34m.\u001b[0m\u001b[0mfunc\u001b[0m\u001b[0;34m\u001b[0m\u001b[0;34m\u001b[0m\u001b[0m\n\u001b[0;32m-> 1950\u001b[0;31m         \u001b[0mxa\u001b[0m\u001b[0;34m,\u001b[0m \u001b[0mxb\u001b[0m\u001b[0;34m,\u001b[0m \u001b[0mxc\u001b[0m\u001b[0;34m,\u001b[0m \u001b[0mfa\u001b[0m\u001b[0;34m,\u001b[0m \u001b[0mfb\u001b[0m\u001b[0;34m,\u001b[0m \u001b[0mfc\u001b[0m\u001b[0;34m,\u001b[0m \u001b[0mfuncalls\u001b[0m \u001b[0;34m=\u001b[0m \u001b[0mself\u001b[0m\u001b[0;34m.\u001b[0m\u001b[0mget_bracket_info\u001b[0m\u001b[0;34m(\u001b[0m\u001b[0;34m)\u001b[0m\u001b[0;34m\u001b[0m\u001b[0;34m\u001b[0m\u001b[0m\n\u001b[0m\u001b[1;32m   1951\u001b[0m         \u001b[0m_mintol\u001b[0m \u001b[0;34m=\u001b[0m \u001b[0mself\u001b[0m\u001b[0;34m.\u001b[0m\u001b[0m_mintol\u001b[0m\u001b[0;34m\u001b[0m\u001b[0;34m\u001b[0m\u001b[0m\n\u001b[1;32m   1952\u001b[0m         \u001b[0m_cg\u001b[0m \u001b[0;34m=\u001b[0m \u001b[0mself\u001b[0m\u001b[0;34m.\u001b[0m\u001b[0m_cg\u001b[0m\u001b[0;34m\u001b[0m\u001b[0;34m\u001b[0m\u001b[0m\n",
            "\u001b[0;32m/usr/local/lib/python3.7/dist-packages/scipy/optimize/optimize.py\u001b[0m in \u001b[0;36mget_bracket_info\u001b[0;34m(self)\u001b[0m\n\u001b[1;32m   1922\u001b[0m         \u001b[0;31m### carefully DOCUMENT any CHANGES in core ##\u001b[0m\u001b[0;34m\u001b[0m\u001b[0;34m\u001b[0m\u001b[0;34m\u001b[0m\u001b[0m\n\u001b[1;32m   1923\u001b[0m         \u001b[0;32mif\u001b[0m \u001b[0mbrack\u001b[0m \u001b[0;32mis\u001b[0m \u001b[0;32mNone\u001b[0m\u001b[0;34m:\u001b[0m\u001b[0;34m\u001b[0m\u001b[0;34m\u001b[0m\u001b[0m\n\u001b[0;32m-> 1924\u001b[0;31m             \u001b[0mxa\u001b[0m\u001b[0;34m,\u001b[0m \u001b[0mxb\u001b[0m\u001b[0;34m,\u001b[0m \u001b[0mxc\u001b[0m\u001b[0;34m,\u001b[0m \u001b[0mfa\u001b[0m\u001b[0;34m,\u001b[0m \u001b[0mfb\u001b[0m\u001b[0;34m,\u001b[0m \u001b[0mfc\u001b[0m\u001b[0;34m,\u001b[0m \u001b[0mfuncalls\u001b[0m \u001b[0;34m=\u001b[0m \u001b[0mbracket\u001b[0m\u001b[0;34m(\u001b[0m\u001b[0mfunc\u001b[0m\u001b[0;34m,\u001b[0m \u001b[0margs\u001b[0m\u001b[0;34m=\u001b[0m\u001b[0margs\u001b[0m\u001b[0;34m)\u001b[0m\u001b[0;34m\u001b[0m\u001b[0;34m\u001b[0m\u001b[0m\n\u001b[0m\u001b[1;32m   1925\u001b[0m         \u001b[0;32melif\u001b[0m \u001b[0mlen\u001b[0m\u001b[0;34m(\u001b[0m\u001b[0mbrack\u001b[0m\u001b[0;34m)\u001b[0m \u001b[0;34m==\u001b[0m \u001b[0;36m2\u001b[0m\u001b[0;34m:\u001b[0m\u001b[0;34m\u001b[0m\u001b[0;34m\u001b[0m\u001b[0m\n\u001b[1;32m   1926\u001b[0m             xa, xb, xc, fa, fb, fc, funcalls = bracket(func, xa=brack[0],\n",
            "\u001b[0;32m/usr/local/lib/python3.7/dist-packages/scipy/optimize/optimize.py\u001b[0m in \u001b[0;36mbracket\u001b[0;34m(func, xa, xb, args, grow_limit, maxiter)\u001b[0m\n\u001b[1;32m   2407\u001b[0m         \u001b[0;32melse\u001b[0m\u001b[0;34m:\u001b[0m\u001b[0;34m\u001b[0m\u001b[0;34m\u001b[0m\u001b[0m\n\u001b[1;32m   2408\u001b[0m             \u001b[0mw\u001b[0m \u001b[0;34m=\u001b[0m \u001b[0mxc\u001b[0m \u001b[0;34m+\u001b[0m \u001b[0m_gold\u001b[0m \u001b[0;34m*\u001b[0m \u001b[0;34m(\u001b[0m\u001b[0mxc\u001b[0m \u001b[0;34m-\u001b[0m \u001b[0mxb\u001b[0m\u001b[0;34m)\u001b[0m\u001b[0;34m\u001b[0m\u001b[0;34m\u001b[0m\u001b[0m\n\u001b[0;32m-> 2409\u001b[0;31m             \u001b[0mfw\u001b[0m \u001b[0;34m=\u001b[0m \u001b[0mfunc\u001b[0m\u001b[0;34m(\u001b[0m\u001b[0;34m*\u001b[0m\u001b[0;34m(\u001b[0m\u001b[0;34m(\u001b[0m\u001b[0mw\u001b[0m\u001b[0;34m,\u001b[0m\u001b[0;34m)\u001b[0m \u001b[0;34m+\u001b[0m \u001b[0margs\u001b[0m\u001b[0;34m)\u001b[0m\u001b[0;34m)\u001b[0m\u001b[0;34m\u001b[0m\u001b[0;34m\u001b[0m\u001b[0m\n\u001b[0m\u001b[1;32m   2410\u001b[0m             \u001b[0mfuncalls\u001b[0m \u001b[0;34m+=\u001b[0m \u001b[0;36m1\u001b[0m\u001b[0;34m\u001b[0m\u001b[0;34m\u001b[0m\u001b[0m\n\u001b[1;32m   2411\u001b[0m         \u001b[0mxa\u001b[0m \u001b[0;34m=\u001b[0m \u001b[0mxb\u001b[0m\u001b[0;34m\u001b[0m\u001b[0;34m\u001b[0m\u001b[0m\n",
            "\u001b[0;32m<ipython-input-40-bdca8ac2e5ef>\u001b[0m in \u001b[0;36mf1\u001b[0;34m(x)\u001b[0m\n\u001b[1;32m      1\u001b[0m \u001b[0;32mdef\u001b[0m \u001b[0mf1\u001b[0m\u001b[0;34m(\u001b[0m\u001b[0mx\u001b[0m\u001b[0;34m)\u001b[0m\u001b[0;34m:\u001b[0m\u001b[0;34m\u001b[0m\u001b[0;34m\u001b[0m\u001b[0m\n\u001b[0;32m----> 2\u001b[0;31m   \u001b[0;32mreturn\u001b[0m \u001b[0;34m(\u001b[0m\u001b[0;36m4\u001b[0m\u001b[0;34m*\u001b[0m\u001b[0mx\u001b[0m\u001b[0;34m**\u001b[0m\u001b[0;36m3\u001b[0m \u001b[0;34m-\u001b[0m\u001b[0;36m3\u001b[0m\u001b[0;34m*\u001b[0m\u001b[0mx\u001b[0m\u001b[0;34m**\u001b[0m\u001b[0;36m2\u001b[0m\u001b[0;34m+\u001b[0m\u001b[0;36m2\u001b[0m\u001b[0;34m*\u001b[0m\u001b[0mx\u001b[0m\u001b[0;34m-\u001b[0m\u001b[0;36m1\u001b[0m\u001b[0;34m)\u001b[0m\u001b[0;34m\u001b[0m\u001b[0;34m\u001b[0m\u001b[0m\n\u001b[0m",
            "\u001b[0;31mOverflowError\u001b[0m: (34, 'Numerical result out of range')"
          ]
        }
      ]
    },
    {
      "cell_type": "code",
      "source": [
        ""
      ],
      "metadata": {
        "id": "YcJPg62VFMYr"
      },
      "execution_count": null,
      "outputs": []
    },
    {
      "cell_type": "code",
      "source": [
        ""
      ],
      "metadata": {
        "id": "qlzjiqRPFMbP"
      },
      "execution_count": null,
      "outputs": []
    },
    {
      "cell_type": "code",
      "source": [
        ""
      ],
      "metadata": {
        "id": "y1AROmK7FMdm"
      },
      "execution_count": null,
      "outputs": []
    },
    {
      "cell_type": "code",
      "source": [
        ""
      ],
      "metadata": {
        "id": "tsAjc3faFMf9"
      },
      "execution_count": null,
      "outputs": []
    },
    {
      "cell_type": "code",
      "source": [
        ""
      ],
      "metadata": {
        "id": "KhEOmW70FMim"
      },
      "execution_count": null,
      "outputs": []
    },
    {
      "cell_type": "code",
      "source": [
        ""
      ],
      "metadata": {
        "id": "9m_LUfKBFMll"
      },
      "execution_count": null,
      "outputs": []
    }
  ]
}