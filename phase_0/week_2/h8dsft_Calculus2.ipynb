{
  "nbformat": 4,
  "nbformat_minor": 0,
  "metadata": {
    "colab": {
      "name": "h8dsft_Calculus2.ipynb",
      "provenance": []
    },
    "kernelspec": {
      "name": "python3",
      "display_name": "Python 3"
    },
    "language_info": {
      "name": "python"
    }
  },
  "cells": [
    {
      "cell_type": "markdown",
      "source": [
        "# Non Graded Challenge 8\n",
        "- Muhammad Fadlil Ismail\n",
        "- FTDS Batch 10 Phase 0"
      ],
      "metadata": {
        "id": "UQXtcbI32IBe"
      }
    },
    {
      "cell_type": "markdown",
      "source": [
        "#Soal\n",
        "Carilah integral dari fungsi berikut:\n",
        "\n",
        "1. 3𝑥^2−6𝑥+3\n",
        "2. 8x^3−𝑥^2+5𝑥−1"
      ],
      "metadata": {
        "id": "UYirB_420dOH"
      }
    },
    {
      "cell_type": "code",
      "execution_count": null,
      "metadata": {
        "id": "eMkqNTy00S_u"
      },
      "outputs": [],
      "source": [
        "import numpy as np\n",
        "import sympy as sy\n",
        "from scipy import integrate"
      ]
    },
    {
      "cell_type": "markdown",
      "source": [
        "## 1. Dikerjakan menggunakan menggunakan simbolik"
      ],
      "metadata": {
        "id": "6jTWXC711On7"
      }
    },
    {
      "cell_type": "code",
      "source": [
        "x = sy.Symbol('x')"
      ],
      "metadata": {
        "id": "_r_zoPug0cQK"
      },
      "execution_count": null,
      "outputs": []
    },
    {
      "cell_type": "code",
      "source": [
        "f1 = 3*x**2-6*x+3\n",
        "f1"
      ],
      "metadata": {
        "colab": {
          "base_uri": "https://localhost:8080/",
          "height": 38
        },
        "id": "dssSsnUs1IYr",
        "outputId": "6b508672-b915-4cfe-949e-5231444a4645"
      },
      "execution_count": null,
      "outputs": [
        {
          "output_type": "execute_result",
          "data": {
            "text/plain": [
              "3*x**2 - 6*x + 3"
            ],
            "text/latex": "$\\displaystyle 3 x^{2} - 6 x + 3$"
          },
          "metadata": {},
          "execution_count": 3
        }
      ]
    },
    {
      "cell_type": "code",
      "source": [
        "f2 = 8*x**3-x**2+5*x-1\n",
        "f2"
      ],
      "metadata": {
        "colab": {
          "base_uri": "https://localhost:8080/",
          "height": 38
        },
        "id": "6Q3tj-ek1WW6",
        "outputId": "267da187-a323-4673-d7e5-110275326bee"
      },
      "execution_count": null,
      "outputs": [
        {
          "output_type": "execute_result",
          "data": {
            "text/plain": [
              "8*x**3 - x**2 + 5*x - 1"
            ],
            "text/latex": "$\\displaystyle 8 x^{3} - x^{2} + 5 x - 1$"
          },
          "metadata": {},
          "execution_count": 4
        }
      ]
    },
    {
      "cell_type": "code",
      "source": [
        "f1.integrate()"
      ],
      "metadata": {
        "colab": {
          "base_uri": "https://localhost:8080/",
          "height": 38
        },
        "id": "Xa9kdQOE1hii",
        "outputId": "4cf2ab2c-4f0f-4e26-d5b2-01457b96bc27"
      },
      "execution_count": null,
      "outputs": [
        {
          "output_type": "execute_result",
          "data": {
            "text/plain": [
              "x**3 - 3*x**2 + 3*x"
            ],
            "text/latex": "$\\displaystyle x^{3} - 3 x^{2} + 3 x$"
          },
          "metadata": {},
          "execution_count": 5
        }
      ]
    },
    {
      "cell_type": "code",
      "source": [
        "f2.integrate()"
      ],
      "metadata": {
        "colab": {
          "base_uri": "https://localhost:8080/",
          "height": 54
        },
        "id": "fdrqmbG91hyc",
        "outputId": "02155a39-e2f6-473c-db7c-bed7d09195d1"
      },
      "execution_count": null,
      "outputs": [
        {
          "output_type": "execute_result",
          "data": {
            "text/plain": [
              "2*x**4 - x**3/3 + 5*x**2/2 - x"
            ],
            "text/latex": "$\\displaystyle 2 x^{4} - \\frac{x^{3}}{3} + \\frac{5 x^{2}}{2} - x$"
          },
          "metadata": {},
          "execution_count": 6
        }
      ]
    },
    {
      "cell_type": "code",
      "source": [
        "def f1_int(X):\n",
        "  return X**3 -3*X**2+3*X\n",
        "\n",
        "def f2_int(X):\n",
        "  return 2*X**4-X**3/3+5/2*X**2-X"
      ],
      "metadata": {
        "id": "9VdxzsZB3q06"
      },
      "execution_count": null,
      "outputs": []
    },
    {
      "cell_type": "markdown",
      "source": [
        "Lakukan integrasi dari x=10 sampai x=30"
      ],
      "metadata": {
        "id": "ufytfUfu6EGD"
      }
    },
    {
      "cell_type": "code",
      "source": [
        "hasil1 = f1_int(30)-f1_int(10)\n",
        "hasil1"
      ],
      "metadata": {
        "colab": {
          "base_uri": "https://localhost:8080/"
        },
        "id": "JaIH-79B4kwZ",
        "outputId": "dbb979b9-e7dc-4a91-f769-09412ce28fc9"
      },
      "execution_count": null,
      "outputs": [
        {
          "output_type": "execute_result",
          "data": {
            "text/plain": [
              "23660"
            ]
          },
          "metadata": {},
          "execution_count": 8
        }
      ]
    },
    {
      "cell_type": "code",
      "source": [
        "hasil2 = f2_int(30)-f2_int(10)\n",
        "hasil2"
      ],
      "metadata": {
        "colab": {
          "base_uri": "https://localhost:8080/"
        },
        "id": "1YmViaAT41ye",
        "outputId": "5aeb4daa-e59f-4ed7-95da-22306b89ead8"
      },
      "execution_count": null,
      "outputs": [
        {
          "output_type": "execute_result",
          "data": {
            "text/plain": [
              "1593313.3333333333"
            ]
          },
          "metadata": {},
          "execution_count": 9
        }
      ]
    },
    {
      "cell_type": "markdown",
      "source": [
        "## 2. Dikerjakan menggunakan metode numerik"
      ],
      "metadata": {
        "id": "3ja-8hkL1-M5"
      }
    },
    {
      "cell_type": "markdown",
      "source": [
        "Dilakukan integrasi dari x=10 sampai x=30"
      ],
      "metadata": {
        "id": "YD8NtttI2Wkd"
      }
    },
    {
      "cell_type": "code",
      "source": [
        "X = np.linspace(10,30,100)"
      ],
      "metadata": {
        "id": "0_NimZ-92DUI"
      },
      "execution_count": null,
      "outputs": []
    },
    {
      "cell_type": "code",
      "source": [
        "def fun1(X):\n",
        "  return 3*X**2-6*X+3\n",
        "\n",
        "def fun2(X):\n",
        "  return 8*X**3-X**2+5*X+1 "
      ],
      "metadata": {
        "id": "aQuOJWBH2DaH"
      },
      "execution_count": null,
      "outputs": []
    },
    {
      "cell_type": "code",
      "source": [
        "result1 = integrate.quad(fun1, 10,30)\n",
        "result1"
      ],
      "metadata": {
        "colab": {
          "base_uri": "https://localhost:8080/"
        },
        "id": "7hHIScDq2DjQ",
        "outputId": "cafd7965-8a5e-4fb3-9753-8a276f6bf735"
      },
      "execution_count": null,
      "outputs": [
        {
          "output_type": "execute_result",
          "data": {
            "text/plain": [
              "(23660.000000000004, 2.626787676263121e-10)"
            ]
          },
          "metadata": {},
          "execution_count": 28
        }
      ]
    },
    {
      "cell_type": "code",
      "source": [
        "y = fun2(X)\n",
        "result2 = integrate.trapz(y, X)\n",
        "result2"
      ],
      "metadata": {
        "colab": {
          "base_uri": "https://localhost:8080/"
        },
        "id": "xkA-mVhn2Dp-",
        "outputId": "a35f3995-eb72-44e9-8349-4d9ecbc48e0d"
      },
      "execution_count": null,
      "outputs": [
        {
          "output_type": "execute_result",
          "data": {
            "text/plain": [
              "1593418.496752032"
            ]
          },
          "metadata": {},
          "execution_count": 29
        }
      ]
    }
  ]
}