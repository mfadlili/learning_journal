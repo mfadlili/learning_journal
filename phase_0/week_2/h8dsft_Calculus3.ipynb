{
 "cells": [
  {
   "cell_type": "markdown",
   "metadata": {},
   "source": [
    "# Non Graded Challenge 7\n",
    "- Muhammad Fadlil Ismail\n",
    "- FTDS Batch 10 Phase 0"
   ]
  },
  {
   "cell_type": "markdown",
   "metadata": {},
   "source": [
    "## Soal\n",
    "- Carilah turunan dari fungsi berikut:\n",
    "-               3x + 4y = 5\n"
   ]
  },
  {
   "cell_type": "markdown",
   "metadata": {},
   "source": [
    "### Persamaan tersebut diubah ke persamaan fungsi x dan fungsi y\n",
    "#### Persamaan Fungsi x:\n",
    "-            y = -0.75x + 1.25\n",
    "#### Persamaan Fungsi y:\n",
    "-            x = -4/3y + 5/3"
   ]
  },
  {
   "cell_type": "code",
   "execution_count": 1,
   "metadata": {},
   "outputs": [],
   "source": [
    "import numpy as np\n",
    "import matplotlib.pyplot as plt"
   ]
  },
  {
   "cell_type": "code",
   "execution_count": 7,
   "metadata": {},
   "outputs": [
    {
     "data": {
      "text/plain": [
       "array([-1.53061224, -1.53061224, -1.53061224, -1.53061224, -1.53061224,\n",
       "       -1.53061224, -1.53061224, -1.53061224, -1.53061224, -1.53061224,\n",
       "       -1.53061224, -1.53061224, -1.53061224, -1.53061224, -1.53061224,\n",
       "       -1.53061224, -1.53061224, -1.53061224, -1.53061224, -1.53061224,\n",
       "       -1.53061224, -1.53061224, -1.53061224, -1.53061224, -1.53061224,\n",
       "       -1.53061224, -1.53061224, -1.53061224, -1.53061224, -1.53061224,\n",
       "       -1.53061224, -1.53061224, -1.53061224, -1.53061224, -1.53061224,\n",
       "       -1.53061224, -1.53061224, -1.53061224, -1.53061224, -1.53061224,\n",
       "       -1.53061224, -1.53061224, -1.53061224, -1.53061224, -1.53061224,\n",
       "       -1.53061224, -1.53061224, -1.53061224, -1.53061224, -1.53061224])"
      ]
     },
     "execution_count": 7,
     "metadata": {},
     "output_type": "execute_result"
    }
   ],
   "source": [
    "#Penyelesaian untuk persamaan fungsi x:\n",
    "x = np.linspace(-50,50)\n",
    "y = 1.25 - 0.75*x\n",
    "\n",
    "dydx = np.gradient(y)\n",
    "dydx"
   ]
  },
  {
   "cell_type": "code",
   "execution_count": 4,
   "metadata": {},
   "outputs": [
    {
     "data": {
      "text/plain": [
       "array([-1.53061224, -1.53061224, -1.53061224, -1.53061224, -1.53061224,\n",
       "       -1.53061224, -1.53061224, -1.53061224, -1.53061224, -1.53061224,\n",
       "       -1.53061224, -1.53061224, -1.53061224, -1.53061224, -1.53061224,\n",
       "       -1.53061224, -1.53061224, -1.53061224, -1.53061224, -1.53061224,\n",
       "       -1.53061224, -1.53061224, -1.53061224, -1.53061224, -1.53061224,\n",
       "       -1.53061224, -1.53061224, -1.53061224, -1.53061224, -1.53061224,\n",
       "       -1.53061224, -1.53061224, -1.53061224, -1.53061224, -1.53061224,\n",
       "       -1.53061224, -1.53061224, -1.53061224, -1.53061224, -1.53061224,\n",
       "       -1.53061224, -1.53061224, -1.53061224, -1.53061224, -1.53061224,\n",
       "       -1.53061224, -1.53061224, -1.53061224, -1.53061224, -1.53061224])"
      ]
     },
     "execution_count": 4,
     "metadata": {},
     "output_type": "execute_result"
    }
   ],
   "source": [
    "import numpy as np\n",
    "\n",
    "## Define `x`\n",
    "x = np.linspace(-50, 50)\n",
    "\n",
    "## Define the function\n",
    "y = 1.25 - 0.75 * x\n",
    "\n",
    "result_gradient_x = np.gradient(y)\n",
    "result_gradient_x"
   ]
  },
  {
   "cell_type": "code",
   "execution_count": 8,
   "metadata": {},
   "outputs": [
    {
     "data": {
      "text/plain": [
       "array([-2.72108844, -2.72108844, -2.72108844, -2.72108844, -2.72108844,\n",
       "       -2.72108844, -2.72108844, -2.72108844, -2.72108844, -2.72108844,\n",
       "       -2.72108844, -2.72108844, -2.72108844, -2.72108844, -2.72108844,\n",
       "       -2.72108844, -2.72108844, -2.72108844, -2.72108844, -2.72108844,\n",
       "       -2.72108844, -2.72108844, -2.72108844, -2.72108844, -2.72108844,\n",
       "       -2.72108844, -2.72108844, -2.72108844, -2.72108844, -2.72108844,\n",
       "       -2.72108844, -2.72108844, -2.72108844, -2.72108844, -2.72108844,\n",
       "       -2.72108844, -2.72108844, -2.72108844, -2.72108844, -2.72108844,\n",
       "       -2.72108844, -2.72108844, -2.72108844, -2.72108844, -2.72108844,\n",
       "       -2.72108844, -2.72108844, -2.72108844, -2.72108844, -2.72108844])"
      ]
     },
     "execution_count": 8,
     "metadata": {},
     "output_type": "execute_result"
    }
   ],
   "source": [
    "# Penyelesaian untuk persamaan fungsi y\n",
    "y = np.linspace(-50,50)\n",
    "x = -4/3*y + 5/3\n",
    "\n",
    "dxdy = np.gradient(x)\n",
    "dxdy"
   ]
  }
 ],
 "metadata": {
  "interpreter": {
   "hash": "b645e3867bbeb26c2dd5973a2081989c7357f5a5453332cd8717c6976422f197"
  },
  "kernelspec": {
   "display_name": "Python 3.9.7 ('base')",
   "language": "python",
   "name": "python3"
  },
  "language_info": {
   "codemirror_mode": {
    "name": "ipython",
    "version": 3
   },
   "file_extension": ".py",
   "mimetype": "text/x-python",
   "name": "python",
   "nbconvert_exporter": "python",
   "pygments_lexer": "ipython3",
   "version": "3.9.7"
  },
  "orig_nbformat": 4
 },
 "nbformat": 4,
 "nbformat_minor": 2
}
