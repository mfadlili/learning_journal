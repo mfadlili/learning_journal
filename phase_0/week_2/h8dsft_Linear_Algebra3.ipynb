{
 "cells": [
  {
   "cell_type": "markdown",
   "metadata": {},
   "source": [
    "# Non Graded Challenge 5\n",
    "- Muhammad Fadlil Ismail\n",
    "- FTDS Batch 10 Phase 0"
   ]
  },
  {
   "cell_type": "markdown",
   "metadata": {},
   "source": [
    "## Soal\n",
    "-Apakah :\n",
    "```\n",
    " [[1],\n",
    "  [3]]\n",
    "```\n",
    "adalah eigen vector dari :\n",
    "```\n",
    "[[1,-1],\n",
    " [6, 4]]\n",
    "```\n",
    "Jika iya, berapakah eigen value nya"
   ]
  },
  {
   "cell_type": "code",
   "execution_count": 1,
   "metadata": {},
   "outputs": [],
   "source": [
    "# import library\n",
    "import numpy as np"
   ]
  },
  {
   "cell_type": "code",
   "execution_count": 9,
   "metadata": {},
   "outputs": [
    {
     "data": {
      "text/plain": [
       "array([[-2.],\n",
       "       [ 6.]])"
      ]
     },
     "execution_count": 9,
     "metadata": {},
     "output_type": "execute_result"
    }
   ],
   "source": [
    "# definisikan matriks dan vektor\n",
    "matriks = np.array([[1,-1],\n",
    "                    [6, 4]])\n",
    "vektor = np.array([[1],\n",
    "                   [3]])\n",
    "matriks@vektor/vektor"
   ]
  },
  {
   "cell_type": "markdown",
   "metadata": {},
   "source": [
    "Didapat hasil [-2,6], jika vektor dan matriks tersebut merupakan pasangan eigen vektor dan matriks maka hasil perkalian diatas seharusnya menghasilkan vektor dengan nilai yang sama"
   ]
  },
  {
   "cell_type": "markdown",
   "metadata": {},
   "source": [
    "#### Mencari eigen vector untuk matriks tersebut"
   ]
  },
  {
   "cell_type": "code",
   "execution_count": 12,
   "metadata": {},
   "outputs": [
    {
     "name": "stdout",
     "output_type": "stream",
     "text": [
      "[[-0.23145502+0.29880715j -0.23145502-0.29880715j]\n",
      " [ 0.9258201 +0.j          0.9258201 -0.j        ]]\n",
      "[2.5+1.93649167j 2.5-1.93649167j]\n"
     ]
    }
   ],
   "source": [
    "eig_val, eig_vec = np.linalg.eig(matriks)\n",
    "print(eig_vec)\n",
    "print(eig_val)"
   ]
  },
  {
   "cell_type": "code",
   "execution_count": 13,
   "metadata": {},
   "outputs": [
    {
     "data": {
      "text/plain": [
       "array([[ 1.-4.70796047e-17j, -1.-3.25661782e-18j],\n",
       "       [ 6.+3.20635860e-16j,  4.-7.82938924e-17j]])"
      ]
     },
     "execution_count": 13,
     "metadata": {},
     "output_type": "execute_result"
    }
   ],
   "source": [
    "eig_vec@np.diag(eig_val)@np.linalg.inv(eig_vec)"
   ]
  }
 ],
 "metadata": {
  "interpreter": {
   "hash": "b645e3867bbeb26c2dd5973a2081989c7357f5a5453332cd8717c6976422f197"
  },
  "kernelspec": {
   "display_name": "Python 3.9.7 ('base')",
   "language": "python",
   "name": "python3"
  },
  "language_info": {
   "codemirror_mode": {
    "name": "ipython",
    "version": 3
   },
   "file_extension": ".py",
   "mimetype": "text/x-python",
   "name": "python",
   "nbconvert_exporter": "python",
   "pygments_lexer": "ipython3",
   "version": "3.9.7"
  },
  "orig_nbformat": 4
 },
 "nbformat": 4,
 "nbformat_minor": 2
}
