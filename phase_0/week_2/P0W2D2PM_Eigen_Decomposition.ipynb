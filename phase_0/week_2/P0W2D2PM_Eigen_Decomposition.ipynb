{
  "nbformat": 4,
  "nbformat_minor": 0,
  "metadata": {
    "colab": {
      "name": "P0W2D2PM - Eigen Decomposition.ipynb",
      "provenance": [],
      "collapsed_sections": []
    },
    "kernelspec": {
      "name": "python3",
      "display_name": "Python 3"
    },
    "language_info": {
      "name": "python"
    }
  },
  "cells": [
    {
      "cell_type": "markdown",
      "source": [
        "# **EIGEN**"
      ],
      "metadata": {
        "id": "iCcnv_8eMEg-"
      }
    },
    {
      "cell_type": "code",
      "execution_count": null,
      "metadata": {
        "id": "W2BAu3DRKase"
      },
      "outputs": [],
      "source": [
        "import numpy as np\n",
        "import matplotlib.pyplot as plt"
      ]
    },
    {
      "cell_type": "code",
      "source": [
        "def plot_vector2d(vector2d, origin=[0, 0], **options):\n",
        "    return plt.arrow(origin[0], origin[1], vector2d[0], vector2d[1],\n",
        "              head_width=0.2, head_length=0.3, length_includes_head=True,\n",
        "              **options)"
      ],
      "metadata": {
        "id": "RGLgkyKROTqB"
      },
      "execution_count": null,
      "outputs": []
    },
    {
      "cell_type": "code",
      "source": [
        "a = np.array([2,0])\n",
        "b = a * -1"
      ],
      "metadata": {
        "id": "5znkTFVkZbvN"
      },
      "execution_count": null,
      "outputs": []
    },
    {
      "cell_type": "code",
      "source": [
        "plot_vector2d(b, color=\"b\")\n",
        "plot_vector2d(a, color=\"r\")\n",
        "# plot_vector2d(b, color=\"b\")\n",
        "plt.plot([0,0], [-5,5], color='green')\n",
        "plt.axis([-5, 5, -5, 5])\n",
        "plt.grid()"
      ],
      "metadata": {
        "colab": {
          "base_uri": "https://localhost:8080/",
          "height": 265
        },
        "id": "EPWzXedbZVhR",
        "outputId": "eb6fd5f7-f8d4-4582-854c-f4ab15a04820"
      },
      "execution_count": null,
      "outputs": [
        {
          "output_type": "display_data",
          "data": {
            "text/plain": [
              "<Figure size 432x288 with 1 Axes>"
            ],
            "image/png": "[encoded data removed]"
          },
          "metadata": {
            "needs_background": "light"
          }
        }
      ]
    },
    {
      "cell_type": "code",
      "source": [
        "vec = np.array([[1,2],\n",
        "                [2,4]])\n",
        "\n",
        "eig_val, eig_vec = np.linalg.eig(vec)"
      ],
      "metadata": {
        "id": "51v9tG6-hfkP"
      },
      "execution_count": null,
      "outputs": []
    },
    {
      "cell_type": "code",
      "source": [
        "eig_val"
      ],
      "metadata": {
        "colab": {
          "base_uri": "https://localhost:8080/"
        },
        "id": "aZ7XMsC8h07t",
        "outputId": "a2b69a1f-73ac-4b43-f961-8071516cda7f"
      },
      "execution_count": null,
      "outputs": [
        {
          "output_type": "execute_result",
          "data": {
            "text/plain": [
              "array([0., 5.])"
            ]
          },
          "metadata": {},
          "execution_count": 25
        }
      ]
    },
    {
      "cell_type": "code",
      "source": [
        "eig_vec"
      ],
      "metadata": {
        "colab": {
          "base_uri": "https://localhost:8080/"
        },
        "id": "4bgPBJFAh4kn",
        "outputId": "a57808d8-2381-400d-8a65-6a5b5d6dde8f"
      },
      "execution_count": null,
      "outputs": [
        {
          "output_type": "execute_result",
          "data": {
            "text/plain": [
              "array([[-0.89442719, -0.4472136 ],\n",
              "       [ 0.4472136 , -0.89442719]])"
            ]
          },
          "metadata": {},
          "execution_count": 26
        }
      ]
    },
    {
      "cell_type": "code",
      "source": [
        "for i in range(0,2):\n",
        "  print(eig_val[i], eig_vec[i])"
      ],
      "metadata": {
        "colab": {
          "base_uri": "https://localhost:8080/"
        },
        "id": "5Be6oiXdkFby",
        "outputId": "b8b498ce-7f68-432d-fad3-375e1b81af87"
      },
      "execution_count": null,
      "outputs": [
        {
          "output_type": "stream",
          "name": "stdout",
          "text": [
            "0.0 [-0.89442719 -0.4472136 ]\n",
            "5.0 [ 0.4472136  -0.89442719]\n"
          ]
        }
      ]
    },
    {
      "cell_type": "code",
      "source": [
        "vec_1 = np.array([5, 10])\n",
        "vec_1 / np.sqrt(125)"
      ],
      "metadata": {
        "colab": {
          "base_uri": "https://localhost:8080/"
        },
        "id": "14lqInFGiY8Z",
        "outputId": "ef0fc87a-a4ba-4ced-e3ff-22927e9f9e0f"
      },
      "execution_count": null,
      "outputs": [
        {
          "output_type": "execute_result",
          "data": {
            "text/plain": [
              "array([0.4472136 , 0.89442719])"
            ]
          },
          "metadata": {},
          "execution_count": 17
        }
      ]
    },
    {
      "cell_type": "code",
      "source": [
        "vec_2 = np.array([1, 2])\n",
        "vec_2 / np.sqrt(5)"
      ],
      "metadata": {
        "colab": {
          "base_uri": "https://localhost:8080/"
        },
        "id": "6wdMA8cJiiPn",
        "outputId": "61d457b2-f899-444b-d11d-ca9447447d4d"
      },
      "execution_count": null,
      "outputs": [
        {
          "output_type": "execute_result",
          "data": {
            "text/plain": [
              "array([0.4472136 , 0.89442719])"
            ]
          },
          "metadata": {},
          "execution_count": 18
        }
      ]
    },
    {
      "cell_type": "code",
      "source": [
        "# eigen decomposition\n",
        "eig_val"
      ],
      "metadata": {
        "colab": {
          "base_uri": "https://localhost:8080/"
        },
        "id": "F8e_06mRlqw8",
        "outputId": "9c57bd40-c8f0-400c-b240-1b5bd5674808"
      },
      "execution_count": null,
      "outputs": [
        {
          "output_type": "execute_result",
          "data": {
            "text/plain": [
              "array([0., 5.])"
            ]
          },
          "metadata": {},
          "execution_count": 29
        }
      ]
    },
    {
      "cell_type": "code",
      "source": [
        "eig_vec"
      ],
      "metadata": {
        "colab": {
          "base_uri": "https://localhost:8080/"
        },
        "id": "3zLL2Qb2lyCg",
        "outputId": "40974f8c-3978-48fb-9915-55343d719375"
      },
      "execution_count": null,
      "outputs": [
        {
          "output_type": "execute_result",
          "data": {
            "text/plain": [
              "array([[-0.89442719, -0.4472136 ],\n",
              "       [ 0.4472136 , -0.89442719]])"
            ]
          },
          "metadata": {},
          "execution_count": 30
        }
      ]
    },
    {
      "cell_type": "code",
      "source": [
        "vec"
      ],
      "metadata": {
        "colab": {
          "base_uri": "https://localhost:8080/"
        },
        "id": "SyAxqN5ImLsb",
        "outputId": "b14a2c80-93f4-46ac-f0c6-295b83c7f270"
      },
      "execution_count": null,
      "outputs": [
        {
          "output_type": "execute_result",
          "data": {
            "text/plain": [
              "array([[1, 2],\n",
              "       [2, 4]])"
            ]
          },
          "metadata": {},
          "execution_count": 34
        }
      ]
    },
    {
      "cell_type": "code",
      "source": [
        "# eigen deconstruction\n",
        "deconstruct = eig_vec @ np.diag(eig_val) @ np.linalg.inv(eig_vec)\n",
        "deconstruct"
      ],
      "metadata": {
        "colab": {
          "base_uri": "https://localhost:8080/"
        },
        "id": "KlNRqWoMl0Bp",
        "outputId": "54c50e92-8a81-42e7-9054-2ac8e6b757b2"
      },
      "execution_count": null,
      "outputs": [
        {
          "output_type": "execute_result",
          "data": {
            "text/plain": [
              "array([[1., 2.],\n",
              "       [2., 4.]])"
            ]
          },
          "metadata": {},
          "execution_count": 33
        }
      ]
    },
    {
      "cell_type": "code",
      "source": [
        "coba = np.array([[0, -1],\n",
        "          [1, 0]])\n",
        "\n",
        "eigval, eigvec = np.linalg.eig(coba)"
      ],
      "metadata": {
        "id": "SRUajChInpAh"
      },
      "execution_count": null,
      "outputs": []
    },
    {
      "cell_type": "code",
      "source": [
        "print(np.abs(eigval))"
      ],
      "metadata": {
        "colab": {
          "base_uri": "https://localhost:8080/"
        },
        "id": "5inXFvS8n988",
        "outputId": "9736a79e-fc2f-4d4b-bb7c-896eeb96b64f"
      },
      "execution_count": null,
      "outputs": [
        {
          "output_type": "stream",
          "name": "stdout",
          "text": [
            "[1. 1.]\n"
          ]
        }
      ]
    },
    {
      "cell_type": "code",
      "source": [
        "print(np.abs(eigvec))"
      ],
      "metadata": {
        "colab": {
          "base_uri": "https://localhost:8080/"
        },
        "id": "ioL9KnOLoB09",
        "outputId": "d460509d-d174-4a0a-961f-239f74f702ad"
      },
      "execution_count": null,
      "outputs": [
        {
          "output_type": "stream",
          "name": "stdout",
          "text": [
            "[[0.70710678 0.70710678]\n",
            " [0.70710678 0.70710678]]\n"
          ]
        }
      ]
    },
    {
      "cell_type": "markdown",
      "source": [
        "## Case Study: Social Media Analysis"
      ],
      "metadata": {
        "id": "QXVtIhgTnSu1"
      }
    },
    {
      "cell_type": "code",
      "source": [
        "sc = np.array([[0, .25, 0, .5, 0, 0],\n",
        "               [0, 0, 0, 0, 0, 0],\n",
        "               [.5, .25, 0, 0, 0, .5],\n",
        "               [.5, .25, 0, 0, 0, .5],\n",
        "               [0, .25, 0, .5, 0, 0],\n",
        "               [0, 0, 0, 0, 0, 0]])\n",
        "sc"
      ],
      "metadata": {
        "colab": {
          "base_uri": "https://localhost:8080/"
        },
        "id": "5La55SYznRx8",
        "outputId": "68113242-4995-4bbb-b1b5-9b232204cec7"
      },
      "execution_count": null,
      "outputs": [
        {
          "output_type": "execute_result",
          "data": {
            "text/plain": [
              "array([[0.  , 0.25, 0.  , 0.5 , 0.  , 0.  ],\n",
              "       [0.  , 0.  , 0.  , 0.  , 0.  , 0.  ],\n",
              "       [0.5 , 0.25, 0.  , 0.  , 0.  , 0.5 ],\n",
              "       [0.5 , 0.25, 0.  , 0.  , 0.  , 0.5 ],\n",
              "       [0.  , 0.25, 0.  , 0.5 , 0.  , 0.  ],\n",
              "       [0.  , 0.  , 0.  , 0.  , 0.  , 0.  ]])"
            ]
          },
          "metadata": {},
          "execution_count": 47
        }
      ]
    },
    {
      "cell_type": "code",
      "source": [
        "# cari nilai eigen value dan eigen vector\n",
        "e_val, e_vec = np.linalg.eig(sc)"
      ],
      "metadata": {
        "id": "bVGS_0y3rJhp"
      },
      "execution_count": null,
      "outputs": []
    },
    {
      "cell_type": "code",
      "source": [
        "e_val"
      ],
      "metadata": {
        "colab": {
          "base_uri": "https://localhost:8080/"
        },
        "id": "BjwLjj3PrUY4",
        "outputId": "5eb41d32-cfe9-4367-aafc-fe9e83f2d9fc"
      },
      "execution_count": null,
      "outputs": [
        {
          "output_type": "execute_result",
          "data": {
            "text/plain": [
              "array([ 0. ,  0. ,  0.5, -0.5,  0. ,  0. ])"
            ]
          },
          "metadata": {},
          "execution_count": 49
        }
      ]
    },
    {
      "cell_type": "code",
      "source": [
        "e_vec"
      ],
      "metadata": {
        "colab": {
          "base_uri": "https://localhost:8080/"
        },
        "id": "yw7yMvEirWS1",
        "outputId": "c23dbe5f-9ff7-4b4e-c085-28651da3f9fa"
      },
      "execution_count": null,
      "outputs": [
        {
          "output_type": "execute_result",
          "data": {
            "text/plain": [
              "array([[ 0.00000000e+000,  0.00000000e+000,  5.00000000e-001,\n",
              "        -5.00000000e-001, -2.16623325e-276, -2.34960985e-276],\n",
              "       [ 0.00000000e+000,  0.00000000e+000,  0.00000000e+000,\n",
              "         0.00000000e+000,  4.33246650e-276,  0.00000000e+000],\n",
              "       [ 0.00000000e+000,  1.00000000e+000,  5.00000000e-001,\n",
              "         5.00000000e-001,  6.00000000e-001,  2.16930458e-001],\n",
              "       [ 0.00000000e+000,  0.00000000e+000,  5.00000000e-001,\n",
              "         5.00000000e-001, -2.16623325e-276,  1.10526918e-291],\n",
              "       [ 1.00000000e+000,  0.00000000e+000,  5.00000000e-001,\n",
              "        -5.00000000e-001, -8.00000000e-001, -9.76187060e-001],\n",
              "       [ 0.00000000e+000,  0.00000000e+000,  0.00000000e+000,\n",
              "         0.00000000e+000,  0.00000000e+000,  2.34960985e-276]])"
            ]
          },
          "metadata": {},
          "execution_count": 56
        }
      ]
    },
    {
      "cell_type": "code",
      "source": [
        "# step 2. cari posisi eigen value terbesar\n",
        "e_val"
      ],
      "metadata": {
        "colab": {
          "base_uri": "https://localhost:8080/"
        },
        "id": "rcVJOFR3rYKA",
        "outputId": "727d5933-c699-4b4b-e9cf-a21c33c73b2c"
      },
      "execution_count": null,
      "outputs": [
        {
          "output_type": "execute_result",
          "data": {
            "text/plain": [
              "array([ 0. ,  0. ,  0.5, -0.5,  0. ,  0. ])"
            ]
          },
          "metadata": {},
          "execution_count": 51
        }
      ]
    },
    {
      "cell_type": "code",
      "source": [
        "np.argmax(e_val)"
      ],
      "metadata": {
        "colab": {
          "base_uri": "https://localhost:8080/"
        },
        "id": "WoaxLLs5rhTw",
        "outputId": "50a6f348-564e-4598-afba-54e81f57b4a7"
      },
      "execution_count": null,
      "outputs": [
        {
          "output_type": "execute_result",
          "data": {
            "text/plain": [
              "2"
            ]
          },
          "metadata": {},
          "execution_count": 52
        }
      ]
    },
    {
      "cell_type": "code",
      "source": [
        "# step 3. dari pasangan eigen value terbesar, cari posisi nilai terbesar di dalam eigen vectornya\n",
        "e_vec[2]"
      ],
      "metadata": {
        "colab": {
          "base_uri": "https://localhost:8080/"
        },
        "id": "d9piIAhwrnVO",
        "outputId": "2106d14b-4104-478f-dc53-9ab8ad4b41b7"
      },
      "execution_count": null,
      "outputs": [
        {
          "output_type": "execute_result",
          "data": {
            "text/plain": [
              "array([0.        , 1.        , 0.5       , 0.5       , 0.6       ,\n",
              "       0.21693046])"
            ]
          },
          "metadata": {},
          "execution_count": 58
        }
      ]
    },
    {
      "cell_type": "code",
      "source": [
        "np.argmax(e_vec[2])"
      ],
      "metadata": {
        "colab": {
          "base_uri": "https://localhost:8080/"
        },
        "id": "OY8Tn3PmsOCI",
        "outputId": "00b8e2d7-2818-4f1a-e91e-35c55637a4ca"
      },
      "execution_count": null,
      "outputs": [
        {
          "output_type": "execute_result",
          "data": {
            "text/plain": [
              "1"
            ]
          },
          "metadata": {},
          "execution_count": 59
        }
      ]
    },
    {
      "cell_type": "markdown",
      "source": [
        "posisi ke-1 atau akun B memiliki pengaruh paling besar di dalam lingkup pergaulannya."
      ],
      "metadata": {
        "id": "BRjIot1psfjT"
      }
    }
  ]
}