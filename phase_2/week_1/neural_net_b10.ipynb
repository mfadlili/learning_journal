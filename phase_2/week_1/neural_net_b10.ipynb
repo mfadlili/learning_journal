{
  "nbformat": 4,
  "nbformat_minor": 0,
  "metadata": {
    "colab": {
      "name": "neural_net_b10.ipynb",
      "provenance": []
    },
    "kernelspec": {
      "name": "python3",
      "display_name": "Python 3"
    },
    "language_info": {
      "name": "python"
    },
    "accelerator": "GPU"
  },
  "cells": [
    {
      "cell_type": "markdown",
      "source": [
        "# Neural Network with Tensorflow\n",
        "\n",
        "Langkah membuat neural network : \n",
        "\n",
        "- Siapkan Data -> Fitur\n",
        "  - Open / Gather data\n",
        "  - Preprocessing\n",
        "  - Feature Engineering\n",
        "- Buat Arsitektur NN\n",
        "  - Sequential API\n",
        "  - Functional API\n",
        "- Compile (translate kode -> bahasa mesin) Model NN\n",
        "  - Tentukan Loss yang digunakan\n",
        "  - Tentukan Optimizer yang digunakan\n",
        "  - Tentukan metrik yang ingin dimonitor\n",
        "  - Callback\n",
        "- Training"
      ],
      "metadata": {
        "id": "h7Qu2vKSzEMq"
      }
    },
    {
      "cell_type": "markdown",
      "source": [
        "### Modelling with Titanic Data"
      ],
      "metadata": {
        "id": "rgNkH1Mb1qSl"
      }
    },
    {
      "cell_type": "code",
      "execution_count": null,
      "metadata": {
        "colab": {
          "base_uri": "https://localhost:8080/",
          "height": 238
        },
        "id": "AHKq6QCoxHr3",
        "outputId": "8625a68b-3a1b-4c9a-ee8c-02115b7e004b"
      },
      "outputs": [
        {
          "output_type": "execute_result",
          "data": {
            "text/plain": [
              "             Survived  Pclass  \\\n",
              "PassengerId                     \n",
              "1                   0       3   \n",
              "2                   1       1   \n",
              "3                   1       3   \n",
              "4                   1       1   \n",
              "5                   0       3   \n",
              "\n",
              "                                                          Name     Sex   Age  \\\n",
              "PassengerId                                                                    \n",
              "1                                      Braund, Mr. Owen Harris    male  22.0   \n",
              "2            Cumings, Mrs. John Bradley (Florence Briggs Th...  female  38.0   \n",
              "3                                       Heikkinen, Miss. Laina  female  26.0   \n",
              "4                 Futrelle, Mrs. Jacques Heath (Lily May Peel)  female  35.0   \n",
              "5                                     Allen, Mr. William Henry    male  35.0   \n",
              "\n",
              "             SibSp  Parch            Ticket     Fare Cabin Embarked  \n",
              "PassengerId                                                          \n",
              "1                1      0         A/5 21171   7.2500   NaN        S  \n",
              "2                1      0          PC 17599  71.2833   C85        C  \n",
              "3                0      0  STON/O2. 3101282   7.9250   NaN        S  \n",
              "4                1      0            113803  53.1000  C123        S  \n",
              "5                0      0            373450   8.0500   NaN        S  "
            ],
            "text/html": [
              "\n",
              "  <div id=\"df-47638806-ed71-412b-ad03-ed5a6c53f1e1\">\n",
              "    <div class=\"colab-df-container\">\n",
              "      <div>\n",
              "<style scoped>\n",
              "    .dataframe tbody tr th:only-of-type {\n",
              "        vertical-align: middle;\n",
              "    }\n",
              "\n",
              "    .dataframe tbody tr th {\n",
              "        vertical-align: top;\n",
              "    }\n",
              "\n",
              "    .dataframe thead th {\n",
              "        text-align: right;\n",
              "    }\n",
              "</style>\n",
              "<table border=\"1\" class=\"dataframe\">\n",
              "  <thead>\n",
              "    <tr style=\"text-align: right;\">\n",
              "      <th></th>\n",
              "      <th>Survived</th>\n",
              "      <th>Pclass</th>\n",
              "      <th>Name</th>\n",
              "      <th>Sex</th>\n",
              "      <th>Age</th>\n",
              "      <th>SibSp</th>\n",
              "      <th>Parch</th>\n",
              "      <th>Ticket</th>\n",
              "      <th>Fare</th>\n",
              "      <th>Cabin</th>\n",
              "      <th>Embarked</th>\n",
              "    </tr>\n",
              "    <tr>\n",
              "      <th>PassengerId</th>\n",
              "      <th></th>\n",
              "      <th></th>\n",
              "      <th></th>\n",
              "      <th></th>\n",
              "      <th></th>\n",
              "      <th></th>\n",
              "      <th></th>\n",
              "      <th></th>\n",
              "      <th></th>\n",
              "      <th></th>\n",
              "      <th></th>\n",
              "    </tr>\n",
              "  </thead>\n",
              "  <tbody>\n",
              "    <tr>\n",
              "      <th>1</th>\n",
              "      <td>0</td>\n",
              "      <td>3</td>\n",
              "      <td>Braund, Mr. Owen Harris</td>\n",
              "      <td>male</td>\n",
              "      <td>22.0</td>\n",
              "      <td>1</td>\n",
              "      <td>0</td>\n",
              "      <td>A/5 21171</td>\n",
              "      <td>7.2500</td>\n",
              "      <td>NaN</td>\n",
              "      <td>S</td>\n",
              "    </tr>\n",
              "    <tr>\n",
              "      <th>2</th>\n",
              "      <td>1</td>\n",
              "      <td>1</td>\n",
              "      <td>Cumings, Mrs. John Bradley (Florence Briggs Th...</td>\n",
              "      <td>female</td>\n",
              "      <td>38.0</td>\n",
              "      <td>1</td>\n",
              "      <td>0</td>\n",
              "      <td>PC 17599</td>\n",
              "      <td>71.2833</td>\n",
              "      <td>C85</td>\n",
              "      <td>C</td>\n",
              "    </tr>\n",
              "    <tr>\n",
              "      <th>3</th>\n",
              "      <td>1</td>\n",
              "      <td>3</td>\n",
              "      <td>Heikkinen, Miss. Laina</td>\n",
              "      <td>female</td>\n",
              "      <td>26.0</td>\n",
              "      <td>0</td>\n",
              "      <td>0</td>\n",
              "      <td>STON/O2. 3101282</td>\n",
              "      <td>7.9250</td>\n",
              "      <td>NaN</td>\n",
              "      <td>S</td>\n",
              "    </tr>\n",
              "    <tr>\n",
              "      <th>4</th>\n",
              "      <td>1</td>\n",
              "      <td>1</td>\n",
              "      <td>Futrelle, Mrs. Jacques Heath (Lily May Peel)</td>\n",
              "      <td>female</td>\n",
              "      <td>35.0</td>\n",
              "      <td>1</td>\n",
              "      <td>0</td>\n",
              "      <td>113803</td>\n",
              "      <td>53.1000</td>\n",
              "      <td>C123</td>\n",
              "      <td>S</td>\n",
              "    </tr>\n",
              "    <tr>\n",
              "      <th>5</th>\n",
              "      <td>0</td>\n",
              "      <td>3</td>\n",
              "      <td>Allen, Mr. William Henry</td>\n",
              "      <td>male</td>\n",
              "      <td>35.0</td>\n",
              "      <td>0</td>\n",
              "      <td>0</td>\n",
              "      <td>373450</td>\n",
              "      <td>8.0500</td>\n",
              "      <td>NaN</td>\n",
              "      <td>S</td>\n",
              "    </tr>\n",
              "  </tbody>\n",
              "</table>\n",
              "</div>\n",
              "      <button class=\"colab-df-convert\" onclick=\"convertToInteractive('df-47638806-ed71-412b-ad03-ed5a6c53f1e1')\"\n",
              "              title=\"Convert this dataframe to an interactive table.\"\n",
              "              style=\"display:none;\">\n",
              "        \n",
              "  <svg xmlns=\"http://www.w3.org/2000/svg\" height=\"24px\"viewBox=\"0 0 24 24\"\n",
              "       width=\"24px\">\n",
              "    <path d=\"M0 0h24v24H0V0z\" fill=\"none\"/>\n",
              "    <path d=\"M18.56 5.44l.94 2.06.94-2.06 2.06-.94-2.06-.94-.94-2.06-.94 2.06-2.06.94zm-11 1L8.5 8.5l.94-2.06 2.06-.94-2.06-.94L8.5 2.5l-.94 2.06-2.06.94zm10 10l.94 2.06.94-2.06 2.06-.94-2.06-.94-.94-2.06-.94 2.06-2.06.94z\"/><path d=\"M17.41 7.96l-1.37-1.37c-.4-.4-.92-.59-1.43-.59-.52 0-1.04.2-1.43.59L10.3 9.45l-7.72 7.72c-.78.78-.78 2.05 0 2.83L4 21.41c.39.39.9.59 1.41.59.51 0 1.02-.2 1.41-.59l7.78-7.78 2.81-2.81c.8-.78.8-2.07 0-2.86zM5.41 20L4 18.59l7.72-7.72 1.47 1.35L5.41 20z\"/>\n",
              "  </svg>\n",
              "      </button>\n",
              "      \n",
              "  <style>\n",
              "    .colab-df-container {\n",
              "      display:flex;\n",
              "      flex-wrap:wrap;\n",
              "      gap: 12px;\n",
              "    }\n",
              "\n",
              "    .colab-df-convert {\n",
              "      background-color: #E8F0FE;\n",
              "      border: none;\n",
              "      border-radius: 50%;\n",
              "      cursor: pointer;\n",
              "      display: none;\n",
              "      fill: #1967D2;\n",
              "      height: 32px;\n",
              "      padding: 0 0 0 0;\n",
              "      width: 32px;\n",
              "    }\n",
              "\n",
              "    .colab-df-convert:hover {\n",
              "      background-color: #E2EBFA;\n",
              "      box-shadow: 0px 1px 2px rgba(60, 64, 67, 0.3), 0px 1px 3px 1px rgba(60, 64, 67, 0.15);\n",
              "      fill: #174EA6;\n",
              "    }\n",
              "\n",
              "    [theme=dark] .colab-df-convert {\n",
              "      background-color: #3B4455;\n",
              "      fill: #D2E3FC;\n",
              "    }\n",
              "\n",
              "    [theme=dark] .colab-df-convert:hover {\n",
              "      background-color: #434B5C;\n",
              "      box-shadow: 0px 1px 3px 1px rgba(0, 0, 0, 0.15);\n",
              "      filter: drop-shadow(0px 1px 2px rgba(0, 0, 0, 0.3));\n",
              "      fill: #FFFFFF;\n",
              "    }\n",
              "  </style>\n",
              "\n",
              "      <script>\n",
              "        const buttonEl =\n",
              "          document.querySelector('#df-47638806-ed71-412b-ad03-ed5a6c53f1e1 button.colab-df-convert');\n",
              "        buttonEl.style.display =\n",
              "          google.colab.kernel.accessAllowed ? 'block' : 'none';\n",
              "\n",
              "        async function convertToInteractive(key) {\n",
              "          const element = document.querySelector('#df-47638806-ed71-412b-ad03-ed5a6c53f1e1');\n",
              "          const dataTable =\n",
              "            await google.colab.kernel.invokeFunction('convertToInteractive',\n",
              "                                                     [key], {});\n",
              "          if (!dataTable) return;\n",
              "\n",
              "          const docLinkHtml = 'Like what you see? Visit the ' +\n",
              "            '<a target=\"_blank\" href=https://colab.research.google.com/notebooks/data_table.ipynb>data table notebook</a>'\n",
              "            + ' to learn more about interactive tables.';\n",
              "          element.innerHTML = '';\n",
              "          dataTable['output_type'] = 'display_data';\n",
              "          await google.colab.output.renderOutput(dataTable, element);\n",
              "          const docLink = document.createElement('div');\n",
              "          docLink.innerHTML = docLinkHtml;\n",
              "          element.appendChild(docLink);\n",
              "        }\n",
              "      </script>\n",
              "    </div>\n",
              "  </div>\n",
              "  "
            ]
          },
          "metadata": {},
          "execution_count": 1
        }
      ],
      "source": [
        "import pandas as pd\n",
        "\n",
        "df = pd.read_csv(\"https://raw.githubusercontent.com/afifai/pelatihan_machinelearning/master/data/train.csv\", index_col=0)\n",
        "df.head()"
      ]
    },
    {
      "cell_type": "code",
      "source": [
        "df.drop(['Name', 'Ticket', 'Cabin', 'Embarked'], axis=1, inplace=True)"
      ],
      "metadata": {
        "id": "d0QetzqU1vIA"
      },
      "execution_count": null,
      "outputs": []
    },
    {
      "cell_type": "code",
      "source": [
        "from sklearn.model_selection import train_test_split\n",
        "\n",
        "X = df.drop('Survived', axis=1)\n",
        "y = df['Survived']\n",
        "\n",
        "X_train, X_test, y_train, y_test = train_test_split(X, y, test_size=0.15, random_state=46)\n",
        "X_train, X_val, y_train, y_val = train_test_split(X_train, y_train, test_size=0.1, random_state=46)"
      ],
      "metadata": {
        "id": "kbf2gKSR11Zq"
      },
      "execution_count": null,
      "outputs": []
    },
    {
      "cell_type": "code",
      "source": [
        "from sklearn.pipeline import Pipeline, make_pipeline\n",
        "from sklearn.compose import ColumnTransformer\n",
        "from sklearn.preprocessing import OneHotEncoder, StandardScaler\n",
        "from sklearn.impute import SimpleImputer\n",
        "\n",
        "num_col = ['Pclass', 'Age', 'SibSp', 'Parch', 'Fare']\n",
        "cat_col = ['Sex']\n",
        "\n",
        "num_pipeline = make_pipeline(SimpleImputer(strategy='median'),\n",
        "                             StandardScaler())\n",
        "\n",
        "cat_pipeline = make_pipeline(OneHotEncoder())\n",
        "\n",
        "data_pipeline = ColumnTransformer([\n",
        "    ('pipe_num', num_pipeline, num_col),\n",
        "    ('pipe_cat', cat_pipeline, cat_col)\n",
        "])"
      ],
      "metadata": {
        "id": "52ushkJp2aWp"
      },
      "execution_count": null,
      "outputs": []
    },
    {
      "cell_type": "code",
      "source": [
        "# ekstrak fitur\n",
        "X_train = data_pipeline.fit_transform(X_train)\n",
        "X_val = data_pipeline.transform(X_val)\n",
        "X_test = data_pipeline.transform(X_test)"
      ],
      "metadata": {
        "id": "0eHodW1t3DKu"
      },
      "execution_count": null,
      "outputs": []
    },
    {
      "cell_type": "code",
      "source": [
        "X_train.shape"
      ],
      "metadata": {
        "colab": {
          "base_uri": "https://localhost:8080/"
        },
        "id": "7wa2hSNm5M9w",
        "outputId": "0ef4e7b5-780b-4f00-ea6b-c8333c55fc02"
      },
      "execution_count": null,
      "outputs": [
        {
          "output_type": "execute_result",
          "data": {
            "text/plain": [
              "(681, 7)"
            ]
          },
          "metadata": {},
          "execution_count": 9
        }
      ]
    },
    {
      "cell_type": "code",
      "source": [
        "X_val.shape"
      ],
      "metadata": {
        "colab": {
          "base_uri": "https://localhost:8080/"
        },
        "id": "vtmRr_kq5RQA",
        "outputId": "2cc7671d-c4c2-47b0-dbdb-cb2da00f41ef"
      },
      "execution_count": null,
      "outputs": [
        {
          "output_type": "execute_result",
          "data": {
            "text/plain": [
              "(76, 7)"
            ]
          },
          "metadata": {},
          "execution_count": 10
        }
      ]
    },
    {
      "cell_type": "code",
      "source": [
        "X_test.shape"
      ],
      "metadata": {
        "colab": {
          "base_uri": "https://localhost:8080/"
        },
        "id": "TdcjYDbC5YBJ",
        "outputId": "d77a5fc8-1ce6-4150-fe34-70d7087b2121"
      },
      "execution_count": null,
      "outputs": [
        {
          "output_type": "execute_result",
          "data": {
            "text/plain": [
              "(134, 7)"
            ]
          },
          "metadata": {},
          "execution_count": 11
        }
      ]
    },
    {
      "cell_type": "markdown",
      "source": [
        "### Buat Arsitektur NN"
      ],
      "metadata": {
        "id": "0g7KMn1T5hbE"
      }
    },
    {
      "cell_type": "code",
      "source": [
        "# sequential API\n",
        "from tensorflow.keras.models import Sequential\n",
        "from tensorflow.keras.layers import Dense\n",
        "\n",
        "\"\"\"\n",
        "functional api\n",
        "\n",
        "data_in = Input(shape=(7,))\n",
        "hidden_1 = Dense(4, activation='relu')(data_in)\n",
        "out = Dense(1, activation='sigmoid')(hidden_1)\n",
        "\n",
        "model = Model(inputs=data_in, outputs=out)\n",
        "\"\"\"\n",
        "\n",
        "# buat arsitekturnya\n",
        "model = Sequential()\n",
        "model.add(Dense(4, activation='relu', input_shape=(7,))) # hidden layer 1\n",
        "model.add(Dense(1, activation='sigmoid')) # output layer\n",
        "\n",
        "\n",
        "# compile\n",
        "model.compile(loss='binary_crossentropy',\n",
        "              optimizer='adam', # paling modern\n",
        "              metrics=['accuracy'])\n",
        "\n",
        "# train\n",
        "history = model.fit(X_train, y_train, epochs=300, validation_data=(X_val, y_val))"
      ],
      "metadata": {
        "colab": {
          "base_uri": "https://localhost:8080/"
        },
        "id": "bWeJM4i35kAD",
        "outputId": "08b32a81-e421-4520-9752-051eaeca48f8"
      },
      "execution_count": null,
      "outputs": [
        {
          "output_type": "stream",
          "name": "stdout",
          "text": [
            "Epoch 1/300\n",
            "22/22 [==============================] - 1s 12ms/step - loss: 0.6509 - accuracy: 0.6535 - val_loss: 0.6393 - val_accuracy: 0.6974\n",
            "Epoch 2/300\n",
            "22/22 [==============================] - 0s 5ms/step - loss: 0.6299 - accuracy: 0.6916 - val_loss: 0.6202 - val_accuracy: 0.6447\n",
            "Epoch 3/300\n",
            "22/22 [==============================] - 0s 6ms/step - loss: 0.6123 - accuracy: 0.6769 - val_loss: 0.6045 - val_accuracy: 0.6447\n",
            "Epoch 4/300\n",
            "22/22 [==============================] - 0s 5ms/step - loss: 0.5974 - accuracy: 0.6755 - val_loss: 0.5917 - val_accuracy: 0.6447\n",
            "Epoch 5/300\n",
            "22/22 [==============================] - 0s 5ms/step - loss: 0.5849 - accuracy: 0.6769 - val_loss: 0.5815 - val_accuracy: 0.6447\n",
            "Epoch 6/300\n",
            "22/22 [==============================] - 0s 6ms/step - loss: 0.5741 - accuracy: 0.6740 - val_loss: 0.5734 - val_accuracy: 0.6447\n",
            "Epoch 7/300\n",
            "22/22 [==============================] - 0s 5ms/step - loss: 0.5657 - accuracy: 0.6755 - val_loss: 0.5670 - val_accuracy: 0.6316\n",
            "Epoch 8/300\n",
            "22/22 [==============================] - 0s 5ms/step - loss: 0.5580 - accuracy: 0.6769 - val_loss: 0.5621 - val_accuracy: 0.6316\n",
            "Epoch 9/300\n",
            "22/22 [==============================] - 0s 6ms/step - loss: 0.5522 - accuracy: 0.6799 - val_loss: 0.5577 - val_accuracy: 0.6316\n",
            "Epoch 10/300\n",
            "22/22 [==============================] - 0s 5ms/step - loss: 0.5471 - accuracy: 0.6799 - val_loss: 0.5542 - val_accuracy: 0.6447\n",
            "Epoch 11/300\n",
            "22/22 [==============================] - 0s 5ms/step - loss: 0.5423 - accuracy: 0.6872 - val_loss: 0.5510 - val_accuracy: 0.6447\n",
            "Epoch 12/300\n",
            "22/22 [==============================] - 0s 6ms/step - loss: 0.5382 - accuracy: 0.6946 - val_loss: 0.5483 - val_accuracy: 0.6447\n",
            "Epoch 13/300\n",
            "22/22 [==============================] - 0s 5ms/step - loss: 0.5341 - accuracy: 0.7019 - val_loss: 0.5454 - val_accuracy: 0.6579\n",
            "Epoch 14/300\n",
            "22/22 [==============================] - 0s 6ms/step - loss: 0.5305 - accuracy: 0.7034 - val_loss: 0.5429 - val_accuracy: 0.6579\n",
            "Epoch 15/300\n",
            "22/22 [==============================] - 0s 5ms/step - loss: 0.5266 - accuracy: 0.7137 - val_loss: 0.5398 - val_accuracy: 0.6447\n",
            "Epoch 16/300\n",
            "22/22 [==============================] - 0s 6ms/step - loss: 0.5230 - accuracy: 0.7327 - val_loss: 0.5373 - val_accuracy: 0.6842\n",
            "Epoch 17/300\n",
            "22/22 [==============================] - 0s 5ms/step - loss: 0.5198 - accuracy: 0.7489 - val_loss: 0.5341 - val_accuracy: 0.6974\n",
            "Epoch 18/300\n",
            "22/22 [==============================] - 0s 5ms/step - loss: 0.5164 - accuracy: 0.7474 - val_loss: 0.5312 - val_accuracy: 0.6974\n",
            "Epoch 19/300\n",
            "22/22 [==============================] - 0s 5ms/step - loss: 0.5130 - accuracy: 0.7577 - val_loss: 0.5288 - val_accuracy: 0.6974\n",
            "Epoch 20/300\n",
            "22/22 [==============================] - 0s 5ms/step - loss: 0.5098 - accuracy: 0.7606 - val_loss: 0.5264 - val_accuracy: 0.7105\n",
            "Epoch 21/300\n",
            "22/22 [==============================] - 0s 5ms/step - loss: 0.5067 - accuracy: 0.7621 - val_loss: 0.5241 - val_accuracy: 0.7105\n",
            "Epoch 22/300\n",
            "22/22 [==============================] - 0s 5ms/step - loss: 0.5038 - accuracy: 0.7709 - val_loss: 0.5213 - val_accuracy: 0.7105\n",
            "Epoch 23/300\n",
            "22/22 [==============================] - 0s 5ms/step - loss: 0.5008 - accuracy: 0.7709 - val_loss: 0.5185 - val_accuracy: 0.7237\n",
            "Epoch 24/300\n",
            "22/22 [==============================] - 0s 5ms/step - loss: 0.4981 - accuracy: 0.7768 - val_loss: 0.5165 - val_accuracy: 0.7105\n",
            "Epoch 25/300\n",
            "22/22 [==============================] - 0s 5ms/step - loss: 0.4951 - accuracy: 0.7930 - val_loss: 0.5127 - val_accuracy: 0.7237\n",
            "Epoch 26/300\n",
            "22/22 [==============================] - 0s 5ms/step - loss: 0.4922 - accuracy: 0.7930 - val_loss: 0.5098 - val_accuracy: 0.7237\n",
            "Epoch 27/300\n",
            "22/22 [==============================] - 0s 5ms/step - loss: 0.4897 - accuracy: 0.7915 - val_loss: 0.5075 - val_accuracy: 0.7237\n",
            "Epoch 28/300\n",
            "22/22 [==============================] - 0s 5ms/step - loss: 0.4869 - accuracy: 0.7944 - val_loss: 0.5042 - val_accuracy: 0.7237\n",
            "Epoch 29/300\n",
            "22/22 [==============================] - 0s 5ms/step - loss: 0.4845 - accuracy: 0.7900 - val_loss: 0.5011 - val_accuracy: 0.7368\n",
            "Epoch 30/300\n",
            "22/22 [==============================] - 0s 6ms/step - loss: 0.4821 - accuracy: 0.7974 - val_loss: 0.4988 - val_accuracy: 0.7237\n",
            "Epoch 31/300\n",
            "22/22 [==============================] - 0s 5ms/step - loss: 0.4799 - accuracy: 0.7974 - val_loss: 0.4970 - val_accuracy: 0.7368\n",
            "Epoch 32/300\n",
            "22/22 [==============================] - 0s 5ms/step - loss: 0.4781 - accuracy: 0.7974 - val_loss: 0.4946 - val_accuracy: 0.7368\n",
            "Epoch 33/300\n",
            "22/22 [==============================] - 0s 5ms/step - loss: 0.4758 - accuracy: 0.7974 - val_loss: 0.4910 - val_accuracy: 0.7500\n",
            "Epoch 34/300\n",
            "22/22 [==============================] - 0s 5ms/step - loss: 0.4737 - accuracy: 0.7988 - val_loss: 0.4892 - val_accuracy: 0.7500\n",
            "Epoch 35/300\n",
            "22/22 [==============================] - 0s 5ms/step - loss: 0.4721 - accuracy: 0.8018 - val_loss: 0.4852 - val_accuracy: 0.7500\n",
            "Epoch 36/300\n",
            "22/22 [==============================] - 0s 6ms/step - loss: 0.4704 - accuracy: 0.7988 - val_loss: 0.4836 - val_accuracy: 0.7500\n",
            "Epoch 37/300\n",
            "22/22 [==============================] - 0s 5ms/step - loss: 0.4688 - accuracy: 0.7974 - val_loss: 0.4829 - val_accuracy: 0.7500\n",
            "Epoch 38/300\n",
            "22/22 [==============================] - 0s 5ms/step - loss: 0.4675 - accuracy: 0.8003 - val_loss: 0.4807 - val_accuracy: 0.7500\n",
            "Epoch 39/300\n",
            "22/22 [==============================] - 0s 6ms/step - loss: 0.4661 - accuracy: 0.8003 - val_loss: 0.4796 - val_accuracy: 0.7500\n",
            "Epoch 40/300\n",
            "22/22 [==============================] - 0s 5ms/step - loss: 0.4649 - accuracy: 0.8003 - val_loss: 0.4784 - val_accuracy: 0.7500\n",
            "Epoch 41/300\n",
            "22/22 [==============================] - 0s 5ms/step - loss: 0.4641 - accuracy: 0.7988 - val_loss: 0.4767 - val_accuracy: 0.7500\n",
            "Epoch 42/300\n",
            "22/22 [==============================] - 0s 5ms/step - loss: 0.4629 - accuracy: 0.8018 - val_loss: 0.4761 - val_accuracy: 0.7632\n",
            "Epoch 43/300\n",
            "22/22 [==============================] - 0s 5ms/step - loss: 0.4620 - accuracy: 0.7988 - val_loss: 0.4752 - val_accuracy: 0.7632\n",
            "Epoch 44/300\n",
            "22/22 [==============================] - 0s 5ms/step - loss: 0.4610 - accuracy: 0.7988 - val_loss: 0.4735 - val_accuracy: 0.7632\n",
            "Epoch 45/300\n",
            "22/22 [==============================] - 0s 6ms/step - loss: 0.4602 - accuracy: 0.7974 - val_loss: 0.4709 - val_accuracy: 0.7632\n",
            "Epoch 46/300\n",
            "22/22 [==============================] - 0s 5ms/step - loss: 0.4594 - accuracy: 0.7974 - val_loss: 0.4708 - val_accuracy: 0.7632\n",
            "Epoch 47/300\n",
            "22/22 [==============================] - 0s 5ms/step - loss: 0.4586 - accuracy: 0.7974 - val_loss: 0.4685 - val_accuracy: 0.7632\n",
            "Epoch 48/300\n",
            "22/22 [==============================] - 0s 5ms/step - loss: 0.4579 - accuracy: 0.7974 - val_loss: 0.4687 - val_accuracy: 0.7632\n",
            "Epoch 49/300\n",
            "22/22 [==============================] - 0s 6ms/step - loss: 0.4570 - accuracy: 0.7988 - val_loss: 0.4674 - val_accuracy: 0.7632\n",
            "Epoch 50/300\n",
            "22/22 [==============================] - 0s 5ms/step - loss: 0.4565 - accuracy: 0.7988 - val_loss: 0.4661 - val_accuracy: 0.7632\n",
            "Epoch 51/300\n",
            "22/22 [==============================] - 0s 5ms/step - loss: 0.4560 - accuracy: 0.8018 - val_loss: 0.4654 - val_accuracy: 0.7632\n",
            "Epoch 52/300\n",
            "22/22 [==============================] - 0s 5ms/step - loss: 0.4554 - accuracy: 0.8018 - val_loss: 0.4661 - val_accuracy: 0.7632\n",
            "Epoch 53/300\n",
            "22/22 [==============================] - 0s 5ms/step - loss: 0.4549 - accuracy: 0.8018 - val_loss: 0.4645 - val_accuracy: 0.7632\n",
            "Epoch 54/300\n",
            "22/22 [==============================] - 0s 5ms/step - loss: 0.4543 - accuracy: 0.8018 - val_loss: 0.4641 - val_accuracy: 0.7632\n",
            "Epoch 55/300\n",
            "22/22 [==============================] - 0s 5ms/step - loss: 0.4539 - accuracy: 0.8018 - val_loss: 0.4639 - val_accuracy: 0.7632\n",
            "Epoch 56/300\n",
            "22/22 [==============================] - 0s 5ms/step - loss: 0.4534 - accuracy: 0.8018 - val_loss: 0.4632 - val_accuracy: 0.7632\n",
            "Epoch 57/300\n",
            "22/22 [==============================] - 0s 5ms/step - loss: 0.4531 - accuracy: 0.8018 - val_loss: 0.4631 - val_accuracy: 0.7632\n",
            "Epoch 58/300\n",
            "22/22 [==============================] - 0s 5ms/step - loss: 0.4528 - accuracy: 0.8018 - val_loss: 0.4610 - val_accuracy: 0.7632\n",
            "Epoch 59/300\n",
            "22/22 [==============================] - 0s 5ms/step - loss: 0.4524 - accuracy: 0.8018 - val_loss: 0.4602 - val_accuracy: 0.7632\n",
            "Epoch 60/300\n",
            "22/22 [==============================] - 0s 5ms/step - loss: 0.4519 - accuracy: 0.8018 - val_loss: 0.4606 - val_accuracy: 0.7632\n",
            "Epoch 61/300\n",
            "22/22 [==============================] - 0s 6ms/step - loss: 0.4516 - accuracy: 0.8018 - val_loss: 0.4622 - val_accuracy: 0.7632\n",
            "Epoch 62/300\n",
            "22/22 [==============================] - 0s 5ms/step - loss: 0.4513 - accuracy: 0.8003 - val_loss: 0.4613 - val_accuracy: 0.7763\n",
            "Epoch 63/300\n",
            "22/22 [==============================] - 0s 5ms/step - loss: 0.4510 - accuracy: 0.8003 - val_loss: 0.4610 - val_accuracy: 0.7763\n",
            "Epoch 64/300\n",
            "22/22 [==============================] - 0s 5ms/step - loss: 0.4507 - accuracy: 0.8003 - val_loss: 0.4628 - val_accuracy: 0.7763\n",
            "Epoch 65/300\n",
            "22/22 [==============================] - 0s 5ms/step - loss: 0.4505 - accuracy: 0.8003 - val_loss: 0.4618 - val_accuracy: 0.7763\n",
            "Epoch 66/300\n",
            "22/22 [==============================] - 0s 5ms/step - loss: 0.4499 - accuracy: 0.8018 - val_loss: 0.4608 - val_accuracy: 0.7763\n",
            "Epoch 67/300\n",
            "22/22 [==============================] - 0s 5ms/step - loss: 0.4497 - accuracy: 0.8018 - val_loss: 0.4593 - val_accuracy: 0.7763\n",
            "Epoch 68/300\n",
            "22/22 [==============================] - 0s 6ms/step - loss: 0.4495 - accuracy: 0.8018 - val_loss: 0.4610 - val_accuracy: 0.7763\n",
            "Epoch 69/300\n",
            "22/22 [==============================] - 0s 6ms/step - loss: 0.4491 - accuracy: 0.8018 - val_loss: 0.4577 - val_accuracy: 0.7763\n",
            "Epoch 70/300\n",
            "22/22 [==============================] - 0s 6ms/step - loss: 0.4486 - accuracy: 0.8018 - val_loss: 0.4586 - val_accuracy: 0.7763\n",
            "Epoch 71/300\n",
            "22/22 [==============================] - 0s 5ms/step - loss: 0.4484 - accuracy: 0.8018 - val_loss: 0.4590 - val_accuracy: 0.7763\n",
            "Epoch 72/300\n",
            "22/22 [==============================] - 0s 5ms/step - loss: 0.4483 - accuracy: 0.8018 - val_loss: 0.4605 - val_accuracy: 0.7763\n",
            "Epoch 73/300\n",
            "22/22 [==============================] - 0s 5ms/step - loss: 0.4478 - accuracy: 0.8018 - val_loss: 0.4584 - val_accuracy: 0.7763\n",
            "Epoch 74/300\n",
            "22/22 [==============================] - 0s 5ms/step - loss: 0.4476 - accuracy: 0.8003 - val_loss: 0.4609 - val_accuracy: 0.7632\n",
            "Epoch 75/300\n",
            "22/22 [==============================] - 0s 5ms/step - loss: 0.4471 - accuracy: 0.8018 - val_loss: 0.4589 - val_accuracy: 0.7763\n",
            "Epoch 76/300\n",
            "22/22 [==============================] - 0s 5ms/step - loss: 0.4468 - accuracy: 0.8018 - val_loss: 0.4591 - val_accuracy: 0.7632\n",
            "Epoch 77/300\n",
            "22/22 [==============================] - 0s 5ms/step - loss: 0.4466 - accuracy: 0.8018 - val_loss: 0.4587 - val_accuracy: 0.7763\n",
            "Epoch 78/300\n",
            "22/22 [==============================] - 0s 5ms/step - loss: 0.4462 - accuracy: 0.8018 - val_loss: 0.4574 - val_accuracy: 0.7763\n",
            "Epoch 79/300\n",
            "22/22 [==============================] - 0s 5ms/step - loss: 0.4460 - accuracy: 0.8003 - val_loss: 0.4572 - val_accuracy: 0.7763\n",
            "Epoch 80/300\n",
            "22/22 [==============================] - 0s 6ms/step - loss: 0.4459 - accuracy: 0.8003 - val_loss: 0.4569 - val_accuracy: 0.7763\n",
            "Epoch 81/300\n",
            "22/22 [==============================] - 0s 6ms/step - loss: 0.4456 - accuracy: 0.8003 - val_loss: 0.4567 - val_accuracy: 0.7763\n",
            "Epoch 82/300\n",
            "22/22 [==============================] - 0s 5ms/step - loss: 0.4458 - accuracy: 0.8003 - val_loss: 0.4553 - val_accuracy: 0.7763\n",
            "Epoch 83/300\n",
            "22/22 [==============================] - 0s 5ms/step - loss: 0.4454 - accuracy: 0.8003 - val_loss: 0.4571 - val_accuracy: 0.7763\n",
            "Epoch 84/300\n",
            "22/22 [==============================] - 0s 6ms/step - loss: 0.4450 - accuracy: 0.8003 - val_loss: 0.4556 - val_accuracy: 0.7763\n",
            "Epoch 85/300\n",
            "22/22 [==============================] - 0s 5ms/step - loss: 0.4449 - accuracy: 0.8003 - val_loss: 0.4555 - val_accuracy: 0.7763\n",
            "Epoch 86/300\n",
            "22/22 [==============================] - 0s 5ms/step - loss: 0.4447 - accuracy: 0.8003 - val_loss: 0.4563 - val_accuracy: 0.7763\n",
            "Epoch 87/300\n",
            "22/22 [==============================] - 0s 5ms/step - loss: 0.4443 - accuracy: 0.8003 - val_loss: 0.4565 - val_accuracy: 0.7763\n",
            "Epoch 88/300\n",
            "22/22 [==============================] - 0s 5ms/step - loss: 0.4444 - accuracy: 0.8003 - val_loss: 0.4557 - val_accuracy: 0.7763\n",
            "Epoch 89/300\n",
            "22/22 [==============================] - 0s 6ms/step - loss: 0.4440 - accuracy: 0.8003 - val_loss: 0.4554 - val_accuracy: 0.7763\n",
            "Epoch 90/300\n",
            "22/22 [==============================] - 0s 5ms/step - loss: 0.4439 - accuracy: 0.8003 - val_loss: 0.4564 - val_accuracy: 0.7763\n",
            "Epoch 91/300\n",
            "22/22 [==============================] - 0s 5ms/step - loss: 0.4441 - accuracy: 0.7988 - val_loss: 0.4560 - val_accuracy: 0.7763\n",
            "Epoch 92/300\n",
            "22/22 [==============================] - 0s 5ms/step - loss: 0.4435 - accuracy: 0.8003 - val_loss: 0.4563 - val_accuracy: 0.7763\n",
            "Epoch 93/300\n",
            "22/22 [==============================] - 0s 5ms/step - loss: 0.4433 - accuracy: 0.7988 - val_loss: 0.4565 - val_accuracy: 0.7632\n",
            "Epoch 94/300\n",
            "22/22 [==============================] - 0s 6ms/step - loss: 0.4430 - accuracy: 0.7988 - val_loss: 0.4554 - val_accuracy: 0.7632\n",
            "Epoch 95/300\n",
            "22/22 [==============================] - 0s 5ms/step - loss: 0.4430 - accuracy: 0.8003 - val_loss: 0.4552 - val_accuracy: 0.7632\n",
            "Epoch 96/300\n",
            "22/22 [==============================] - 0s 5ms/step - loss: 0.4428 - accuracy: 0.8003 - val_loss: 0.4547 - val_accuracy: 0.7632\n",
            "Epoch 97/300\n",
            "22/22 [==============================] - 0s 5ms/step - loss: 0.4426 - accuracy: 0.7988 - val_loss: 0.4563 - val_accuracy: 0.7632\n",
            "Epoch 98/300\n",
            "22/22 [==============================] - 0s 5ms/step - loss: 0.4426 - accuracy: 0.8003 - val_loss: 0.4564 - val_accuracy: 0.7632\n",
            "Epoch 99/300\n",
            "22/22 [==============================] - 0s 5ms/step - loss: 0.4423 - accuracy: 0.8003 - val_loss: 0.4579 - val_accuracy: 0.7632\n",
            "Epoch 100/300\n",
            "22/22 [==============================] - 0s 5ms/step - loss: 0.4423 - accuracy: 0.8018 - val_loss: 0.4578 - val_accuracy: 0.7632\n",
            "Epoch 101/300\n",
            "22/22 [==============================] - 0s 6ms/step - loss: 0.4419 - accuracy: 0.8003 - val_loss: 0.4588 - val_accuracy: 0.7632\n",
            "Epoch 102/300\n",
            "22/22 [==============================] - 0s 5ms/step - loss: 0.4418 - accuracy: 0.8003 - val_loss: 0.4593 - val_accuracy: 0.7632\n",
            "Epoch 103/300\n",
            "22/22 [==============================] - 0s 5ms/step - loss: 0.4415 - accuracy: 0.8003 - val_loss: 0.4575 - val_accuracy: 0.7632\n",
            "Epoch 104/300\n",
            "22/22 [==============================] - 0s 5ms/step - loss: 0.4414 - accuracy: 0.8003 - val_loss: 0.4574 - val_accuracy: 0.7632\n",
            "Epoch 105/300\n",
            "22/22 [==============================] - 0s 5ms/step - loss: 0.4411 - accuracy: 0.8003 - val_loss: 0.4590 - val_accuracy: 0.7632\n",
            "Epoch 106/300\n",
            "22/22 [==============================] - 0s 5ms/step - loss: 0.4409 - accuracy: 0.8003 - val_loss: 0.4586 - val_accuracy: 0.7632\n",
            "Epoch 107/300\n",
            "22/22 [==============================] - 0s 5ms/step - loss: 0.4408 - accuracy: 0.8003 - val_loss: 0.4573 - val_accuracy: 0.7632\n",
            "Epoch 108/300\n",
            "22/22 [==============================] - 0s 5ms/step - loss: 0.4406 - accuracy: 0.7988 - val_loss: 0.4582 - val_accuracy: 0.7632\n",
            "Epoch 109/300\n",
            "22/22 [==============================] - 0s 5ms/step - loss: 0.4404 - accuracy: 0.8003 - val_loss: 0.4588 - val_accuracy: 0.7632\n",
            "Epoch 110/300\n",
            "22/22 [==============================] - 0s 5ms/step - loss: 0.4401 - accuracy: 0.7988 - val_loss: 0.4580 - val_accuracy: 0.7632\n",
            "Epoch 111/300\n",
            "22/22 [==============================] - 0s 6ms/step - loss: 0.4399 - accuracy: 0.7988 - val_loss: 0.4584 - val_accuracy: 0.7632\n",
            "Epoch 112/300\n",
            "22/22 [==============================] - 0s 5ms/step - loss: 0.4397 - accuracy: 0.7988 - val_loss: 0.4572 - val_accuracy: 0.7632\n",
            "Epoch 113/300\n",
            "22/22 [==============================] - 0s 5ms/step - loss: 0.4394 - accuracy: 0.7988 - val_loss: 0.4573 - val_accuracy: 0.7632\n",
            "Epoch 114/300\n",
            "22/22 [==============================] - 0s 6ms/step - loss: 0.4393 - accuracy: 0.8018 - val_loss: 0.4607 - val_accuracy: 0.7632\n",
            "Epoch 115/300\n",
            "22/22 [==============================] - 0s 5ms/step - loss: 0.4392 - accuracy: 0.8018 - val_loss: 0.4609 - val_accuracy: 0.7632\n",
            "Epoch 116/300\n",
            "22/22 [==============================] - 0s 5ms/step - loss: 0.4388 - accuracy: 0.7988 - val_loss: 0.4608 - val_accuracy: 0.7632\n",
            "Epoch 117/300\n",
            "22/22 [==============================] - 0s 5ms/step - loss: 0.4385 - accuracy: 0.7988 - val_loss: 0.4598 - val_accuracy: 0.7632\n",
            "Epoch 118/300\n",
            "22/22 [==============================] - 0s 5ms/step - loss: 0.4382 - accuracy: 0.8003 - val_loss: 0.4594 - val_accuracy: 0.7632\n",
            "Epoch 119/300\n",
            "22/22 [==============================] - 0s 6ms/step - loss: 0.4380 - accuracy: 0.8032 - val_loss: 0.4603 - val_accuracy: 0.7632\n",
            "Epoch 120/300\n",
            "22/22 [==============================] - 0s 5ms/step - loss: 0.4378 - accuracy: 0.8018 - val_loss: 0.4586 - val_accuracy: 0.7632\n",
            "Epoch 121/300\n",
            "22/22 [==============================] - 0s 5ms/step - loss: 0.4375 - accuracy: 0.8003 - val_loss: 0.4589 - val_accuracy: 0.7632\n",
            "Epoch 122/300\n",
            "22/22 [==============================] - 0s 5ms/step - loss: 0.4373 - accuracy: 0.8018 - val_loss: 0.4588 - val_accuracy: 0.7632\n",
            "Epoch 123/300\n",
            "22/22 [==============================] - 0s 5ms/step - loss: 0.4371 - accuracy: 0.8032 - val_loss: 0.4596 - val_accuracy: 0.7632\n",
            "Epoch 124/300\n",
            "22/22 [==============================] - 0s 5ms/step - loss: 0.4369 - accuracy: 0.8003 - val_loss: 0.4585 - val_accuracy: 0.7632\n",
            "Epoch 125/300\n",
            "22/22 [==============================] - 0s 5ms/step - loss: 0.4368 - accuracy: 0.8032 - val_loss: 0.4592 - val_accuracy: 0.7632\n",
            "Epoch 126/300\n",
            "22/22 [==============================] - 0s 5ms/step - loss: 0.4363 - accuracy: 0.8003 - val_loss: 0.4569 - val_accuracy: 0.7632\n",
            "Epoch 127/300\n",
            "22/22 [==============================] - 0s 5ms/step - loss: 0.4365 - accuracy: 0.8018 - val_loss: 0.4545 - val_accuracy: 0.7632\n",
            "Epoch 128/300\n",
            "22/22 [==============================] - 0s 6ms/step - loss: 0.4360 - accuracy: 0.8003 - val_loss: 0.4569 - val_accuracy: 0.7632\n",
            "Epoch 129/300\n",
            "22/22 [==============================] - 0s 5ms/step - loss: 0.4357 - accuracy: 0.8018 - val_loss: 0.4549 - val_accuracy: 0.7632\n",
            "Epoch 130/300\n",
            "22/22 [==============================] - 0s 5ms/step - loss: 0.4352 - accuracy: 0.8003 - val_loss: 0.4558 - val_accuracy: 0.7632\n",
            "Epoch 131/300\n",
            "22/22 [==============================] - 0s 5ms/step - loss: 0.4351 - accuracy: 0.8003 - val_loss: 0.4572 - val_accuracy: 0.7632\n",
            "Epoch 132/300\n",
            "22/22 [==============================] - 0s 5ms/step - loss: 0.4347 - accuracy: 0.8003 - val_loss: 0.4552 - val_accuracy: 0.7632\n",
            "Epoch 133/300\n",
            "22/22 [==============================] - 0s 5ms/step - loss: 0.4346 - accuracy: 0.8003 - val_loss: 0.4535 - val_accuracy: 0.7632\n",
            "Epoch 134/300\n",
            "22/22 [==============================] - 0s 6ms/step - loss: 0.4342 - accuracy: 0.8003 - val_loss: 0.4551 - val_accuracy: 0.7632\n",
            "Epoch 135/300\n",
            "22/22 [==============================] - 0s 5ms/step - loss: 0.4339 - accuracy: 0.8003 - val_loss: 0.4555 - val_accuracy: 0.7632\n",
            "Epoch 136/300\n",
            "22/22 [==============================] - 0s 6ms/step - loss: 0.4337 - accuracy: 0.8003 - val_loss: 0.4566 - val_accuracy: 0.7500\n",
            "Epoch 137/300\n",
            "22/22 [==============================] - 0s 5ms/step - loss: 0.4335 - accuracy: 0.8003 - val_loss: 0.4568 - val_accuracy: 0.7500\n",
            "Epoch 138/300\n",
            "22/22 [==============================] - 0s 5ms/step - loss: 0.4333 - accuracy: 0.8018 - val_loss: 0.4578 - val_accuracy: 0.7500\n",
            "Epoch 139/300\n",
            "22/22 [==============================] - 0s 5ms/step - loss: 0.4331 - accuracy: 0.8003 - val_loss: 0.4572 - val_accuracy: 0.7500\n",
            "Epoch 140/300\n",
            "22/22 [==============================] - 0s 6ms/step - loss: 0.4329 - accuracy: 0.8003 - val_loss: 0.4538 - val_accuracy: 0.7632\n",
            "Epoch 141/300\n",
            "22/22 [==============================] - 0s 5ms/step - loss: 0.4326 - accuracy: 0.8018 - val_loss: 0.4548 - val_accuracy: 0.7500\n",
            "Epoch 142/300\n",
            "22/22 [==============================] - 0s 5ms/step - loss: 0.4323 - accuracy: 0.8003 - val_loss: 0.4569 - val_accuracy: 0.7500\n",
            "Epoch 143/300\n",
            "22/22 [==============================] - 0s 5ms/step - loss: 0.4320 - accuracy: 0.8018 - val_loss: 0.4583 - val_accuracy: 0.7500\n",
            "Epoch 144/300\n",
            "22/22 [==============================] - 0s 6ms/step - loss: 0.4318 - accuracy: 0.8003 - val_loss: 0.4563 - val_accuracy: 0.7500\n",
            "Epoch 145/300\n",
            "22/22 [==============================] - 0s 5ms/step - loss: 0.4316 - accuracy: 0.8003 - val_loss: 0.4558 - val_accuracy: 0.7500\n",
            "Epoch 146/300\n",
            "22/22 [==============================] - 0s 6ms/step - loss: 0.4312 - accuracy: 0.8018 - val_loss: 0.4559 - val_accuracy: 0.7500\n",
            "Epoch 147/300\n",
            "22/22 [==============================] - 0s 5ms/step - loss: 0.4309 - accuracy: 0.8032 - val_loss: 0.4575 - val_accuracy: 0.7500\n",
            "Epoch 148/300\n",
            "22/22 [==============================] - 0s 5ms/step - loss: 0.4308 - accuracy: 0.8032 - val_loss: 0.4566 - val_accuracy: 0.7500\n",
            "Epoch 149/300\n",
            "22/22 [==============================] - 0s 6ms/step - loss: 0.4306 - accuracy: 0.8047 - val_loss: 0.4568 - val_accuracy: 0.7500\n",
            "Epoch 150/300\n",
            "22/22 [==============================] - 0s 6ms/step - loss: 0.4303 - accuracy: 0.8047 - val_loss: 0.4564 - val_accuracy: 0.7500\n",
            "Epoch 151/300\n",
            "22/22 [==============================] - 0s 5ms/step - loss: 0.4302 - accuracy: 0.8047 - val_loss: 0.4576 - val_accuracy: 0.7500\n",
            "Epoch 152/300\n",
            "22/22 [==============================] - 0s 5ms/step - loss: 0.4300 - accuracy: 0.8047 - val_loss: 0.4569 - val_accuracy: 0.7500\n",
            "Epoch 153/300\n",
            "22/22 [==============================] - 0s 5ms/step - loss: 0.4294 - accuracy: 0.8047 - val_loss: 0.4563 - val_accuracy: 0.7632\n",
            "Epoch 154/300\n",
            "22/22 [==============================] - 0s 6ms/step - loss: 0.4295 - accuracy: 0.8062 - val_loss: 0.4576 - val_accuracy: 0.7500\n",
            "Epoch 155/300\n",
            "22/22 [==============================] - 0s 5ms/step - loss: 0.4293 - accuracy: 0.8062 - val_loss: 0.4558 - val_accuracy: 0.7632\n",
            "Epoch 156/300\n",
            "22/22 [==============================] - 0s 5ms/step - loss: 0.4289 - accuracy: 0.8062 - val_loss: 0.4557 - val_accuracy: 0.7632\n",
            "Epoch 157/300\n",
            "22/22 [==============================] - 0s 5ms/step - loss: 0.4285 - accuracy: 0.8047 - val_loss: 0.4569 - val_accuracy: 0.7500\n",
            "Epoch 158/300\n",
            "22/22 [==============================] - 0s 5ms/step - loss: 0.4284 - accuracy: 0.8106 - val_loss: 0.4584 - val_accuracy: 0.7500\n",
            "Epoch 159/300\n",
            "22/22 [==============================] - 0s 6ms/step - loss: 0.4280 - accuracy: 0.8106 - val_loss: 0.4592 - val_accuracy: 0.7500\n",
            "Epoch 160/300\n",
            "22/22 [==============================] - 0s 6ms/step - loss: 0.4279 - accuracy: 0.8076 - val_loss: 0.4580 - val_accuracy: 0.7500\n",
            "Epoch 161/300\n",
            "22/22 [==============================] - 0s 5ms/step - loss: 0.4275 - accuracy: 0.8091 - val_loss: 0.4563 - val_accuracy: 0.7500\n",
            "Epoch 162/300\n",
            "22/22 [==============================] - 0s 5ms/step - loss: 0.4272 - accuracy: 0.8076 - val_loss: 0.4573 - val_accuracy: 0.7500\n",
            "Epoch 163/300\n",
            "22/22 [==============================] - 0s 5ms/step - loss: 0.4271 - accuracy: 0.8076 - val_loss: 0.4546 - val_accuracy: 0.7632\n",
            "Epoch 164/300\n",
            "22/22 [==============================] - 0s 5ms/step - loss: 0.4264 - accuracy: 0.8076 - val_loss: 0.4561 - val_accuracy: 0.7632\n",
            "Epoch 165/300\n",
            "22/22 [==============================] - 0s 6ms/step - loss: 0.4262 - accuracy: 0.8091 - val_loss: 0.4565 - val_accuracy: 0.7632\n",
            "Epoch 166/300\n",
            "22/22 [==============================] - 0s 5ms/step - loss: 0.4259 - accuracy: 0.8120 - val_loss: 0.4580 - val_accuracy: 0.7632\n",
            "Epoch 167/300\n",
            "22/22 [==============================] - 0s 5ms/step - loss: 0.4257 - accuracy: 0.8091 - val_loss: 0.4561 - val_accuracy: 0.7632\n",
            "Epoch 168/300\n",
            "22/22 [==============================] - 0s 6ms/step - loss: 0.4254 - accuracy: 0.8106 - val_loss: 0.4582 - val_accuracy: 0.7632\n",
            "Epoch 169/300\n",
            "22/22 [==============================] - 0s 5ms/step - loss: 0.4251 - accuracy: 0.8120 - val_loss: 0.4589 - val_accuracy: 0.7632\n",
            "Epoch 170/300\n",
            "22/22 [==============================] - 0s 5ms/step - loss: 0.4249 - accuracy: 0.8135 - val_loss: 0.4572 - val_accuracy: 0.7632\n",
            "Epoch 171/300\n",
            "22/22 [==============================] - 0s 6ms/step - loss: 0.4247 - accuracy: 0.8106 - val_loss: 0.4558 - val_accuracy: 0.7632\n",
            "Epoch 172/300\n",
            "22/22 [==============================] - 0s 5ms/step - loss: 0.4244 - accuracy: 0.8120 - val_loss: 0.4572 - val_accuracy: 0.7632\n",
            "Epoch 173/300\n",
            "22/22 [==============================] - 0s 5ms/step - loss: 0.4242 - accuracy: 0.8120 - val_loss: 0.4564 - val_accuracy: 0.7632\n",
            "Epoch 174/300\n",
            "22/22 [==============================] - 0s 5ms/step - loss: 0.4238 - accuracy: 0.8120 - val_loss: 0.4569 - val_accuracy: 0.7632\n",
            "Epoch 175/300\n",
            "22/22 [==============================] - 0s 6ms/step - loss: 0.4239 - accuracy: 0.8120 - val_loss: 0.4546 - val_accuracy: 0.7632\n",
            "Epoch 176/300\n",
            "22/22 [==============================] - 0s 5ms/step - loss: 0.4235 - accuracy: 0.8076 - val_loss: 0.4542 - val_accuracy: 0.7632\n",
            "Epoch 177/300\n",
            "22/22 [==============================] - 0s 5ms/step - loss: 0.4230 - accuracy: 0.8106 - val_loss: 0.4542 - val_accuracy: 0.7632\n",
            "Epoch 178/300\n",
            "22/22 [==============================] - 0s 6ms/step - loss: 0.4228 - accuracy: 0.8091 - val_loss: 0.4554 - val_accuracy: 0.7632\n",
            "Epoch 179/300\n",
            "22/22 [==============================] - 0s 6ms/step - loss: 0.4226 - accuracy: 0.8135 - val_loss: 0.4557 - val_accuracy: 0.7632\n",
            "Epoch 180/300\n",
            "22/22 [==============================] - 0s 5ms/step - loss: 0.4223 - accuracy: 0.8106 - val_loss: 0.4539 - val_accuracy: 0.7632\n",
            "Epoch 181/300\n",
            "22/22 [==============================] - 0s 5ms/step - loss: 0.4220 - accuracy: 0.8120 - val_loss: 0.4537 - val_accuracy: 0.7632\n",
            "Epoch 182/300\n",
            "22/22 [==============================] - 0s 6ms/step - loss: 0.4218 - accuracy: 0.8120 - val_loss: 0.4539 - val_accuracy: 0.7632\n",
            "Epoch 183/300\n",
            "22/22 [==============================] - 0s 6ms/step - loss: 0.4217 - accuracy: 0.8106 - val_loss: 0.4532 - val_accuracy: 0.7632\n",
            "Epoch 184/300\n",
            "22/22 [==============================] - 0s 6ms/step - loss: 0.4214 - accuracy: 0.8106 - val_loss: 0.4509 - val_accuracy: 0.7632\n",
            "Epoch 185/300\n",
            "22/22 [==============================] - 0s 6ms/step - loss: 0.4214 - accuracy: 0.8106 - val_loss: 0.4518 - val_accuracy: 0.7632\n",
            "Epoch 186/300\n",
            "22/22 [==============================] - 0s 5ms/step - loss: 0.4210 - accuracy: 0.8135 - val_loss: 0.4527 - val_accuracy: 0.7632\n",
            "Epoch 187/300\n",
            "22/22 [==============================] - 0s 6ms/step - loss: 0.4214 - accuracy: 0.8106 - val_loss: 0.4493 - val_accuracy: 0.7632\n",
            "Epoch 188/300\n",
            "22/22 [==============================] - 0s 5ms/step - loss: 0.4206 - accuracy: 0.8120 - val_loss: 0.4525 - val_accuracy: 0.7632\n",
            "Epoch 189/300\n",
            "22/22 [==============================] - 0s 5ms/step - loss: 0.4205 - accuracy: 0.8150 - val_loss: 0.4518 - val_accuracy: 0.7632\n",
            "Epoch 190/300\n",
            "22/22 [==============================] - 0s 5ms/step - loss: 0.4201 - accuracy: 0.8150 - val_loss: 0.4506 - val_accuracy: 0.7632\n",
            "Epoch 191/300\n",
            "22/22 [==============================] - 0s 6ms/step - loss: 0.4199 - accuracy: 0.8150 - val_loss: 0.4491 - val_accuracy: 0.7632\n",
            "Epoch 192/300\n",
            "22/22 [==============================] - 0s 5ms/step - loss: 0.4197 - accuracy: 0.8135 - val_loss: 0.4499 - val_accuracy: 0.7632\n",
            "Epoch 193/300\n",
            "22/22 [==============================] - 0s 6ms/step - loss: 0.4197 - accuracy: 0.8150 - val_loss: 0.4514 - val_accuracy: 0.7500\n",
            "Epoch 194/300\n",
            "22/22 [==============================] - 0s 5ms/step - loss: 0.4194 - accuracy: 0.8164 - val_loss: 0.4515 - val_accuracy: 0.7500\n",
            "Epoch 195/300\n",
            "22/22 [==============================] - 0s 5ms/step - loss: 0.4193 - accuracy: 0.8150 - val_loss: 0.4488 - val_accuracy: 0.7632\n",
            "Epoch 196/300\n",
            "22/22 [==============================] - 0s 5ms/step - loss: 0.4190 - accuracy: 0.8135 - val_loss: 0.4492 - val_accuracy: 0.7632\n",
            "Epoch 197/300\n",
            "22/22 [==============================] - 0s 5ms/step - loss: 0.4193 - accuracy: 0.8135 - val_loss: 0.4477 - val_accuracy: 0.7632\n",
            "Epoch 198/300\n",
            "22/22 [==============================] - 0s 5ms/step - loss: 0.4187 - accuracy: 0.8135 - val_loss: 0.4473 - val_accuracy: 0.7632\n",
            "Epoch 199/300\n",
            "22/22 [==============================] - 0s 6ms/step - loss: 0.4187 - accuracy: 0.8135 - val_loss: 0.4469 - val_accuracy: 0.7632\n",
            "Epoch 200/300\n",
            "22/22 [==============================] - 0s 5ms/step - loss: 0.4186 - accuracy: 0.8135 - val_loss: 0.4470 - val_accuracy: 0.7632\n",
            "Epoch 201/300\n",
            "22/22 [==============================] - 0s 5ms/step - loss: 0.4182 - accuracy: 0.8135 - val_loss: 0.4463 - val_accuracy: 0.7632\n",
            "Epoch 202/300\n",
            "22/22 [==============================] - 0s 5ms/step - loss: 0.4182 - accuracy: 0.8135 - val_loss: 0.4446 - val_accuracy: 0.7632\n",
            "Epoch 203/300\n",
            "22/22 [==============================] - 0s 5ms/step - loss: 0.4181 - accuracy: 0.8135 - val_loss: 0.4456 - val_accuracy: 0.7500\n",
            "Epoch 204/300\n",
            "22/22 [==============================] - 0s 5ms/step - loss: 0.4179 - accuracy: 0.8150 - val_loss: 0.4455 - val_accuracy: 0.7500\n",
            "Epoch 205/300\n",
            "22/22 [==============================] - 0s 6ms/step - loss: 0.4176 - accuracy: 0.8120 - val_loss: 0.4427 - val_accuracy: 0.7632\n",
            "Epoch 206/300\n",
            "22/22 [==============================] - 0s 5ms/step - loss: 0.4176 - accuracy: 0.8120 - val_loss: 0.4424 - val_accuracy: 0.7632\n",
            "Epoch 207/300\n",
            "22/22 [==============================] - 0s 6ms/step - loss: 0.4173 - accuracy: 0.8135 - val_loss: 0.4435 - val_accuracy: 0.7500\n",
            "Epoch 208/300\n",
            "22/22 [==============================] - 0s 6ms/step - loss: 0.4171 - accuracy: 0.8150 - val_loss: 0.4427 - val_accuracy: 0.7500\n",
            "Epoch 209/300\n",
            "22/22 [==============================] - 0s 6ms/step - loss: 0.4172 - accuracy: 0.8164 - val_loss: 0.4417 - val_accuracy: 0.7500\n",
            "Epoch 210/300\n",
            "22/22 [==============================] - 0s 5ms/step - loss: 0.4167 - accuracy: 0.8164 - val_loss: 0.4421 - val_accuracy: 0.7500\n",
            "Epoch 211/300\n",
            "22/22 [==============================] - 0s 5ms/step - loss: 0.4167 - accuracy: 0.8164 - val_loss: 0.4434 - val_accuracy: 0.7500\n",
            "Epoch 212/300\n",
            "22/22 [==============================] - 0s 5ms/step - loss: 0.4165 - accuracy: 0.8179 - val_loss: 0.4434 - val_accuracy: 0.7500\n",
            "Epoch 213/300\n",
            "22/22 [==============================] - 0s 5ms/step - loss: 0.4164 - accuracy: 0.8194 - val_loss: 0.4435 - val_accuracy: 0.7500\n",
            "Epoch 214/300\n",
            "22/22 [==============================] - 0s 5ms/step - loss: 0.4166 - accuracy: 0.8194 - val_loss: 0.4422 - val_accuracy: 0.7500\n",
            "Epoch 215/300\n",
            "22/22 [==============================] - 0s 6ms/step - loss: 0.4162 - accuracy: 0.8194 - val_loss: 0.4432 - val_accuracy: 0.7500\n",
            "Epoch 216/300\n",
            "22/22 [==============================] - 0s 6ms/step - loss: 0.4160 - accuracy: 0.8194 - val_loss: 0.4431 - val_accuracy: 0.7500\n",
            "Epoch 217/300\n",
            "22/22 [==============================] - 0s 5ms/step - loss: 0.4160 - accuracy: 0.8194 - val_loss: 0.4445 - val_accuracy: 0.7500\n",
            "Epoch 218/300\n",
            "22/22 [==============================] - 0s 5ms/step - loss: 0.4159 - accuracy: 0.8194 - val_loss: 0.4444 - val_accuracy: 0.7500\n",
            "Epoch 219/300\n",
            "22/22 [==============================] - 0s 5ms/step - loss: 0.4159 - accuracy: 0.8194 - val_loss: 0.4413 - val_accuracy: 0.7500\n",
            "Epoch 220/300\n",
            "22/22 [==============================] - 0s 5ms/step - loss: 0.4156 - accuracy: 0.8179 - val_loss: 0.4419 - val_accuracy: 0.7500\n",
            "Epoch 221/300\n",
            "22/22 [==============================] - 0s 5ms/step - loss: 0.4155 - accuracy: 0.8179 - val_loss: 0.4419 - val_accuracy: 0.7500\n",
            "Epoch 222/300\n",
            "22/22 [==============================] - 0s 5ms/step - loss: 0.4153 - accuracy: 0.8194 - val_loss: 0.4415 - val_accuracy: 0.7500\n",
            "Epoch 223/300\n",
            "22/22 [==============================] - 0s 6ms/step - loss: 0.4153 - accuracy: 0.8179 - val_loss: 0.4417 - val_accuracy: 0.7500\n",
            "Epoch 224/300\n",
            "22/22 [==============================] - 0s 6ms/step - loss: 0.4150 - accuracy: 0.8179 - val_loss: 0.4415 - val_accuracy: 0.7500\n",
            "Epoch 225/300\n",
            "22/22 [==============================] - 0s 6ms/step - loss: 0.4149 - accuracy: 0.8179 - val_loss: 0.4412 - val_accuracy: 0.7500\n",
            "Epoch 226/300\n",
            "22/22 [==============================] - 0s 5ms/step - loss: 0.4149 - accuracy: 0.8179 - val_loss: 0.4388 - val_accuracy: 0.7500\n",
            "Epoch 227/300\n",
            "22/22 [==============================] - 0s 7ms/step - loss: 0.4149 - accuracy: 0.8179 - val_loss: 0.4406 - val_accuracy: 0.7500\n",
            "Epoch 228/300\n",
            "22/22 [==============================] - 0s 6ms/step - loss: 0.4147 - accuracy: 0.8179 - val_loss: 0.4409 - val_accuracy: 0.7500\n",
            "Epoch 229/300\n",
            "22/22 [==============================] - 0s 6ms/step - loss: 0.4145 - accuracy: 0.8179 - val_loss: 0.4403 - val_accuracy: 0.7500\n",
            "Epoch 230/300\n",
            "22/22 [==============================] - 0s 6ms/step - loss: 0.4146 - accuracy: 0.8179 - val_loss: 0.4380 - val_accuracy: 0.7632\n",
            "Epoch 231/300\n",
            "22/22 [==============================] - 0s 6ms/step - loss: 0.4144 - accuracy: 0.8179 - val_loss: 0.4397 - val_accuracy: 0.7500\n",
            "Epoch 232/300\n",
            "22/22 [==============================] - 0s 6ms/step - loss: 0.4143 - accuracy: 0.8179 - val_loss: 0.4392 - val_accuracy: 0.7632\n",
            "Epoch 233/300\n",
            "22/22 [==============================] - 0s 5ms/step - loss: 0.4143 - accuracy: 0.8194 - val_loss: 0.4375 - val_accuracy: 0.7632\n",
            "Epoch 234/300\n",
            "22/22 [==============================] - 0s 5ms/step - loss: 0.4144 - accuracy: 0.8179 - val_loss: 0.4387 - val_accuracy: 0.7632\n",
            "Epoch 235/300\n",
            "22/22 [==============================] - 0s 5ms/step - loss: 0.4141 - accuracy: 0.8194 - val_loss: 0.4375 - val_accuracy: 0.7632\n",
            "Epoch 236/300\n",
            "22/22 [==============================] - 0s 6ms/step - loss: 0.4139 - accuracy: 0.8194 - val_loss: 0.4384 - val_accuracy: 0.7632\n",
            "Epoch 237/300\n",
            "22/22 [==============================] - 0s 6ms/step - loss: 0.4140 - accuracy: 0.8194 - val_loss: 0.4374 - val_accuracy: 0.7632\n",
            "Epoch 238/300\n",
            "22/22 [==============================] - 0s 6ms/step - loss: 0.4137 - accuracy: 0.8179 - val_loss: 0.4377 - val_accuracy: 0.7632\n",
            "Epoch 239/300\n",
            "22/22 [==============================] - 0s 6ms/step - loss: 0.4135 - accuracy: 0.8209 - val_loss: 0.4376 - val_accuracy: 0.7632\n",
            "Epoch 240/300\n",
            "22/22 [==============================] - 0s 5ms/step - loss: 0.4137 - accuracy: 0.8179 - val_loss: 0.4375 - val_accuracy: 0.7632\n",
            "Epoch 241/300\n",
            "22/22 [==============================] - 0s 6ms/step - loss: 0.4134 - accuracy: 0.8194 - val_loss: 0.4385 - val_accuracy: 0.7500\n",
            "Epoch 242/300\n",
            "22/22 [==============================] - 0s 5ms/step - loss: 0.4133 - accuracy: 0.8194 - val_loss: 0.4374 - val_accuracy: 0.7632\n",
            "Epoch 243/300\n",
            "22/22 [==============================] - 0s 5ms/step - loss: 0.4132 - accuracy: 0.8209 - val_loss: 0.4375 - val_accuracy: 0.7632\n",
            "Epoch 244/300\n",
            "22/22 [==============================] - 0s 5ms/step - loss: 0.4131 - accuracy: 0.8194 - val_loss: 0.4381 - val_accuracy: 0.7632\n",
            "Epoch 245/300\n",
            "22/22 [==============================] - 0s 6ms/step - loss: 0.4130 - accuracy: 0.8209 - val_loss: 0.4385 - val_accuracy: 0.7632\n",
            "Epoch 246/300\n",
            "22/22 [==============================] - 0s 5ms/step - loss: 0.4131 - accuracy: 0.8209 - val_loss: 0.4387 - val_accuracy: 0.7632\n",
            "Epoch 247/300\n",
            "22/22 [==============================] - 0s 5ms/step - loss: 0.4128 - accuracy: 0.8194 - val_loss: 0.4373 - val_accuracy: 0.7632\n",
            "Epoch 248/300\n",
            "22/22 [==============================] - 0s 5ms/step - loss: 0.4127 - accuracy: 0.8194 - val_loss: 0.4370 - val_accuracy: 0.7632\n",
            "Epoch 249/300\n",
            "22/22 [==============================] - 0s 6ms/step - loss: 0.4126 - accuracy: 0.8194 - val_loss: 0.4363 - val_accuracy: 0.7632\n",
            "Epoch 250/300\n",
            "22/22 [==============================] - 0s 5ms/step - loss: 0.4125 - accuracy: 0.8194 - val_loss: 0.4362 - val_accuracy: 0.7632\n",
            "Epoch 251/300\n",
            "22/22 [==============================] - 0s 5ms/step - loss: 0.4126 - accuracy: 0.8194 - val_loss: 0.4359 - val_accuracy: 0.7632\n",
            "Epoch 252/300\n",
            "22/22 [==============================] - 0s 6ms/step - loss: 0.4125 - accuracy: 0.8209 - val_loss: 0.4329 - val_accuracy: 0.7632\n",
            "Epoch 253/300\n",
            "22/22 [==============================] - 0s 5ms/step - loss: 0.4122 - accuracy: 0.8209 - val_loss: 0.4331 - val_accuracy: 0.7632\n",
            "Epoch 254/300\n",
            "22/22 [==============================] - 0s 5ms/step - loss: 0.4120 - accuracy: 0.8209 - val_loss: 0.4337 - val_accuracy: 0.7632\n",
            "Epoch 255/300\n",
            "22/22 [==============================] - 0s 6ms/step - loss: 0.4118 - accuracy: 0.8238 - val_loss: 0.4341 - val_accuracy: 0.7632\n",
            "Epoch 256/300\n",
            "22/22 [==============================] - 0s 5ms/step - loss: 0.4119 - accuracy: 0.8238 - val_loss: 0.4333 - val_accuracy: 0.7632\n",
            "Epoch 257/300\n",
            "22/22 [==============================] - 0s 6ms/step - loss: 0.4116 - accuracy: 0.8223 - val_loss: 0.4345 - val_accuracy: 0.7632\n",
            "Epoch 258/300\n",
            "22/22 [==============================] - 0s 6ms/step - loss: 0.4115 - accuracy: 0.8223 - val_loss: 0.4345 - val_accuracy: 0.7632\n",
            "Epoch 259/300\n",
            "22/22 [==============================] - 0s 5ms/step - loss: 0.4115 - accuracy: 0.8223 - val_loss: 0.4343 - val_accuracy: 0.7632\n",
            "Epoch 260/300\n",
            "22/22 [==============================] - 0s 5ms/step - loss: 0.4113 - accuracy: 0.8209 - val_loss: 0.4337 - val_accuracy: 0.7632\n",
            "Epoch 261/300\n",
            "22/22 [==============================] - 0s 5ms/step - loss: 0.4110 - accuracy: 0.8209 - val_loss: 0.4324 - val_accuracy: 0.7632\n",
            "Epoch 262/300\n",
            "22/22 [==============================] - 0s 6ms/step - loss: 0.4109 - accuracy: 0.8194 - val_loss: 0.4333 - val_accuracy: 0.7632\n",
            "Epoch 263/300\n",
            "22/22 [==============================] - 0s 5ms/step - loss: 0.4108 - accuracy: 0.8150 - val_loss: 0.4331 - val_accuracy: 0.7632\n",
            "Epoch 264/300\n",
            "22/22 [==============================] - 0s 5ms/step - loss: 0.4107 - accuracy: 0.8164 - val_loss: 0.4313 - val_accuracy: 0.7763\n",
            "Epoch 265/300\n",
            "22/22 [==============================] - 0s 6ms/step - loss: 0.4106 - accuracy: 0.8150 - val_loss: 0.4310 - val_accuracy: 0.7763\n",
            "Epoch 266/300\n",
            "22/22 [==============================] - 0s 5ms/step - loss: 0.4105 - accuracy: 0.8223 - val_loss: 0.4311 - val_accuracy: 0.7895\n",
            "Epoch 267/300\n",
            "22/22 [==============================] - 0s 5ms/step - loss: 0.4103 - accuracy: 0.8238 - val_loss: 0.4311 - val_accuracy: 0.7895\n",
            "Epoch 268/300\n",
            "22/22 [==============================] - 0s 5ms/step - loss: 0.4105 - accuracy: 0.8238 - val_loss: 0.4309 - val_accuracy: 0.7895\n",
            "Epoch 269/300\n",
            "22/22 [==============================] - 0s 6ms/step - loss: 0.4101 - accuracy: 0.8209 - val_loss: 0.4324 - val_accuracy: 0.7895\n",
            "Epoch 270/300\n",
            "22/22 [==============================] - 0s 6ms/step - loss: 0.4101 - accuracy: 0.8238 - val_loss: 0.4331 - val_accuracy: 0.7895\n",
            "Epoch 271/300\n",
            "22/22 [==============================] - 0s 5ms/step - loss: 0.4099 - accuracy: 0.8223 - val_loss: 0.4333 - val_accuracy: 0.7895\n",
            "Epoch 272/300\n",
            "22/22 [==============================] - 0s 5ms/step - loss: 0.4098 - accuracy: 0.8179 - val_loss: 0.4319 - val_accuracy: 0.7895\n",
            "Epoch 273/300\n",
            "22/22 [==============================] - 0s 6ms/step - loss: 0.4099 - accuracy: 0.8179 - val_loss: 0.4309 - val_accuracy: 0.7895\n",
            "Epoch 274/300\n",
            "22/22 [==============================] - 0s 6ms/step - loss: 0.4098 - accuracy: 0.8194 - val_loss: 0.4321 - val_accuracy: 0.7895\n",
            "Epoch 275/300\n",
            "22/22 [==============================] - 0s 6ms/step - loss: 0.4097 - accuracy: 0.8209 - val_loss: 0.4329 - val_accuracy: 0.7895\n",
            "Epoch 276/300\n",
            "22/22 [==============================] - 0s 6ms/step - loss: 0.4096 - accuracy: 0.8194 - val_loss: 0.4335 - val_accuracy: 0.7895\n",
            "Epoch 277/300\n",
            "22/22 [==============================] - 0s 6ms/step - loss: 0.4097 - accuracy: 0.8209 - val_loss: 0.4326 - val_accuracy: 0.7895\n",
            "Epoch 278/300\n",
            "22/22 [==============================] - 0s 5ms/step - loss: 0.4096 - accuracy: 0.8194 - val_loss: 0.4331 - val_accuracy: 0.7895\n",
            "Epoch 279/300\n",
            "22/22 [==============================] - 0s 5ms/step - loss: 0.4094 - accuracy: 0.8194 - val_loss: 0.4311 - val_accuracy: 0.7895\n",
            "Epoch 280/300\n",
            "22/22 [==============================] - 0s 5ms/step - loss: 0.4094 - accuracy: 0.8179 - val_loss: 0.4310 - val_accuracy: 0.7895\n",
            "Epoch 281/300\n",
            "22/22 [==============================] - 0s 5ms/step - loss: 0.4093 - accuracy: 0.8179 - val_loss: 0.4304 - val_accuracy: 0.7895\n",
            "Epoch 282/300\n",
            "22/22 [==============================] - 0s 6ms/step - loss: 0.4092 - accuracy: 0.8194 - val_loss: 0.4307 - val_accuracy: 0.7895\n",
            "Epoch 283/300\n",
            "22/22 [==============================] - 0s 5ms/step - loss: 0.4093 - accuracy: 0.8209 - val_loss: 0.4308 - val_accuracy: 0.7895\n",
            "Epoch 284/300\n",
            "22/22 [==============================] - 0s 5ms/step - loss: 0.4091 - accuracy: 0.8209 - val_loss: 0.4300 - val_accuracy: 0.7895\n",
            "Epoch 285/300\n",
            "22/22 [==============================] - 0s 6ms/step - loss: 0.4090 - accuracy: 0.8209 - val_loss: 0.4302 - val_accuracy: 0.7895\n",
            "Epoch 286/300\n",
            "22/22 [==============================] - 0s 6ms/step - loss: 0.4090 - accuracy: 0.8209 - val_loss: 0.4315 - val_accuracy: 0.7895\n",
            "Epoch 287/300\n",
            "22/22 [==============================] - 0s 5ms/step - loss: 0.4092 - accuracy: 0.8223 - val_loss: 0.4313 - val_accuracy: 0.7895\n",
            "Epoch 288/300\n",
            "22/22 [==============================] - 0s 5ms/step - loss: 0.4091 - accuracy: 0.8238 - val_loss: 0.4317 - val_accuracy: 0.7895\n",
            "Epoch 289/300\n",
            "22/22 [==============================] - 0s 5ms/step - loss: 0.4090 - accuracy: 0.8223 - val_loss: 0.4290 - val_accuracy: 0.7895\n",
            "Epoch 290/300\n",
            "22/22 [==============================] - 0s 6ms/step - loss: 0.4089 - accuracy: 0.8223 - val_loss: 0.4287 - val_accuracy: 0.7895\n",
            "Epoch 291/300\n",
            "22/22 [==============================] - 0s 5ms/step - loss: 0.4090 - accuracy: 0.8253 - val_loss: 0.4281 - val_accuracy: 0.7895\n",
            "Epoch 292/300\n",
            "22/22 [==============================] - 0s 5ms/step - loss: 0.4089 - accuracy: 0.8267 - val_loss: 0.4279 - val_accuracy: 0.7895\n",
            "Epoch 293/300\n",
            "22/22 [==============================] - 0s 6ms/step - loss: 0.4088 - accuracy: 0.8253 - val_loss: 0.4283 - val_accuracy: 0.7895\n",
            "Epoch 294/300\n",
            "22/22 [==============================] - 0s 5ms/step - loss: 0.4089 - accuracy: 0.8223 - val_loss: 0.4291 - val_accuracy: 0.7895\n",
            "Epoch 295/300\n",
            "22/22 [==============================] - 0s 6ms/step - loss: 0.4087 - accuracy: 0.8223 - val_loss: 0.4293 - val_accuracy: 0.7895\n",
            "Epoch 296/300\n",
            "22/22 [==============================] - 0s 5ms/step - loss: 0.4087 - accuracy: 0.8223 - val_loss: 0.4291 - val_accuracy: 0.7895\n",
            "Epoch 297/300\n",
            "22/22 [==============================] - 0s 5ms/step - loss: 0.4086 - accuracy: 0.8223 - val_loss: 0.4289 - val_accuracy: 0.7895\n",
            "Epoch 298/300\n",
            "22/22 [==============================] - 0s 5ms/step - loss: 0.4087 - accuracy: 0.8223 - val_loss: 0.4284 - val_accuracy: 0.7895\n",
            "Epoch 299/300\n",
            "22/22 [==============================] - 0s 5ms/step - loss: 0.4087 - accuracy: 0.8209 - val_loss: 0.4296 - val_accuracy: 0.7895\n",
            "Epoch 300/300\n",
            "22/22 [==============================] - 0s 5ms/step - loss: 0.4088 - accuracy: 0.8238 - val_loss: 0.4285 - val_accuracy: 0.7895\n"
          ]
        }
      ]
    },
    {
      "cell_type": "code",
      "source": [
        "import pandas as pd\n",
        "metrics = pd.DataFrame(history.history)\n",
        "metrics.tail()"
      ],
      "metadata": {
        "colab": {
          "base_uri": "https://localhost:8080/",
          "height": 206
        },
        "id": "iLhTD3gt7tv6",
        "outputId": "468b6909-ff48-4028-afd8-3fb009efb60e"
      },
      "execution_count": null,
      "outputs": [
        {
          "output_type": "execute_result",
          "data": {
            "text/plain": [
              "         loss  accuracy  val_loss  val_accuracy\n",
              "295  0.408652  0.822320  0.429130      0.789474\n",
              "296  0.408590  0.822320  0.428873      0.789474\n",
              "297  0.408727  0.822320  0.428361      0.789474\n",
              "298  0.408705  0.820852  0.429576      0.789474\n",
              "299  0.408784  0.823789  0.428488      0.789474"
            ],
            "text/html": [
              "\n",
              "  <div id=\"df-b76b9996-87e5-4760-918c-e09ac7bb33b2\">\n",
              "    <div class=\"colab-df-container\">\n",
              "      <div>\n",
              "<style scoped>\n",
              "    .dataframe tbody tr th:only-of-type {\n",
              "        vertical-align: middle;\n",
              "    }\n",
              "\n",
              "    .dataframe tbody tr th {\n",
              "        vertical-align: top;\n",
              "    }\n",
              "\n",
              "    .dataframe thead th {\n",
              "        text-align: right;\n",
              "    }\n",
              "</style>\n",
              "<table border=\"1\" class=\"dataframe\">\n",
              "  <thead>\n",
              "    <tr style=\"text-align: right;\">\n",
              "      <th></th>\n",
              "      <th>loss</th>\n",
              "      <th>accuracy</th>\n",
              "      <th>val_loss</th>\n",
              "      <th>val_accuracy</th>\n",
              "    </tr>\n",
              "  </thead>\n",
              "  <tbody>\n",
              "    <tr>\n",
              "      <th>295</th>\n",
              "      <td>0.408652</td>\n",
              "      <td>0.822320</td>\n",
              "      <td>0.429130</td>\n",
              "      <td>0.789474</td>\n",
              "    </tr>\n",
              "    <tr>\n",
              "      <th>296</th>\n",
              "      <td>0.408590</td>\n",
              "      <td>0.822320</td>\n",
              "      <td>0.428873</td>\n",
              "      <td>0.789474</td>\n",
              "    </tr>\n",
              "    <tr>\n",
              "      <th>297</th>\n",
              "      <td>0.408727</td>\n",
              "      <td>0.822320</td>\n",
              "      <td>0.428361</td>\n",
              "      <td>0.789474</td>\n",
              "    </tr>\n",
              "    <tr>\n",
              "      <th>298</th>\n",
              "      <td>0.408705</td>\n",
              "      <td>0.820852</td>\n",
              "      <td>0.429576</td>\n",
              "      <td>0.789474</td>\n",
              "    </tr>\n",
              "    <tr>\n",
              "      <th>299</th>\n",
              "      <td>0.408784</td>\n",
              "      <td>0.823789</td>\n",
              "      <td>0.428488</td>\n",
              "      <td>0.789474</td>\n",
              "    </tr>\n",
              "  </tbody>\n",
              "</table>\n",
              "</div>\n",
              "      <button class=\"colab-df-convert\" onclick=\"convertToInteractive('df-b76b9996-87e5-4760-918c-e09ac7bb33b2')\"\n",
              "              title=\"Convert this dataframe to an interactive table.\"\n",
              "              style=\"display:none;\">\n",
              "        \n",
              "  <svg xmlns=\"http://www.w3.org/2000/svg\" height=\"24px\"viewBox=\"0 0 24 24\"\n",
              "       width=\"24px\">\n",
              "    <path d=\"M0 0h24v24H0V0z\" fill=\"none\"/>\n",
              "    <path d=\"M18.56 5.44l.94 2.06.94-2.06 2.06-.94-2.06-.94-.94-2.06-.94 2.06-2.06.94zm-11 1L8.5 8.5l.94-2.06 2.06-.94-2.06-.94L8.5 2.5l-.94 2.06-2.06.94zm10 10l.94 2.06.94-2.06 2.06-.94-2.06-.94-.94-2.06-.94 2.06-2.06.94z\"/><path d=\"M17.41 7.96l-1.37-1.37c-.4-.4-.92-.59-1.43-.59-.52 0-1.04.2-1.43.59L10.3 9.45l-7.72 7.72c-.78.78-.78 2.05 0 2.83L4 21.41c.39.39.9.59 1.41.59.51 0 1.02-.2 1.41-.59l7.78-7.78 2.81-2.81c.8-.78.8-2.07 0-2.86zM5.41 20L4 18.59l7.72-7.72 1.47 1.35L5.41 20z\"/>\n",
              "  </svg>\n",
              "      </button>\n",
              "      \n",
              "  <style>\n",
              "    .colab-df-container {\n",
              "      display:flex;\n",
              "      flex-wrap:wrap;\n",
              "      gap: 12px;\n",
              "    }\n",
              "\n",
              "    .colab-df-convert {\n",
              "      background-color: #E8F0FE;\n",
              "      border: none;\n",
              "      border-radius: 50%;\n",
              "      cursor: pointer;\n",
              "      display: none;\n",
              "      fill: #1967D2;\n",
              "      height: 32px;\n",
              "      padding: 0 0 0 0;\n",
              "      width: 32px;\n",
              "    }\n",
              "\n",
              "    .colab-df-convert:hover {\n",
              "      background-color: #E2EBFA;\n",
              "      box-shadow: 0px 1px 2px rgba(60, 64, 67, 0.3), 0px 1px 3px 1px rgba(60, 64, 67, 0.15);\n",
              "      fill: #174EA6;\n",
              "    }\n",
              "\n",
              "    [theme=dark] .colab-df-convert {\n",
              "      background-color: #3B4455;\n",
              "      fill: #D2E3FC;\n",
              "    }\n",
              "\n",
              "    [theme=dark] .colab-df-convert:hover {\n",
              "      background-color: #434B5C;\n",
              "      box-shadow: 0px 1px 3px 1px rgba(0, 0, 0, 0.15);\n",
              "      filter: drop-shadow(0px 1px 2px rgba(0, 0, 0, 0.3));\n",
              "      fill: #FFFFFF;\n",
              "    }\n",
              "  </style>\n",
              "\n",
              "      <script>\n",
              "        const buttonEl =\n",
              "          document.querySelector('#df-b76b9996-87e5-4760-918c-e09ac7bb33b2 button.colab-df-convert');\n",
              "        buttonEl.style.display =\n",
              "          google.colab.kernel.accessAllowed ? 'block' : 'none';\n",
              "\n",
              "        async function convertToInteractive(key) {\n",
              "          const element = document.querySelector('#df-b76b9996-87e5-4760-918c-e09ac7bb33b2');\n",
              "          const dataTable =\n",
              "            await google.colab.kernel.invokeFunction('convertToInteractive',\n",
              "                                                     [key], {});\n",
              "          if (!dataTable) return;\n",
              "\n",
              "          const docLinkHtml = 'Like what you see? Visit the ' +\n",
              "            '<a target=\"_blank\" href=https://colab.research.google.com/notebooks/data_table.ipynb>data table notebook</a>'\n",
              "            + ' to learn more about interactive tables.';\n",
              "          element.innerHTML = '';\n",
              "          dataTable['output_type'] = 'display_data';\n",
              "          await google.colab.output.renderOutput(dataTable, element);\n",
              "          const docLink = document.createElement('div');\n",
              "          docLink.innerHTML = docLinkHtml;\n",
              "          element.appendChild(docLink);\n",
              "        }\n",
              "      </script>\n",
              "    </div>\n",
              "  </div>\n",
              "  "
            ]
          },
          "metadata": {},
          "execution_count": 21
        }
      ]
    },
    {
      "cell_type": "code",
      "source": [
        "metrics[['loss', 'val_loss']].plot();"
      ],
      "metadata": {
        "colab": {
          "base_uri": "https://localhost:8080/",
          "height": 265
        },
        "id": "TtgAstCpCZz8",
        "outputId": "a351366c-dcce-46e8-f3f7-58d5562caedd"
      },
      "execution_count": null,
      "outputs": [
        {
          "output_type": "display_data",
          "data": {
            "text/plain": [
              "<Figure size 432x288 with 1 Axes>"
            ],
            "image/png": "[encoded data removed]"
          },
          "metadata": {
            "needs_background": "light"
          }
        }
      ]
    },
    {
      "cell_type": "code",
      "source": [
        "from sklearn.metrics import classification_report\n",
        "import numpy as np\n",
        "\n",
        "y_pred = model.predict(X_test)\n",
        "y_pred = np.where(y_pred >= 0.5, 1, 0)\n",
        "print(classification_report(y_test, y_pred))"
      ],
      "metadata": {
        "colab": {
          "base_uri": "https://localhost:8080/"
        },
        "id": "Coqn-50LDIac",
        "outputId": "7b0c9d52-c607-4dea-d3fc-583cdbdebdb3"
      },
      "execution_count": null,
      "outputs": [
        {
          "output_type": "stream",
          "name": "stdout",
          "text": [
            "              precision    recall  f1-score   support\n",
            "\n",
            "           0       0.81      0.91      0.86        76\n",
            "           1       0.86      0.72      0.79        58\n",
            "\n",
            "    accuracy                           0.83       134\n",
            "   macro avg       0.83      0.82      0.82       134\n",
            "weighted avg       0.83      0.83      0.83       134\n",
            "\n"
          ]
        }
      ]
    },
    {
      "cell_type": "code",
      "source": [
        "import tensorflow as tf\n",
        "\n",
        "tf.test.is_gpu_available()"
      ],
      "metadata": {
        "colab": {
          "base_uri": "https://localhost:8080/"
        },
        "id": "D3opv5FzE_5K",
        "outputId": "345e036e-a78c-406f-fd24-a4ead99aaa71"
      },
      "execution_count": null,
      "outputs": [
        {
          "output_type": "stream",
          "name": "stdout",
          "text": [
            "WARNING:tensorflow:From <ipython-input-32-de130dd510b0>:3: is_gpu_available (from tensorflow.python.framework.test_util) is deprecated and will be removed in a future version.\n",
            "Instructions for updating:\n",
            "Use `tf.config.list_physical_devices('GPU')` instead.\n"
          ]
        },
        {
          "output_type": "execute_result",
          "data": {
            "text/plain": [
              "True"
            ]
          },
          "metadata": {},
          "execution_count": 32
        }
      ]
    },
    {
      "cell_type": "code",
      "source": [
        "tf.config.list_physical_devices('GPU')"
      ],
      "metadata": {
        "colab": {
          "base_uri": "https://localhost:8080/"
        },
        "id": "tkcFecRkGHuw",
        "outputId": "4ab154da-8008-4522-b892-038d05ca0885"
      },
      "execution_count": null,
      "outputs": [
        {
          "output_type": "execute_result",
          "data": {
            "text/plain": [
              "[PhysicalDevice(name='/physical_device:GPU:0', device_type='GPU')]"
            ]
          },
          "metadata": {},
          "execution_count": 33
        }
      ]
    },
    {
      "cell_type": "code",
      "source": [
        "# save model\n",
        "model.save(\"nn_titanic\")"
      ],
      "metadata": {
        "colab": {
          "base_uri": "https://localhost:8080/"
        },
        "id": "3jwGKss-GWap",
        "outputId": "3768865e-6a5a-4028-f451-104a6ef10095"
      },
      "execution_count": null,
      "outputs": [
        {
          "output_type": "stream",
          "name": "stdout",
          "text": [
            "INFO:tensorflow:Assets written to: nn_titanic/assets\n"
          ]
        }
      ]
    },
    {
      "cell_type": "code",
      "source": [
        "# load model\n",
        "from tensorflow.keras.models import load_model\n",
        "\n",
        "model_titanic = load_model(\"nn_titanic\")"
      ],
      "metadata": {
        "id": "4Bm6n2snHy7u"
      },
      "execution_count": null,
      "outputs": []
    },
    {
      "cell_type": "code",
      "source": [
        "res_model = model_titanic.predict(X_test)"
      ],
      "metadata": {
        "id": "UNRxlxbsIHTf"
      },
      "execution_count": null,
      "outputs": []
    },
    {
      "cell_type": "code",
      "source": [
        "model_titanic.summary()"
      ],
      "metadata": {
        "colab": {
          "base_uri": "https://localhost:8080/"
        },
        "id": "6hSRuN60IKQ1",
        "outputId": "9573c019-641c-4ade-cd75-aeca3efa23c0"
      },
      "execution_count": null,
      "outputs": [
        {
          "output_type": "stream",
          "name": "stdout",
          "text": [
            "Model: \"sequential_2\"\n",
            "_________________________________________________________________\n",
            " Layer (type)                Output Shape              Param #   \n",
            "=================================================================\n",
            " dense_4 (Dense)             (None, 4)                 32        \n",
            "                                                                 \n",
            " dense_5 (Dense)             (None, 1)                 5         \n",
            "                                                                 \n",
            "=================================================================\n",
            "Total params: 37\n",
            "Trainable params: 37\n",
            "Non-trainable params: 0\n",
            "_________________________________________________________________\n"
          ]
        }
      ]
    },
    {
      "cell_type": "code",
      "source": [
        "from tensorflow.keras.datasets import mnist\n",
        "\n",
        "(X_train, y_train), (X_test, y_test) = mnist.load_data()\n",
        "# 0 - 255\n",
        "X_train = X_train / 255.0\n",
        "X_test = X_test / 255.0"
      ],
      "metadata": {
        "colab": {
          "base_uri": "https://localhost:8080/"
        },
        "id": "YUV1J5KJI5um",
        "outputId": "f15b7068-627f-431a-aef7-fac1f2fc3b39"
      },
      "execution_count": null,
      "outputs": [
        {
          "output_type": "stream",
          "name": "stdout",
          "text": [
            "Downloading data from https://storage.googleapis.com/tensorflow/tf-keras-datasets/mnist.npz\n",
            "11493376/11490434 [==============================] - 0s 0us/step\n",
            "11501568/11490434 [==============================] - 0s 0us/step\n"
          ]
        }
      ]
    },
    {
      "cell_type": "code",
      "source": [
        "import matplotlib.pyplot as plt\n",
        "\n",
        "def show_image(image):\n",
        "  plt.imshow(image, cmap='binary')"
      ],
      "metadata": {
        "id": "bQzEeMBiKCed"
      },
      "execution_count": null,
      "outputs": []
    },
    {
      "cell_type": "code",
      "source": [
        "show_image(X_train[100])\n",
        "print(y_train[100])"
      ],
      "metadata": {
        "colab": {
          "base_uri": "https://localhost:8080/",
          "height": 283
        },
        "id": "y4G5oaIxKU3L",
        "outputId": "5ce0dd9c-30d9-4b7c-dc73-6097340df808"
      },
      "execution_count": null,
      "outputs": [
        {
          "output_type": "stream",
          "name": "stdout",
          "text": [
            "5\n"
          ]
        },
        {
          "output_type": "display_data",
          "data": {
            "text/plain": [
              "<Figure size 432x288 with 1 Axes>"
            ],
            "image/png": "[encoded data removed]"
          },
          "metadata": {
            "needs_background": "light"
          }
        }
      ]
    },
    {
      "cell_type": "code",
      "source": [
        "from sklearn.model_selection import train_test_split\n",
        "\n",
        "X_train, X_val, y_train, y_val = train_test_split(X_train, y_train, test_size=0.1, random_state=46)"
      ],
      "metadata": {
        "id": "2VM6Y0d5KX-4"
      },
      "execution_count": null,
      "outputs": []
    },
    {
      "cell_type": "code",
      "source": [
        "set(y_train)"
      ],
      "metadata": {
        "colab": {
          "base_uri": "https://localhost:8080/"
        },
        "id": "_TN7ktFZKzZU",
        "outputId": "b5163c07-e3dd-4e98-dad5-f83253cf4e72"
      },
      "execution_count": null,
      "outputs": [
        {
          "output_type": "execute_result",
          "data": {
            "text/plain": [
              "{0, 1, 2, 3, 4, 5, 6, 7, 8, 9}"
            ]
          },
          "metadata": {},
          "execution_count": 47
        }
      ]
    },
    {
      "cell_type": "code",
      "source": [
        "# siapkan label dengan One Hot Encoding (wajib untuk multiclass)\n",
        "from tensorflow.keras.utils import to_categorical\n",
        "\n",
        "y_train_ohe = to_categorical(y_train)\n",
        "y_val_ohe = to_categorical(y_val)\n",
        "y_test_ohe = to_categorical(y_test)"
      ],
      "metadata": {
        "id": "QQdEJ_CoK3tT"
      },
      "execution_count": null,
      "outputs": []
    },
    {
      "cell_type": "code",
      "source": [
        "X_test.shape"
      ],
      "metadata": {
        "colab": {
          "base_uri": "https://localhost:8080/"
        },
        "id": "qSd54QmyNEyi",
        "outputId": "4e77ae31-90cc-4efe-95b2-4e50de626660"
      },
      "execution_count": null,
      "outputs": [
        {
          "output_type": "execute_result",
          "data": {
            "text/plain": [
              "(10000, 28, 28)"
            ]
          },
          "metadata": {},
          "execution_count": 59
        }
      ]
    },
    {
      "cell_type": "code",
      "source": [
        "# funtional API\n",
        "from tensorflow.keras.models import Model\n",
        "from tensorflow.keras.layers import Input, Dense, Flatten, Dropout\n",
        "\n",
        "\n",
        "\"\"\"\n",
        "contoh model sequential dengan arsitektur yang sama\n",
        "\n",
        "model = Sequential()\n",
        "model.add(Flatten(input_shape=(28, 28)))\n",
        "model.add(Dense(256, activation='elu'))\n",
        "model.add(Dense(32, activation='elu'))\n",
        "model.add(Dense(10, activation='softmax'))\n",
        "\n",
        "\"\"\"\n",
        "# deklarasikan arsitektur\n",
        "data_in = Input(shape=(28,28))\n",
        "data_flat = Flatten()(data_in)\n",
        "data_drop = Dropout(0.25)(data_flat)\n",
        "hidden_1 = Dense(256, activation='elu')(data_drop)\n",
        "hidden_drop = Dropout(0.25)(hidden_1)\n",
        "hidden_2 = Dense(32, activation='elu')(hidden_drop)\n",
        "hidden_drop_2 = Dropout(0.25)(hidden_2)\n",
        "out = Dense(10, activation='softmax')(hidden_drop_2)\n",
        "\n",
        "model = Model(inputs=data_in, outputs=out)\n",
        "\n",
        "# compile\n",
        "model.compile(loss='categorical_crossentropy',\n",
        "              optimizer='adam', # paling modern\n",
        "              metrics=['accuracy'])\n",
        "\n",
        "# train\n",
        "history = model.fit(X_train, y_train_ohe, epochs=30, validation_data=(X_val, y_val_ohe))"
      ],
      "metadata": {
        "colab": {
          "base_uri": "https://localhost:8080/"
        },
        "id": "r03TNubQL6LD",
        "outputId": "dfa38ecd-da58-4617-d817-4fc1cb81de03"
      },
      "execution_count": null,
      "outputs": [
        {
          "output_type": "stream",
          "name": "stdout",
          "text": [
            "Epoch 1/30\n",
            "1688/1688 [==============================] - 8s 4ms/step - loss: 0.4638 - accuracy: 0.8580 - val_loss: 0.1826 - val_accuracy: 0.9438\n",
            "Epoch 2/30\n",
            "1688/1688 [==============================] - 7s 4ms/step - loss: 0.2787 - accuracy: 0.9155 - val_loss: 0.1197 - val_accuracy: 0.9625\n",
            "Epoch 3/30\n",
            "1688/1688 [==============================] - 7s 4ms/step - loss: 0.2231 - accuracy: 0.9336 - val_loss: 0.0932 - val_accuracy: 0.9723\n",
            "Epoch 4/30\n",
            "1688/1688 [==============================] - 7s 4ms/step - loss: 0.1950 - accuracy: 0.9417 - val_loss: 0.0869 - val_accuracy: 0.9750\n",
            "Epoch 5/30\n",
            "1688/1688 [==============================] - 7s 4ms/step - loss: 0.1727 - accuracy: 0.9475 - val_loss: 0.0866 - val_accuracy: 0.9727\n",
            "Epoch 6/30\n",
            "1688/1688 [==============================] - 7s 4ms/step - loss: 0.1585 - accuracy: 0.9516 - val_loss: 0.0689 - val_accuracy: 0.9785\n",
            "Epoch 7/30\n",
            "1688/1688 [==============================] - 7s 4ms/step - loss: 0.1457 - accuracy: 0.9565 - val_loss: 0.0695 - val_accuracy: 0.9792\n",
            "Epoch 8/30\n",
            "1688/1688 [==============================] - 7s 4ms/step - loss: 0.1356 - accuracy: 0.9587 - val_loss: 0.0653 - val_accuracy: 0.9782\n",
            "Epoch 9/30\n",
            "1688/1688 [==============================] - 7s 4ms/step - loss: 0.1292 - accuracy: 0.9615 - val_loss: 0.0621 - val_accuracy: 0.9798\n",
            "Epoch 10/30\n",
            "1688/1688 [==============================] - 7s 4ms/step - loss: 0.1234 - accuracy: 0.9629 - val_loss: 0.0659 - val_accuracy: 0.9802\n",
            "Epoch 11/30\n",
            "1688/1688 [==============================] - 7s 4ms/step - loss: 0.1151 - accuracy: 0.9651 - val_loss: 0.0600 - val_accuracy: 0.9832\n",
            "Epoch 12/30\n",
            "1688/1688 [==============================] - 8s 5ms/step - loss: 0.1107 - accuracy: 0.9660 - val_loss: 0.0575 - val_accuracy: 0.9823\n",
            "Epoch 13/30\n",
            "1688/1688 [==============================] - 7s 4ms/step - loss: 0.1043 - accuracy: 0.9678 - val_loss: 0.0593 - val_accuracy: 0.9817\n",
            "Epoch 14/30\n",
            "1688/1688 [==============================] - 7s 4ms/step - loss: 0.1023 - accuracy: 0.9698 - val_loss: 0.0623 - val_accuracy: 0.9818\n",
            "Epoch 15/30\n",
            "1688/1688 [==============================] - 7s 4ms/step - loss: 0.0983 - accuracy: 0.9695 - val_loss: 0.0568 - val_accuracy: 0.9840\n",
            "Epoch 16/30\n",
            "1688/1688 [==============================] - 7s 4ms/step - loss: 0.1004 - accuracy: 0.9691 - val_loss: 0.0536 - val_accuracy: 0.9832\n",
            "Epoch 17/30\n",
            "1688/1688 [==============================] - 7s 4ms/step - loss: 0.0952 - accuracy: 0.9708 - val_loss: 0.0574 - val_accuracy: 0.9820\n",
            "Epoch 18/30\n",
            "1688/1688 [==============================] - 7s 4ms/step - loss: 0.0948 - accuracy: 0.9708 - val_loss: 0.0551 - val_accuracy: 0.9848\n",
            "Epoch 19/30\n",
            "1688/1688 [==============================] - 7s 4ms/step - loss: 0.0894 - accuracy: 0.9726 - val_loss: 0.0490 - val_accuracy: 0.9860\n",
            "Epoch 20/30\n",
            "1688/1688 [==============================] - 7s 4ms/step - loss: 0.0861 - accuracy: 0.9731 - val_loss: 0.0598 - val_accuracy: 0.9817\n",
            "Epoch 21/30\n",
            "1688/1688 [==============================] - 7s 4ms/step - loss: 0.0863 - accuracy: 0.9731 - val_loss: 0.0497 - val_accuracy: 0.9858\n",
            "Epoch 22/30\n",
            "1688/1688 [==============================] - 7s 4ms/step - loss: 0.0815 - accuracy: 0.9745 - val_loss: 0.0599 - val_accuracy: 0.9820\n",
            "Epoch 23/30\n",
            "1688/1688 [==============================] - 7s 4ms/step - loss: 0.0841 - accuracy: 0.9741 - val_loss: 0.0576 - val_accuracy: 0.9833\n",
            "Epoch 24/30\n",
            "1688/1688 [==============================] - 7s 4ms/step - loss: 0.0834 - accuracy: 0.9740 - val_loss: 0.0468 - val_accuracy: 0.9867\n",
            "Epoch 25/30\n",
            "1688/1688 [==============================] - 7s 4ms/step - loss: 0.0783 - accuracy: 0.9762 - val_loss: 0.0493 - val_accuracy: 0.9853\n",
            "Epoch 26/30\n",
            "1688/1688 [==============================] - 7s 4ms/step - loss: 0.0806 - accuracy: 0.9753 - val_loss: 0.0477 - val_accuracy: 0.9858\n",
            "Epoch 27/30\n",
            "1688/1688 [==============================] - 7s 4ms/step - loss: 0.0779 - accuracy: 0.9751 - val_loss: 0.0518 - val_accuracy: 0.9853\n",
            "Epoch 28/30\n",
            "1688/1688 [==============================] - 7s 4ms/step - loss: 0.0766 - accuracy: 0.9756 - val_loss: 0.0477 - val_accuracy: 0.9858\n",
            "Epoch 29/30\n",
            "1688/1688 [==============================] - 7s 4ms/step - loss: 0.0726 - accuracy: 0.9772 - val_loss: 0.0468 - val_accuracy: 0.9847\n",
            "Epoch 30/30\n",
            "1688/1688 [==============================] - 7s 4ms/step - loss: 0.0739 - accuracy: 0.9764 - val_loss: 0.0466 - val_accuracy: 0.9862\n"
          ]
        }
      ]
    },
    {
      "cell_type": "code",
      "source": [
        "model.summary()"
      ],
      "metadata": {
        "colab": {
          "base_uri": "https://localhost:8080/"
        },
        "id": "nayKGJp6Oq3J",
        "outputId": "83a84ec4-2178-4a35-d6da-22d5f52de71e"
      },
      "execution_count": null,
      "outputs": [
        {
          "output_type": "stream",
          "name": "stdout",
          "text": [
            "Model: \"model_4\"\n",
            "_________________________________________________________________\n",
            " Layer (type)                Output Shape              Param #   \n",
            "=================================================================\n",
            " input_5 (InputLayer)        [(None, 28, 28)]          0         \n",
            "                                                                 \n",
            " flatten_4 (Flatten)         (None, 784)               0         \n",
            "                                                                 \n",
            " dropout_3 (Dropout)         (None, 784)               0         \n",
            "                                                                 \n",
            " dense_18 (Dense)            (None, 256)               200960    \n",
            "                                                                 \n",
            " dropout_4 (Dropout)         (None, 256)               0         \n",
            "                                                                 \n",
            " dense_19 (Dense)            (None, 32)                8224      \n",
            "                                                                 \n",
            " dropout_5 (Dropout)         (None, 32)                0         \n",
            "                                                                 \n",
            " dense_20 (Dense)            (None, 10)                330       \n",
            "                                                                 \n",
            "=================================================================\n",
            "Total params: 209,514\n",
            "Trainable params: 209,514\n",
            "Non-trainable params: 0\n",
            "_________________________________________________________________\n"
          ]
        }
      ]
    },
    {
      "cell_type": "code",
      "source": [
        "import pandas as pd\n",
        "metrics = pd.DataFrame(history.history)\n",
        "metrics[['loss', 'val_loss']].plot();"
      ],
      "metadata": {
        "colab": {
          "base_uri": "https://localhost:8080/",
          "height": 265
        },
        "id": "XqWtAUeOUpKm",
        "outputId": "fe144626-2f4e-4319-dcc5-8d6f0b630b49"
      },
      "execution_count": null,
      "outputs": [
        {
          "output_type": "display_data",
          "data": {
            "text/plain": [
              "<Figure size 432x288 with 1 Axes>"
            ],
            "image/png": "[encoded data removed]"
          },
          "metadata": {
            "needs_background": "light"
          }
        }
      ]
    },
    {
      "cell_type": "code",
      "source": [
        "new_data = X_test[200]\n",
        "\n",
        "show_image(new_data)"
      ],
      "metadata": {
        "colab": {
          "base_uri": "https://localhost:8080/",
          "height": 265
        },
        "id": "UZOvHg6cOuLq",
        "outputId": "cd915d89-d963-4000-8b2d-e41ce84b4a92"
      },
      "execution_count": null,
      "outputs": [
        {
          "output_type": "display_data",
          "data": {
            "text/plain": [
              "<Figure size 432x288 with 1 Axes>"
            ],
            "image/png": "[encoded data removed]"
          },
          "metadata": {
            "needs_background": "light"
          }
        }
      ]
    },
    {
      "cell_type": "code",
      "source": [
        "new_data.shape"
      ],
      "metadata": {
        "colab": {
          "base_uri": "https://localhost:8080/"
        },
        "id": "4_Da0204TiwW",
        "outputId": "fe2f5573-e7f0-432d-a795-a57ca6658913"
      },
      "execution_count": null,
      "outputs": [
        {
          "output_type": "execute_result",
          "data": {
            "text/plain": [
              "(28, 28)"
            ]
          },
          "metadata": {},
          "execution_count": 77
        }
      ]
    },
    {
      "cell_type": "code",
      "source": [
        "res = model.predict(new_data.reshape(1, 28, 28))\n",
        "res.argmax()"
      ],
      "metadata": {
        "colab": {
          "base_uri": "https://localhost:8080/"
        },
        "id": "t1m3VJjGTQrq",
        "outputId": "0babf7f7-5bfb-4521-93cc-544346cd37bd"
      },
      "execution_count": null,
      "outputs": [
        {
          "output_type": "execute_result",
          "data": {
            "text/plain": [
              "3"
            ]
          },
          "metadata": {},
          "execution_count": 78
        }
      ]
    },
    {
      "cell_type": "code",
      "source": [
        "from sklearn.metrics import classification_report\n",
        "\n",
        "y_pred = model.predict(X_test)\n",
        "y_pred = y_pred.argmax(axis=1)\n",
        "print(classification_report(y_test, y_pred))"
      ],
      "metadata": {
        "colab": {
          "base_uri": "https://localhost:8080/"
        },
        "id": "1_coTusITXkr",
        "outputId": "acfd4e9d-68fc-4977-9722-a06da7f6a438"
      },
      "execution_count": null,
      "outputs": [
        {
          "output_type": "stream",
          "name": "stdout",
          "text": [
            "              precision    recall  f1-score   support\n",
            "\n",
            "           0       0.99      0.99      0.99       980\n",
            "           1       0.99      0.99      0.99      1135\n",
            "           2       0.99      0.97      0.98      1032\n",
            "           3       0.97      0.99      0.98      1010\n",
            "           4       0.98      0.98      0.98       982\n",
            "           5       0.99      0.97      0.98       892\n",
            "           6       0.98      0.99      0.99       958\n",
            "           7       0.99      0.98      0.98      1028\n",
            "           8       0.96      0.99      0.97       974\n",
            "           9       0.99      0.96      0.98      1009\n",
            "\n",
            "    accuracy                           0.98     10000\n",
            "   macro avg       0.98      0.98      0.98     10000\n",
            "weighted avg       0.98      0.98      0.98     10000\n",
            "\n"
          ]
        }
      ]
    },
    {
      "cell_type": "code",
      "source": [
        ""
      ],
      "metadata": {
        "id": "BdavK53OUVCs"
      },
      "execution_count": null,
      "outputs": []
    }
  ]
}