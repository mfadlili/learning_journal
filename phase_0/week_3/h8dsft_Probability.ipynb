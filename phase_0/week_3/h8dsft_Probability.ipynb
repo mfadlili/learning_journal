{
  "nbformat": 4,
  "nbformat_minor": 0,
  "metadata": {
    "colab": {
      "name": "h8dsft_Probability.ipynb",
      "provenance": [],
      "collapsed_sections": []
    },
    "kernelspec": {
      "name": "python3",
      "display_name": "Python 3"
    },
    "language_info": {
      "name": "python"
    }
  },
  "cells": [
    {
      "cell_type": "markdown",
      "source": [
        "# Non Graded Challenge 10\n",
        "- Muhammad Fadlil Ismail\n",
        "- FTDS Batch 10 Phase 0"
      ],
      "metadata": {
        "id": "2JwmkgLIt4aK"
      }
    },
    {
      "cell_type": "markdown",
      "source": [
        "## Soal\n",
        "Buatlah sebuah kode untuk mensimulasikan melempar koin sebanyak 50.000 kali dengan assign value random berupa 0 dan 1 untuk kepala atau ekor. Setiap kali koin dilempar, peluang untuk mendapatkan kepala atau ekor adalah 50%."
      ],
      "metadata": {
        "id": "nXtNtCY1uRDX"
      }
    },
    {
      "cell_type": "markdown",
      "source": [
        "### Import Library"
      ],
      "metadata": {
        "id": "YjeZKF9uuXjL"
      }
    },
    {
      "cell_type": "code",
      "execution_count": 13,
      "metadata": {
        "id": "6cMczof-sXWh"
      },
      "outputs": [],
      "source": [
        "import numpy as np\n",
        "import matplotlib.pyplot as plt"
      ]
    },
    {
      "cell_type": "markdown",
      "source": [
        "### Buat Data"
      ],
      "metadata": {
        "id": "8EnIQNxgucPz"
      }
    },
    {
      "cell_type": "markdown",
      "source": [
        "Buat data menggunakan np.random.choice()."
      ],
      "metadata": {
        "id": "jdvr3-TfvcyF"
      }
    },
    {
      "cell_type": "code",
      "source": [
        "lst = []\n",
        "for i in range(50000):\n",
        "  lst.append(np.random.choice([0,1]))"
      ],
      "metadata": {
        "id": "GcvL3qsPsbIP"
      },
      "execution_count": 8,
      "outputs": []
    },
    {
      "cell_type": "markdown",
      "source": [
        "Pisahkan data kepala (0) dan ekor (1) untuk dihitung jumlahnya masing-masing."
      ],
      "metadata": {
        "id": "yjgHHX1kvkwy"
      }
    },
    {
      "cell_type": "code",
      "source": [
        "kepala = [i for i in lst if i==0]\n",
        "ekor = [i for i in lst if i==1]"
      ],
      "metadata": {
        "id": "RdnyuAXgs5E2"
      },
      "execution_count": 10,
      "outputs": []
    },
    {
      "cell_type": "markdown",
      "source": [
        "### Hasil"
      ],
      "metadata": {
        "id": "N3QCVRxdufZE"
      }
    },
    {
      "cell_type": "code",
      "source": [
        "print(len(kepala))\n",
        "print(len(ekor))"
      ],
      "metadata": {
        "colab": {
          "base_uri": "https://localhost:8080/"
        },
        "id": "GgBfed30tro6",
        "outputId": "4309aef7-23ea-4f75-f70b-ce0b5bec5a27"
      },
      "execution_count": 11,
      "outputs": [
        {
          "output_type": "stream",
          "name": "stdout",
          "text": [
            "25198\n",
            "24802\n"
          ]
        }
      ]
    },
    {
      "cell_type": "code",
      "source": [
        "plt.bar(np.array(['kepala', 'ekor']), np.array([len(kepala), len(ekor)]))"
      ],
      "metadata": {
        "colab": {
          "base_uri": "https://localhost:8080/",
          "height": 283
        },
        "id": "7Vji4HB7ukGa",
        "outputId": "68f304fb-4e45-444d-b1cd-fc3b875bbc66"
      },
      "execution_count": 16,
      "outputs": [
        {
          "output_type": "execute_result",
          "data": {
            "text/plain": [
              "<BarContainer object of 2 artists>"
            ]
          },
          "metadata": {},
          "execution_count": 16
        },
        {
          "output_type": "display_data",
          "data": {
            "text/plain": [
              "<Figure size 432x288 with 1 Axes>"
            ],
            "image/png": "[encoded data removed]"
          },
          "metadata": {
            "needs_background": "light"
          }
        }
      ]
    },
    {
      "cell_type": "markdown",
      "source": [
        "Didapatkan hasil untuk pelemparan koin sebanyak 50000 kali sebagai berikut:\n",
        "- Kepala sebanyak 25198 kali.\n",
        "- Ekor sebanyak 24802 kali."
      ],
      "metadata": {
        "id": "1z73FwCqv09v"
      }
    }
  ]
}