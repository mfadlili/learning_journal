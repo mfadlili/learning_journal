{
 "cells": [
  {
   "cell_type": "markdown",
   "metadata": {},
   "source": [
    "# Celcius-Kelvin Temperature Converter"
   ]
  },
  {
   "cell_type": "markdown",
   "metadata": {},
   "source": [
    "##### Fungsi ini dapat digunakan untuk mengonversi suhu dari Celcius ke Kelvin ataupun sebaliknya. Input pada fungsi ini ada dua yaitu :\n",
    "##### value (int) : nilai suhu Celcius atau Kelvin yang akan dikonversi\n",
    "##### unit (str) : satuan dari value, c atau C untuk Celcius, k atau K untuk Kelvin"
   ]
  },
  {
   "cell_type": "code",
   "execution_count": 127,
   "metadata": {},
   "outputs": [],
   "source": [
    "def celcius_kelvin(value, unit):\n",
    "  if unit.lower()=='c':\n",
    "    value += 273.15\n",
    "    return value\n",
    "  elif unit.lower()=='k':\n",
    "    value = round(value-273.15,2)\n",
    "    return value\n",
    "  else:\n",
    "    return 'Satuan salah.'"
   ]
  },
  {
   "cell_type": "code",
   "execution_count": 128,
   "metadata": {},
   "outputs": [
    {
     "name": "stdout",
     "output_type": "stream",
     "text": [
      "303.15\n",
      "26.85\n",
      "Satuan salah.\n"
     ]
    }
   ],
   "source": [
    "# Contoh\n",
    "print(celcius_kelvin(30,'c')) #konversi 30 C ke K\n",
    "print(celcius_kelvin(300,'k')) #konversi 300 K ke C\n",
    "print(celcius_kelvin(300,'a')) #satuan salah"
   ]
  },
  {
   "cell_type": "markdown",
   "metadata": {},
   "source": [
    "# Fahrenheit Tempareture Converter 1"
   ]
  },
  {
   "cell_type": "markdown",
   "metadata": {},
   "source": [
    "##### Fungsi ini dapat digunakan untuk mengonversi suhu dari Celcius atau Kelvin ke Fahrenheit. Input pada fungsi ini ada dua yaitu :\n",
    "##### value (int) : nilai suhu Celcius atau Kelvin yang akan dikonversi\n",
    "##### unit (str) : satuan dari value, c atau C untuk Celcius, k atau K untuk Kelvin"
   ]
  },
  {
   "cell_type": "code",
   "execution_count": 129,
   "metadata": {},
   "outputs": [],
   "source": [
    "def celcius_kelvin_to_fahrenheit(value, unit):\n",
    "  if unit.lower()=='c':\n",
    "    return round(value*9/5+32,2)\n",
    "  elif unit.lower()=='k':\n",
    "    tem_c = celcius_kelvin(value, unit)\n",
    "    return round(celcius_kelvin_to_fahrenheit(tem_c, 'c'),2)\n",
    "  else:\n",
    "    return 'Satuan salah.'"
   ]
  },
  {
   "cell_type": "code",
   "execution_count": 130,
   "metadata": {},
   "outputs": [
    {
     "name": "stdout",
     "output_type": "stream",
     "text": [
      "80.33\n",
      "86.0\n",
      "Satuan salah.\n"
     ]
    }
   ],
   "source": [
    "#Contoh\n",
    "print(celcius_kelvin_to_fahrenheit(300, 'k')) #konversi 300 K ke F\n",
    "print(celcius_kelvin_to_fahrenheit(30, 'c')) #konversi 30 C ke F\n",
    "print(celcius_kelvin_to_fahrenheit(300, 'a')) #contoh salah"
   ]
  },
  {
   "cell_type": "markdown",
   "metadata": {},
   "source": [
    "# Fahrenheit Tempareture Converter 2"
   ]
  },
  {
   "cell_type": "markdown",
   "metadata": {},
   "source": [
    "##### Fungsi ini dapat digunakan untuk mengonversi suhu dari Fahrenheit ke Celcius atau Kelvin. Input pada fungsi ini ada dua yaitu :\n",
    "##### value (int) : nilai suhu Fahrenheit yang akan dikonversi\n",
    "##### to_unit (str) : suhu tujuan, c atau C untuk Celcius, k atau K untuk Kelvin"
   ]
  },
  {
   "cell_type": "code",
   "execution_count": 131,
   "metadata": {},
   "outputs": [],
   "source": [
    "def fahrenheit_to_celcius_kelvin(value, to_unit):\n",
    "  if to_unit.lower()=='c':\n",
    "    return round(5/9*(value-32),2)\n",
    "  elif to_unit.lower()=='k':\n",
    "    tem_c = fahrenheit_to_celcius_kelvin(value, 'c')\n",
    "    return round(celcius_kelvin(tem_c, 'c'),2)\n",
    "  else :\n",
    "    return 'wrong unit'\n"
   ]
  },
  {
   "cell_type": "code",
   "execution_count": 132,
   "metadata": {},
   "outputs": [
    {
     "name": "stdout",
     "output_type": "stream",
     "text": [
      "204.44\n",
      "477.59\n",
      "wrong unit\n"
     ]
    }
   ],
   "source": [
    "#Contoh\n",
    "print(fahrenheit_to_celcius_kelvin(400, 'c')) #konversi 400 F ke C\n",
    "print(fahrenheit_to_celcius_kelvin(400, 'k')) #konversi 400 F ke K\n",
    "print(fahrenheit_to_celcius_kelvin(400, 's')) #contoh salah"
   ]
  }
 ],
 "metadata": {
  "interpreter": {
   "hash": "b645e3867bbeb26c2dd5973a2081989c7357f5a5453332cd8717c6976422f197"
  },
  "kernelspec": {
   "display_name": "Python 3.9.7 ('base')",
   "language": "python",
   "name": "python3"
  },
  "language_info": {
   "codemirror_mode": {
    "name": "ipython",
    "version": 3
   },
   "file_extension": ".py",
   "mimetype": "text/x-python",
   "name": "python",
   "nbconvert_exporter": "python",
   "pygments_lexer": "ipython3",
   "version": "3.9.7"
  },
  "orig_nbformat": 4
 },
 "nbformat": 4,
 "nbformat_minor": 2
}
